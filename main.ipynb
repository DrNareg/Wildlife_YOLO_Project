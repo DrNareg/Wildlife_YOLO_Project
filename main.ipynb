{
 "cells": [
  {
   "cell_type": "code",
   "execution_count": 3,
   "id": "1dd28c2c-2a09-4181-b272-28e85665c3f8",
   "metadata": {},
   "outputs": [
    {
     "name": "stdout",
     "output_type": "stream",
     "text": [
      "New https://pypi.org/project/ultralytics/8.3.67 available 😃 Update with 'pip install -U ultralytics'\n",
      "Ultralytics 8.3.63 🚀 Python-3.12.6 torch-2.5.1+cu124 CUDA:0 (NVIDIA A100-SXM4-40GB, 40339MiB)\n",
      "\u001b[34m\u001b[1mengine/trainer: \u001b[0mtask=detect, mode=train, model=yolo11m.pt, data=/home/jupyter-nareg/PEARC/wild_animal1-1/data.yaml, epochs=100, time=None, patience=100, batch=8, imgsz=640, save=True, save_period=-1, cache=False, device=0, workers=0, project=None, name=train5, exist_ok=False, pretrained=True, optimizer=auto, verbose=True, seed=0, deterministic=True, single_cls=False, rect=False, cos_lr=False, close_mosaic=10, resume=False, amp=False, fraction=1.0, profile=False, freeze=None, multi_scale=False, overlap_mask=True, mask_ratio=4, dropout=0.0, val=True, split=val, save_json=False, save_hybrid=False, conf=None, iou=0.7, max_det=300, half=False, dnn=False, plots=True, source=None, vid_stride=1, stream_buffer=False, visualize=False, augment=False, agnostic_nms=False, classes=None, retina_masks=False, embed=None, show=False, save_frames=False, save_txt=False, save_conf=False, save_crop=False, show_labels=True, show_conf=True, show_boxes=True, line_width=None, format=torchscript, keras=False, optimize=False, int8=False, dynamic=False, simplify=True, opset=None, workspace=None, nms=False, lr0=0.01, lrf=0.01, momentum=0.937, weight_decay=0.0005, warmup_epochs=3.0, warmup_momentum=0.8, warmup_bias_lr=0.1, box=7.5, cls=0.5, dfl=1.5, pose=12.0, kobj=1.0, nbs=64, hsv_h=0.015, hsv_s=0.7, hsv_v=0.4, degrees=0.0, translate=0.1, scale=0.5, shear=0.0, perspective=0.0, flipud=0.0, fliplr=0.5, bgr=0.0, mosaic=1.0, mixup=0.0, copy_paste=0.0, copy_paste_mode=flip, auto_augment=randaugment, erasing=0.4, crop_fraction=1.0, cfg=None, tracker=botsort.yaml, save_dir=runs/detect/train5\n",
      "Overriding model.yaml nc=80 with nc=1\n",
      "\n",
      "                   from  n    params  module                                       arguments                     \n",
      "  0                  -1  1      1856  ultralytics.nn.modules.conv.Conv             [3, 64, 3, 2]                 \n",
      "  1                  -1  1     73984  ultralytics.nn.modules.conv.Conv             [64, 128, 3, 2]               \n",
      "  2                  -1  1    111872  ultralytics.nn.modules.block.C3k2            [128, 256, 1, True, 0.25]     \n",
      "  3                  -1  1    590336  ultralytics.nn.modules.conv.Conv             [256, 256, 3, 2]              \n",
      "  4                  -1  1    444928  ultralytics.nn.modules.block.C3k2            [256, 512, 1, True, 0.25]     \n",
      "  5                  -1  1   2360320  ultralytics.nn.modules.conv.Conv             [512, 512, 3, 2]              \n",
      "  6                  -1  1   1380352  ultralytics.nn.modules.block.C3k2            [512, 512, 1, True]           \n",
      "  7                  -1  1   2360320  ultralytics.nn.modules.conv.Conv             [512, 512, 3, 2]              \n",
      "  8                  -1  1   1380352  ultralytics.nn.modules.block.C3k2            [512, 512, 1, True]           \n",
      "  9                  -1  1    656896  ultralytics.nn.modules.block.SPPF            [512, 512, 5]                 \n",
      " 10                  -1  1    990976  ultralytics.nn.modules.block.C2PSA           [512, 512, 1]                 \n",
      " 11                  -1  1         0  torch.nn.modules.upsampling.Upsample         [None, 2, 'nearest']          \n",
      " 12             [-1, 6]  1         0  ultralytics.nn.modules.conv.Concat           [1]                           \n",
      " 13                  -1  1   1642496  ultralytics.nn.modules.block.C3k2            [1024, 512, 1, True]          \n",
      " 14                  -1  1         0  torch.nn.modules.upsampling.Upsample         [None, 2, 'nearest']          \n",
      " 15             [-1, 4]  1         0  ultralytics.nn.modules.conv.Concat           [1]                           \n",
      " 16                  -1  1    542720  ultralytics.nn.modules.block.C3k2            [1024, 256, 1, True]          \n",
      " 17                  -1  1    590336  ultralytics.nn.modules.conv.Conv             [256, 256, 3, 2]              \n",
      " 18            [-1, 13]  1         0  ultralytics.nn.modules.conv.Concat           [1]                           \n",
      " 19                  -1  1   1511424  ultralytics.nn.modules.block.C3k2            [768, 512, 1, True]           \n",
      " 20                  -1  1   2360320  ultralytics.nn.modules.conv.Conv             [512, 512, 3, 2]              \n",
      " 21            [-1, 10]  1         0  ultralytics.nn.modules.conv.Concat           [1]                           \n",
      " 22                  -1  1   1642496  ultralytics.nn.modules.block.C3k2            [1024, 512, 1, True]          \n",
      " 23        [16, 19, 22]  1   1411795  ultralytics.nn.modules.head.Detect           [1, [256, 512, 512]]          \n",
      "YOLO11m summary: 409 layers, 20,053,779 parameters, 20,053,763 gradients, 68.2 GFLOPs\n",
      "\n",
      "Transferred 643/649 items from pretrained weights\n",
      "Freezing layer 'model.23.dfl.conv.weight'\n"
     ]
    },
    {
     "name": "stderr",
     "output_type": "stream",
     "text": [
      "\u001b[34m\u001b[1mtrain: \u001b[0mScanning /home/jupyter-nareg/PEARC/wild_animal1-1/train/labels.cache... 8510 images, 12 backgrounds, 0 corrupt: 100%|██████████| 8510/8510 [00:00<?, ?it/s]"
     ]
    },
    {
     "name": "stdout",
     "output_type": "stream",
     "text": [
      "WARNING ⚠️ Box and segment counts should be equal, but got len(segments) = 394, len(boxes) = 10560. To resolve this only boxes will be used and all segments will be removed. To avoid this please supply either a detect or segment dataset, not a detect-segment mixed dataset.\n"
     ]
    },
    {
     "name": "stderr",
     "output_type": "stream",
     "text": [
      "\n",
      "\u001b[34m\u001b[1mval: \u001b[0mScanning /home/jupyter-nareg/PEARC/wild_animal1-1/valid/labels.cache... 851 images, 0 backgrounds, 0 corrupt: 100%|██████████| 851/851 [00:00<?, ?it/s]"
     ]
    },
    {
     "name": "stdout",
     "output_type": "stream",
     "text": [
      "WARNING ⚠️ Box and segment counts should be equal, but got len(segments) = 43, len(boxes) = 1040. To resolve this only boxes will be used and all segments will be removed. To avoid this please supply either a detect or segment dataset, not a detect-segment mixed dataset.\n",
      "Plotting labels to runs/detect/train5/labels.jpg... \n"
     ]
    },
    {
     "name": "stderr",
     "output_type": "stream",
     "text": [
      "\n"
     ]
    },
    {
     "name": "stdout",
     "output_type": "stream",
     "text": [
      "\u001b[34m\u001b[1moptimizer:\u001b[0m 'optimizer=auto' found, ignoring 'lr0=0.01' and 'momentum=0.937' and determining best 'optimizer', 'lr0' and 'momentum' automatically... \n",
      "\u001b[34m\u001b[1moptimizer:\u001b[0m SGD(lr=0.01, momentum=0.9) with parameter groups 106 weight(decay=0.0), 113 weight(decay=0.0005), 112 bias(decay=0.0)\n",
      "Image sizes 640 train, 640 val\n",
      "Using 0 dataloader workers\n",
      "Logging results to \u001b[1mruns/detect/train5\u001b[0m\n",
      "Starting training for 100 epochs...\n",
      "\n",
      "      Epoch    GPU_mem   box_loss   cls_loss   dfl_loss  Instances       Size\n"
     ]
    },
    {
     "name": "stderr",
     "output_type": "stream",
     "text": [
      "      1/100      15.8G      1.295      1.209      1.686         21        640: 100%|██████████| 1064/1064 [03:20<00:00,  5.32it/s]\n",
      "                 Class     Images  Instances      Box(P          R      mAP50  mAP50-95): 100%|██████████| 54/54 [00:07<00:00,  7.35it/s]"
     ]
    },
    {
     "name": "stdout",
     "output_type": "stream",
     "text": [
      "                   all        851       1040      0.815      0.743      0.825      0.482\n"
     ]
    },
    {
     "name": "stderr",
     "output_type": "stream",
     "text": [
      "\n"
     ]
    },
    {
     "name": "stdout",
     "output_type": "stream",
     "text": [
      "\n",
      "      Epoch    GPU_mem   box_loss   cls_loss   dfl_loss  Instances       Size\n"
     ]
    },
    {
     "name": "stderr",
     "output_type": "stream",
     "text": [
      "      2/100      9.95G      1.347      1.206      1.706         23        640: 100%|██████████| 1064/1064 [03:26<00:00,  5.15it/s]\n",
      "                 Class     Images  Instances      Box(P          R      mAP50  mAP50-95): 100%|██████████| 54/54 [00:08<00:00,  6.63it/s]"
     ]
    },
    {
     "name": "stdout",
     "output_type": "stream",
     "text": [
      "                   all        851       1040      0.767      0.716      0.778      0.441\n"
     ]
    },
    {
     "name": "stderr",
     "output_type": "stream",
     "text": [
      "\n"
     ]
    },
    {
     "name": "stdout",
     "output_type": "stream",
     "text": [
      "\n",
      "      Epoch    GPU_mem   box_loss   cls_loss   dfl_loss  Instances       Size\n"
     ]
    },
    {
     "name": "stderr",
     "output_type": "stream",
     "text": [
      "      3/100      9.96G      1.468      1.428      1.811         17        640: 100%|██████████| 1064/1064 [03:21<00:00,  5.27it/s]\n",
      "                 Class     Images  Instances      Box(P          R      mAP50  mAP50-95): 100%|██████████| 54/54 [00:07<00:00,  7.40it/s]\n"
     ]
    },
    {
     "name": "stdout",
     "output_type": "stream",
     "text": [
      "                   all        851       1040      0.719      0.642      0.659      0.323\n",
      "\n",
      "      Epoch    GPU_mem   box_loss   cls_loss   dfl_loss  Instances       Size\n"
     ]
    },
    {
     "name": "stderr",
     "output_type": "stream",
     "text": [
      "      4/100      9.96G      1.535      1.526      1.856         20        640: 100%|██████████| 1064/1064 [03:15<00:00,  5.44it/s]\n",
      "                 Class     Images  Instances      Box(P          R      mAP50  mAP50-95): 100%|██████████| 54/54 [00:07<00:00,  7.40it/s]"
     ]
    },
    {
     "name": "stdout",
     "output_type": "stream",
     "text": [
      "                   all        851       1040      0.781      0.674       0.75      0.402\n"
     ]
    },
    {
     "name": "stderr",
     "output_type": "stream",
     "text": [
      "\n"
     ]
    },
    {
     "name": "stdout",
     "output_type": "stream",
     "text": [
      "\n",
      "      Epoch    GPU_mem   box_loss   cls_loss   dfl_loss  Instances       Size\n"
     ]
    },
    {
     "name": "stderr",
     "output_type": "stream",
     "text": [
      "      5/100      9.97G      1.469      1.439      1.806         18        640: 100%|██████████| 1064/1064 [03:15<00:00,  5.44it/s]\n",
      "                 Class     Images  Instances      Box(P          R      mAP50  mAP50-95): 100%|██████████| 54/54 [00:07<00:00,  7.42it/s]"
     ]
    },
    {
     "name": "stdout",
     "output_type": "stream",
     "text": [
      "                   all        851       1040      0.806      0.703      0.789      0.433\n"
     ]
    },
    {
     "name": "stderr",
     "output_type": "stream",
     "text": [
      "\n"
     ]
    },
    {
     "name": "stdout",
     "output_type": "stream",
     "text": [
      "\n",
      "      Epoch    GPU_mem   box_loss   cls_loss   dfl_loss  Instances       Size\n"
     ]
    },
    {
     "name": "stderr",
     "output_type": "stream",
     "text": [
      "      6/100      9.96G      1.412      1.358      1.762         13        640: 100%|██████████| 1064/1064 [03:15<00:00,  5.44it/s]\n",
      "                 Class     Images  Instances      Box(P          R      mAP50  mAP50-95): 100%|██████████| 54/54 [00:07<00:00,  7.42it/s]"
     ]
    },
    {
     "name": "stdout",
     "output_type": "stream",
     "text": [
      "                   all        851       1040      0.852      0.713      0.806      0.445\n"
     ]
    },
    {
     "name": "stderr",
     "output_type": "stream",
     "text": [
      "\n"
     ]
    },
    {
     "name": "stdout",
     "output_type": "stream",
     "text": [
      "\n",
      "      Epoch    GPU_mem   box_loss   cls_loss   dfl_loss  Instances       Size\n"
     ]
    },
    {
     "name": "stderr",
     "output_type": "stream",
     "text": [
      "      7/100      9.96G      1.384      1.271      1.729         18        640: 100%|██████████| 1064/1064 [03:15<00:00,  5.43it/s]\n",
      "                 Class     Images  Instances      Box(P          R      mAP50  mAP50-95): 100%|██████████| 54/54 [00:07<00:00,  7.38it/s]"
     ]
    },
    {
     "name": "stdout",
     "output_type": "stream",
     "text": [
      "                   all        851       1040      0.843      0.747      0.826      0.469\n"
     ]
    },
    {
     "name": "stderr",
     "output_type": "stream",
     "text": [
      "\n"
     ]
    },
    {
     "name": "stdout",
     "output_type": "stream",
     "text": [
      "\n",
      "      Epoch    GPU_mem   box_loss   cls_loss   dfl_loss  Instances       Size\n"
     ]
    },
    {
     "name": "stderr",
     "output_type": "stream",
     "text": [
      "      8/100      9.96G      1.351      1.232        1.7         17        640: 100%|██████████| 1064/1064 [03:16<00:00,  5.42it/s]\n",
      "                 Class     Images  Instances      Box(P          R      mAP50  mAP50-95): 100%|██████████| 54/54 [00:07<00:00,  7.31it/s]"
     ]
    },
    {
     "name": "stdout",
     "output_type": "stream",
     "text": [
      "                   all        851       1040      0.861      0.758      0.845      0.501\n"
     ]
    },
    {
     "name": "stderr",
     "output_type": "stream",
     "text": [
      "\n"
     ]
    },
    {
     "name": "stdout",
     "output_type": "stream",
     "text": [
      "\n",
      "      Epoch    GPU_mem   box_loss   cls_loss   dfl_loss  Instances       Size\n"
     ]
    },
    {
     "name": "stderr",
     "output_type": "stream",
     "text": [
      "      9/100      9.96G      1.327      1.193      1.683         18        640: 100%|██████████| 1064/1064 [03:19<00:00,  5.34it/s]\n",
      "                 Class     Images  Instances      Box(P          R      mAP50  mAP50-95): 100%|██████████| 54/54 [00:07<00:00,  7.37it/s]"
     ]
    },
    {
     "name": "stdout",
     "output_type": "stream",
     "text": [
      "                   all        851       1040      0.842      0.769      0.843      0.494\n"
     ]
    },
    {
     "name": "stderr",
     "output_type": "stream",
     "text": [
      "\n"
     ]
    },
    {
     "name": "stdout",
     "output_type": "stream",
     "text": [
      "\n",
      "      Epoch    GPU_mem   box_loss   cls_loss   dfl_loss  Instances       Size\n"
     ]
    },
    {
     "name": "stderr",
     "output_type": "stream",
     "text": [
      "     10/100      9.96G      1.308      1.163      1.661         19        640: 100%|██████████| 1064/1064 [03:16<00:00,  5.42it/s]\n",
      "                 Class     Images  Instances      Box(P          R      mAP50  mAP50-95): 100%|██████████| 54/54 [00:07<00:00,  7.42it/s]"
     ]
    },
    {
     "name": "stdout",
     "output_type": "stream",
     "text": [
      "                   all        851       1040      0.881      0.768      0.857      0.526\n"
     ]
    },
    {
     "name": "stderr",
     "output_type": "stream",
     "text": [
      "\n"
     ]
    },
    {
     "name": "stdout",
     "output_type": "stream",
     "text": [
      "\n",
      "      Epoch    GPU_mem   box_loss   cls_loss   dfl_loss  Instances       Size\n"
     ]
    },
    {
     "name": "stderr",
     "output_type": "stream",
     "text": [
      "     11/100      9.96G      1.279      1.127      1.645         13        640: 100%|██████████| 1064/1064 [03:17<00:00,  5.39it/s]\n",
      "                 Class     Images  Instances      Box(P          R      mAP50  mAP50-95): 100%|██████████| 54/54 [00:07<00:00,  7.39it/s]"
     ]
    },
    {
     "name": "stdout",
     "output_type": "stream",
     "text": [
      "                   all        851       1040      0.861      0.781      0.862       0.53\n"
     ]
    },
    {
     "name": "stderr",
     "output_type": "stream",
     "text": [
      "\n"
     ]
    },
    {
     "name": "stdout",
     "output_type": "stream",
     "text": [
      "\n",
      "      Epoch    GPU_mem   box_loss   cls_loss   dfl_loss  Instances       Size\n"
     ]
    },
    {
     "name": "stderr",
     "output_type": "stream",
     "text": [
      "     12/100      9.96G      1.261      1.098      1.626         15        640: 100%|██████████| 1064/1064 [03:16<00:00,  5.42it/s]\n",
      "                 Class     Images  Instances      Box(P          R      mAP50  mAP50-95): 100%|██████████| 54/54 [00:07<00:00,  7.35it/s]"
     ]
    },
    {
     "name": "stdout",
     "output_type": "stream",
     "text": [
      "                   all        851       1040      0.858      0.804      0.877      0.538\n"
     ]
    },
    {
     "name": "stderr",
     "output_type": "stream",
     "text": [
      "\n"
     ]
    },
    {
     "name": "stdout",
     "output_type": "stream",
     "text": [
      "\n",
      "      Epoch    GPU_mem   box_loss   cls_loss   dfl_loss  Instances       Size\n"
     ]
    },
    {
     "name": "stderr",
     "output_type": "stream",
     "text": [
      "     13/100      9.96G      1.243      1.065      1.614         15        640: 100%|██████████| 1064/1064 [03:19<00:00,  5.33it/s]\n",
      "                 Class     Images  Instances      Box(P          R      mAP50  mAP50-95): 100%|██████████| 54/54 [00:08<00:00,  6.46it/s]"
     ]
    },
    {
     "name": "stdout",
     "output_type": "stream",
     "text": [
      "                   all        851       1040      0.877      0.824      0.888      0.548\n"
     ]
    },
    {
     "name": "stderr",
     "output_type": "stream",
     "text": [
      "\n"
     ]
    },
    {
     "name": "stdout",
     "output_type": "stream",
     "text": [
      "\n",
      "      Epoch    GPU_mem   box_loss   cls_loss   dfl_loss  Instances       Size\n"
     ]
    },
    {
     "name": "stderr",
     "output_type": "stream",
     "text": [
      "     14/100      9.96G      1.239      1.069      1.609         12        640: 100%|██████████| 1064/1064 [03:18<00:00,  5.36it/s]\n",
      "                 Class     Images  Instances      Box(P          R      mAP50  mAP50-95): 100%|██████████| 54/54 [00:07<00:00,  7.33it/s]"
     ]
    },
    {
     "name": "stdout",
     "output_type": "stream",
     "text": [
      "                   all        851       1040      0.894      0.797      0.881      0.552\n"
     ]
    },
    {
     "name": "stderr",
     "output_type": "stream",
     "text": [
      "\n"
     ]
    },
    {
     "name": "stdout",
     "output_type": "stream",
     "text": [
      "\n",
      "      Epoch    GPU_mem   box_loss   cls_loss   dfl_loss  Instances       Size\n"
     ]
    },
    {
     "name": "stderr",
     "output_type": "stream",
     "text": [
      "     15/100      9.96G      1.222      1.043       1.59         22        640: 100%|██████████| 1064/1064 [03:17<00:00,  5.40it/s]\n",
      "                 Class     Images  Instances      Box(P          R      mAP50  mAP50-95): 100%|██████████| 54/54 [00:07<00:00,  7.37it/s]"
     ]
    },
    {
     "name": "stdout",
     "output_type": "stream",
     "text": [
      "                   all        851       1040       0.89      0.805      0.888      0.558\n"
     ]
    },
    {
     "name": "stderr",
     "output_type": "stream",
     "text": [
      "\n"
     ]
    },
    {
     "name": "stdout",
     "output_type": "stream",
     "text": [
      "\n",
      "      Epoch    GPU_mem   box_loss   cls_loss   dfl_loss  Instances       Size\n"
     ]
    },
    {
     "name": "stderr",
     "output_type": "stream",
     "text": [
      "     16/100      9.96G      1.212      1.013      1.587         18        640: 100%|██████████| 1064/1064 [03:17<00:00,  5.38it/s]\n",
      "                 Class     Images  Instances      Box(P          R      mAP50  mAP50-95): 100%|██████████| 54/54 [00:07<00:00,  7.40it/s]"
     ]
    },
    {
     "name": "stdout",
     "output_type": "stream",
     "text": [
      "                   all        851       1040      0.898      0.805       0.89      0.551\n"
     ]
    },
    {
     "name": "stderr",
     "output_type": "stream",
     "text": [
      "\n"
     ]
    },
    {
     "name": "stdout",
     "output_type": "stream",
     "text": [
      "\n",
      "      Epoch    GPU_mem   box_loss   cls_loss   dfl_loss  Instances       Size\n"
     ]
    },
    {
     "name": "stderr",
     "output_type": "stream",
     "text": [
      "     17/100      9.96G      1.198      1.003      1.577         19        640: 100%|██████████| 1064/1064 [03:18<00:00,  5.36it/s]\n",
      "                 Class     Images  Instances      Box(P          R      mAP50  mAP50-95): 100%|██████████| 54/54 [00:07<00:00,  7.39it/s]"
     ]
    },
    {
     "name": "stdout",
     "output_type": "stream",
     "text": [
      "                   all        851       1040      0.912      0.796      0.897      0.569\n"
     ]
    },
    {
     "name": "stderr",
     "output_type": "stream",
     "text": [
      "\n"
     ]
    },
    {
     "name": "stdout",
     "output_type": "stream",
     "text": [
      "\n",
      "      Epoch    GPU_mem   box_loss   cls_loss   dfl_loss  Instances       Size\n"
     ]
    },
    {
     "name": "stderr",
     "output_type": "stream",
     "text": [
      "     18/100      9.96G      1.194     0.9917      1.574         15        640: 100%|██████████| 1064/1064 [03:18<00:00,  5.36it/s]\n",
      "                 Class     Images  Instances      Box(P          R      mAP50  mAP50-95): 100%|██████████| 54/54 [00:07<00:00,  7.42it/s]"
     ]
    },
    {
     "name": "stdout",
     "output_type": "stream",
     "text": [
      "                   all        851       1040      0.879      0.835      0.897      0.576\n"
     ]
    },
    {
     "name": "stderr",
     "output_type": "stream",
     "text": [
      "\n"
     ]
    },
    {
     "name": "stdout",
     "output_type": "stream",
     "text": [
      "\n",
      "      Epoch    GPU_mem   box_loss   cls_loss   dfl_loss  Instances       Size\n"
     ]
    },
    {
     "name": "stderr",
     "output_type": "stream",
     "text": [
      "     19/100      9.96G      1.174     0.9832      1.559         17        640: 100%|██████████| 1064/1064 [03:17<00:00,  5.40it/s]\n",
      "                 Class     Images  Instances      Box(P          R      mAP50  mAP50-95): 100%|██████████| 54/54 [00:08<00:00,  6.69it/s]"
     ]
    },
    {
     "name": "stdout",
     "output_type": "stream",
     "text": [
      "                   all        851       1040      0.883      0.837      0.901      0.573\n"
     ]
    },
    {
     "name": "stderr",
     "output_type": "stream",
     "text": [
      "\n"
     ]
    },
    {
     "name": "stdout",
     "output_type": "stream",
     "text": [
      "\n",
      "      Epoch    GPU_mem   box_loss   cls_loss   dfl_loss  Instances       Size\n"
     ]
    },
    {
     "name": "stderr",
     "output_type": "stream",
     "text": [
      "     20/100      9.96G      1.172     0.9638      1.557         14        640: 100%|██████████| 1064/1064 [03:22<00:00,  5.25it/s]\n",
      "                 Class     Images  Instances      Box(P          R      mAP50  mAP50-95): 100%|██████████| 54/54 [00:07<00:00,  7.37it/s]"
     ]
    },
    {
     "name": "stdout",
     "output_type": "stream",
     "text": [
      "                   all        851       1040      0.901      0.831      0.905      0.586\n"
     ]
    },
    {
     "name": "stderr",
     "output_type": "stream",
     "text": [
      "\n"
     ]
    },
    {
     "name": "stdout",
     "output_type": "stream",
     "text": [
      "\n",
      "      Epoch    GPU_mem   box_loss   cls_loss   dfl_loss  Instances       Size\n"
     ]
    },
    {
     "name": "stderr",
     "output_type": "stream",
     "text": [
      "     21/100      9.96G      1.165     0.9499       1.55         23        640: 100%|██████████| 1064/1064 [03:17<00:00,  5.38it/s]\n",
      "                 Class     Images  Instances      Box(P          R      mAP50  mAP50-95): 100%|██████████| 54/54 [00:07<00:00,  7.44it/s]"
     ]
    },
    {
     "name": "stdout",
     "output_type": "stream",
     "text": [
      "                   all        851       1040      0.887      0.837      0.909      0.582\n"
     ]
    },
    {
     "name": "stderr",
     "output_type": "stream",
     "text": [
      "\n"
     ]
    },
    {
     "name": "stdout",
     "output_type": "stream",
     "text": [
      "\n",
      "      Epoch    GPU_mem   box_loss   cls_loss   dfl_loss  Instances       Size\n"
     ]
    },
    {
     "name": "stderr",
     "output_type": "stream",
     "text": [
      "     22/100      9.96G      1.151     0.9384      1.533         24        640: 100%|██████████| 1064/1064 [03:21<00:00,  5.28it/s]\n",
      "                 Class     Images  Instances      Box(P          R      mAP50  mAP50-95): 100%|██████████| 54/54 [00:07<00:00,  6.81it/s]"
     ]
    },
    {
     "name": "stdout",
     "output_type": "stream",
     "text": [
      "                   all        851       1040        0.9      0.831      0.906      0.584\n"
     ]
    },
    {
     "name": "stderr",
     "output_type": "stream",
     "text": [
      "\n"
     ]
    },
    {
     "name": "stdout",
     "output_type": "stream",
     "text": [
      "\n",
      "      Epoch    GPU_mem   box_loss   cls_loss   dfl_loss  Instances       Size\n"
     ]
    },
    {
     "name": "stderr",
     "output_type": "stream",
     "text": [
      "     23/100      9.96G      1.132     0.9312       1.52         17        640: 100%|██████████| 1064/1064 [03:22<00:00,  5.24it/s]\n",
      "                 Class     Images  Instances      Box(P          R      mAP50  mAP50-95): 100%|██████████| 54/54 [00:07<00:00,  7.43it/s]"
     ]
    },
    {
     "name": "stdout",
     "output_type": "stream",
     "text": [
      "                   all        851       1040      0.922      0.841       0.92      0.605\n"
     ]
    },
    {
     "name": "stderr",
     "output_type": "stream",
     "text": [
      "\n"
     ]
    },
    {
     "name": "stdout",
     "output_type": "stream",
     "text": [
      "\n",
      "      Epoch    GPU_mem   box_loss   cls_loss   dfl_loss  Instances       Size\n"
     ]
    },
    {
     "name": "stderr",
     "output_type": "stream",
     "text": [
      "     24/100      9.96G      1.124     0.9049      1.516         20        640: 100%|██████████| 1064/1064 [03:16<00:00,  5.42it/s]\n",
      "                 Class     Images  Instances      Box(P          R      mAP50  mAP50-95): 100%|██████████| 54/54 [00:07<00:00,  7.43it/s]"
     ]
    },
    {
     "name": "stdout",
     "output_type": "stream",
     "text": [
      "                   all        851       1040      0.911      0.844      0.917      0.604\n"
     ]
    },
    {
     "name": "stderr",
     "output_type": "stream",
     "text": [
      "\n"
     ]
    },
    {
     "name": "stdout",
     "output_type": "stream",
     "text": [
      "\n",
      "      Epoch    GPU_mem   box_loss   cls_loss   dfl_loss  Instances       Size\n"
     ]
    },
    {
     "name": "stderr",
     "output_type": "stream",
     "text": [
      "     25/100      9.96G      1.121     0.9029      1.515         11        640: 100%|██████████| 1064/1064 [03:16<00:00,  5.42it/s]\n",
      "                 Class     Images  Instances      Box(P          R      mAP50  mAP50-95): 100%|██████████| 54/54 [00:08<00:00,  6.51it/s]"
     ]
    },
    {
     "name": "stdout",
     "output_type": "stream",
     "text": [
      "                   all        851       1040      0.904       0.86      0.917      0.606\n"
     ]
    },
    {
     "name": "stderr",
     "output_type": "stream",
     "text": [
      "\n"
     ]
    },
    {
     "name": "stdout",
     "output_type": "stream",
     "text": [
      "\n",
      "      Epoch    GPU_mem   box_loss   cls_loss   dfl_loss  Instances       Size\n"
     ]
    },
    {
     "name": "stderr",
     "output_type": "stream",
     "text": [
      "     26/100      9.96G      1.117     0.8949      1.509         12        640: 100%|██████████| 1064/1064 [03:17<00:00,  5.37it/s]\n",
      "                 Class     Images  Instances      Box(P          R      mAP50  mAP50-95): 100%|██████████| 54/54 [00:07<00:00,  7.43it/s]"
     ]
    },
    {
     "name": "stdout",
     "output_type": "stream",
     "text": [
      "                   all        851       1040      0.904      0.866      0.923      0.611\n"
     ]
    },
    {
     "name": "stderr",
     "output_type": "stream",
     "text": [
      "\n"
     ]
    },
    {
     "name": "stdout",
     "output_type": "stream",
     "text": [
      "\n",
      "      Epoch    GPU_mem   box_loss   cls_loss   dfl_loss  Instances       Size\n"
     ]
    },
    {
     "name": "stderr",
     "output_type": "stream",
     "text": [
      "     27/100      9.96G      1.096     0.8831      1.489         19        640: 100%|██████████| 1064/1064 [03:17<00:00,  5.38it/s]\n",
      "                 Class     Images  Instances      Box(P          R      mAP50  mAP50-95): 100%|██████████| 54/54 [00:07<00:00,  7.41it/s]"
     ]
    },
    {
     "name": "stdout",
     "output_type": "stream",
     "text": [
      "                   all        851       1040      0.906      0.865      0.917      0.612\n"
     ]
    },
    {
     "name": "stderr",
     "output_type": "stream",
     "text": [
      "\n"
     ]
    },
    {
     "name": "stdout",
     "output_type": "stream",
     "text": [
      "\n",
      "      Epoch    GPU_mem   box_loss   cls_loss   dfl_loss  Instances       Size\n"
     ]
    },
    {
     "name": "stderr",
     "output_type": "stream",
     "text": [
      "     28/100      9.96G      1.104     0.8717      1.495         24        640: 100%|██████████| 1064/1064 [03:22<00:00,  5.24it/s]\n",
      "                 Class     Images  Instances      Box(P          R      mAP50  mAP50-95): 100%|██████████| 54/54 [00:08<00:00,  6.56it/s]"
     ]
    },
    {
     "name": "stdout",
     "output_type": "stream",
     "text": [
      "                   all        851       1040      0.929      0.838      0.921      0.617\n"
     ]
    },
    {
     "name": "stderr",
     "output_type": "stream",
     "text": [
      "\n"
     ]
    },
    {
     "name": "stdout",
     "output_type": "stream",
     "text": [
      "\n",
      "      Epoch    GPU_mem   box_loss   cls_loss   dfl_loss  Instances       Size\n"
     ]
    },
    {
     "name": "stderr",
     "output_type": "stream",
     "text": [
      "     29/100      9.96G      1.094     0.8658      1.487         17        640: 100%|██████████| 1064/1064 [03:23<00:00,  5.23it/s]\n",
      "                 Class     Images  Instances      Box(P          R      mAP50  mAP50-95): 100%|██████████| 54/54 [00:07<00:00,  7.42it/s]"
     ]
    },
    {
     "name": "stdout",
     "output_type": "stream",
     "text": [
      "                   all        851       1040      0.898      0.878      0.921      0.616\n"
     ]
    },
    {
     "name": "stderr",
     "output_type": "stream",
     "text": [
      "\n"
     ]
    },
    {
     "name": "stdout",
     "output_type": "stream",
     "text": [
      "\n",
      "      Epoch    GPU_mem   box_loss   cls_loss   dfl_loss  Instances       Size\n"
     ]
    },
    {
     "name": "stderr",
     "output_type": "stream",
     "text": [
      "     30/100      9.96G      1.085     0.8499      1.479         24        640: 100%|██████████| 1064/1064 [03:16<00:00,  5.42it/s]\n",
      "                 Class     Images  Instances      Box(P          R      mAP50  mAP50-95): 100%|██████████| 54/54 [00:07<00:00,  7.40it/s]"
     ]
    },
    {
     "name": "stdout",
     "output_type": "stream",
     "text": [
      "                   all        851       1040      0.918      0.866      0.927      0.617\n"
     ]
    },
    {
     "name": "stderr",
     "output_type": "stream",
     "text": [
      "\n"
     ]
    },
    {
     "name": "stdout",
     "output_type": "stream",
     "text": [
      "\n",
      "      Epoch    GPU_mem   box_loss   cls_loss   dfl_loss  Instances       Size\n"
     ]
    },
    {
     "name": "stderr",
     "output_type": "stream",
     "text": [
      "     31/100      9.96G      1.078     0.8362      1.478         24        640: 100%|██████████| 1064/1064 [03:16<00:00,  5.42it/s]\n",
      "                 Class     Images  Instances      Box(P          R      mAP50  mAP50-95): 100%|██████████| 54/54 [00:07<00:00,  7.45it/s]"
     ]
    },
    {
     "name": "stdout",
     "output_type": "stream",
     "text": [
      "                   all        851       1040      0.911      0.869       0.93      0.628\n"
     ]
    },
    {
     "name": "stderr",
     "output_type": "stream",
     "text": [
      "\n"
     ]
    },
    {
     "name": "stdout",
     "output_type": "stream",
     "text": [
      "\n",
      "      Epoch    GPU_mem   box_loss   cls_loss   dfl_loss  Instances       Size\n"
     ]
    },
    {
     "name": "stderr",
     "output_type": "stream",
     "text": [
      "     32/100      9.96G       1.07     0.8269      1.469         13        640: 100%|██████████| 1064/1064 [03:17<00:00,  5.40it/s]\n",
      "                 Class     Images  Instances      Box(P          R      mAP50  mAP50-95): 100%|██████████| 54/54 [00:07<00:00,  7.48it/s]"
     ]
    },
    {
     "name": "stdout",
     "output_type": "stream",
     "text": [
      "                   all        851       1040      0.915       0.87      0.927      0.628\n"
     ]
    },
    {
     "name": "stderr",
     "output_type": "stream",
     "text": [
      "\n"
     ]
    },
    {
     "name": "stdout",
     "output_type": "stream",
     "text": [
      "\n",
      "      Epoch    GPU_mem   box_loss   cls_loss   dfl_loss  Instances       Size\n"
     ]
    },
    {
     "name": "stderr",
     "output_type": "stream",
     "text": [
      "     33/100      9.96G      1.069     0.8247      1.469         25        640: 100%|██████████| 1064/1064 [03:15<00:00,  5.43it/s]\n",
      "                 Class     Images  Instances      Box(P          R      mAP50  mAP50-95): 100%|██████████| 54/54 [00:07<00:00,  7.48it/s]"
     ]
    },
    {
     "name": "stdout",
     "output_type": "stream",
     "text": [
      "                   all        851       1040      0.916      0.878      0.923      0.625\n"
     ]
    },
    {
     "name": "stderr",
     "output_type": "stream",
     "text": [
      "\n"
     ]
    },
    {
     "name": "stdout",
     "output_type": "stream",
     "text": [
      "\n",
      "      Epoch    GPU_mem   box_loss   cls_loss   dfl_loss  Instances       Size\n"
     ]
    },
    {
     "name": "stderr",
     "output_type": "stream",
     "text": [
      "     34/100      9.96G       1.06      0.819      1.467         20        640: 100%|██████████| 1064/1064 [03:16<00:00,  5.40it/s]\n",
      "                 Class     Images  Instances      Box(P          R      mAP50  mAP50-95): 100%|██████████| 54/54 [00:07<00:00,  7.45it/s]"
     ]
    },
    {
     "name": "stdout",
     "output_type": "stream",
     "text": [
      "                   all        851       1040      0.904      0.863      0.929      0.631\n"
     ]
    },
    {
     "name": "stderr",
     "output_type": "stream",
     "text": [
      "\n"
     ]
    },
    {
     "name": "stdout",
     "output_type": "stream",
     "text": [
      "\n",
      "      Epoch    GPU_mem   box_loss   cls_loss   dfl_loss  Instances       Size\n"
     ]
    },
    {
     "name": "stderr",
     "output_type": "stream",
     "text": [
      "     35/100      9.96G      1.052     0.8169      1.451         22        640: 100%|██████████| 1064/1064 [03:16<00:00,  5.43it/s]\n",
      "                 Class     Images  Instances      Box(P          R      mAP50  mAP50-95): 100%|██████████| 54/54 [00:07<00:00,  7.45it/s]"
     ]
    },
    {
     "name": "stdout",
     "output_type": "stream",
     "text": [
      "                   all        851       1040        0.9      0.881      0.926      0.634\n"
     ]
    },
    {
     "name": "stderr",
     "output_type": "stream",
     "text": [
      "\n"
     ]
    },
    {
     "name": "stdout",
     "output_type": "stream",
     "text": [
      "\n",
      "      Epoch    GPU_mem   box_loss   cls_loss   dfl_loss  Instances       Size\n"
     ]
    },
    {
     "name": "stderr",
     "output_type": "stream",
     "text": [
      "     36/100      9.96G      1.048     0.8004      1.451         17        640: 100%|██████████| 1064/1064 [03:16<00:00,  5.41it/s]\n",
      "                 Class     Images  Instances      Box(P          R      mAP50  mAP50-95): 100%|██████████| 54/54 [00:07<00:00,  7.45it/s]"
     ]
    },
    {
     "name": "stdout",
     "output_type": "stream",
     "text": [
      "                   all        851       1040      0.919      0.873      0.929      0.635\n"
     ]
    },
    {
     "name": "stderr",
     "output_type": "stream",
     "text": [
      "\n"
     ]
    },
    {
     "name": "stdout",
     "output_type": "stream",
     "text": [
      "\n",
      "      Epoch    GPU_mem   box_loss   cls_loss   dfl_loss  Instances       Size\n"
     ]
    },
    {
     "name": "stderr",
     "output_type": "stream",
     "text": [
      "     37/100      9.96G      1.047     0.8021      1.448         11        640: 100%|██████████| 1064/1064 [03:15<00:00,  5.43it/s]\n",
      "                 Class     Images  Instances      Box(P          R      mAP50  mAP50-95): 100%|██████████| 54/54 [00:07<00:00,  7.45it/s]"
     ]
    },
    {
     "name": "stdout",
     "output_type": "stream",
     "text": [
      "                   all        851       1040      0.922      0.858      0.928      0.634\n"
     ]
    },
    {
     "name": "stderr",
     "output_type": "stream",
     "text": [
      "\n"
     ]
    },
    {
     "name": "stdout",
     "output_type": "stream",
     "text": [
      "\n",
      "      Epoch    GPU_mem   box_loss   cls_loss   dfl_loss  Instances       Size\n"
     ]
    },
    {
     "name": "stderr",
     "output_type": "stream",
     "text": [
      "     38/100      9.96G      1.041     0.7871      1.441         15        640: 100%|██████████| 1064/1064 [03:15<00:00,  5.43it/s]\n",
      "                 Class     Images  Instances      Box(P          R      mAP50  mAP50-95): 100%|██████████| 54/54 [00:07<00:00,  7.46it/s]"
     ]
    },
    {
     "name": "stdout",
     "output_type": "stream",
     "text": [
      "                   all        851       1040       0.93      0.877      0.932      0.636\n"
     ]
    },
    {
     "name": "stderr",
     "output_type": "stream",
     "text": [
      "\n"
     ]
    },
    {
     "name": "stdout",
     "output_type": "stream",
     "text": [
      "\n",
      "      Epoch    GPU_mem   box_loss   cls_loss   dfl_loss  Instances       Size\n"
     ]
    },
    {
     "name": "stderr",
     "output_type": "stream",
     "text": [
      "     39/100      9.96G      1.032     0.7732      1.435         14        640: 100%|██████████| 1064/1064 [03:19<00:00,  5.34it/s]\n",
      "                 Class     Images  Instances      Box(P          R      mAP50  mAP50-95): 100%|██████████| 54/54 [00:07<00:00,  7.46it/s]"
     ]
    },
    {
     "name": "stdout",
     "output_type": "stream",
     "text": [
      "                   all        851       1040      0.924       0.85      0.924      0.634\n"
     ]
    },
    {
     "name": "stderr",
     "output_type": "stream",
     "text": [
      "\n"
     ]
    },
    {
     "name": "stdout",
     "output_type": "stream",
     "text": [
      "\n",
      "      Epoch    GPU_mem   box_loss   cls_loss   dfl_loss  Instances       Size\n"
     ]
    },
    {
     "name": "stderr",
     "output_type": "stream",
     "text": [
      "     40/100      9.96G      1.023     0.7728      1.431         19        640: 100%|██████████| 1064/1064 [03:18<00:00,  5.37it/s]\n",
      "                 Class     Images  Instances      Box(P          R      mAP50  mAP50-95): 100%|██████████| 54/54 [00:08<00:00,  6.69it/s]"
     ]
    },
    {
     "name": "stdout",
     "output_type": "stream",
     "text": [
      "                   all        851       1040       0.91       0.86      0.926       0.64\n"
     ]
    },
    {
     "name": "stderr",
     "output_type": "stream",
     "text": [
      "\n"
     ]
    },
    {
     "name": "stdout",
     "output_type": "stream",
     "text": [
      "\n",
      "      Epoch    GPU_mem   box_loss   cls_loss   dfl_loss  Instances       Size\n"
     ]
    },
    {
     "name": "stderr",
     "output_type": "stream",
     "text": [
      "     41/100      9.96G      1.015     0.7696      1.427         22        640: 100%|██████████| 1064/1064 [03:19<00:00,  5.34it/s]\n",
      "                 Class     Images  Instances      Box(P          R      mAP50  mAP50-95): 100%|██████████| 54/54 [00:07<00:00,  7.37it/s]"
     ]
    },
    {
     "name": "stdout",
     "output_type": "stream",
     "text": [
      "                   all        851       1040      0.914      0.884      0.933      0.645\n"
     ]
    },
    {
     "name": "stderr",
     "output_type": "stream",
     "text": [
      "\n"
     ]
    },
    {
     "name": "stdout",
     "output_type": "stream",
     "text": [
      "\n",
      "      Epoch    GPU_mem   box_loss   cls_loss   dfl_loss  Instances       Size\n"
     ]
    },
    {
     "name": "stderr",
     "output_type": "stream",
     "text": [
      "     42/100      9.96G      1.001      0.757      1.412         22        640: 100%|██████████| 1064/1064 [03:16<00:00,  5.41it/s]\n",
      "                 Class     Images  Instances      Box(P          R      mAP50  mAP50-95): 100%|██████████| 54/54 [00:07<00:00,  7.46it/s]"
     ]
    },
    {
     "name": "stdout",
     "output_type": "stream",
     "text": [
      "                   all        851       1040      0.913      0.886      0.931      0.641\n"
     ]
    },
    {
     "name": "stderr",
     "output_type": "stream",
     "text": [
      "\n"
     ]
    },
    {
     "name": "stdout",
     "output_type": "stream",
     "text": [
      "\n",
      "      Epoch    GPU_mem   box_loss   cls_loss   dfl_loss  Instances       Size\n"
     ]
    },
    {
     "name": "stderr",
     "output_type": "stream",
     "text": [
      "     43/100      9.96G      1.014     0.7536       1.42         16        640: 100%|██████████| 1064/1064 [03:37<00:00,  4.90it/s]\n",
      "                 Class     Images  Instances      Box(P          R      mAP50  mAP50-95): 100%|██████████| 54/54 [00:07<00:00,  7.43it/s]"
     ]
    },
    {
     "name": "stdout",
     "output_type": "stream",
     "text": [
      "                   all        851       1040      0.931       0.87      0.934      0.643\n"
     ]
    },
    {
     "name": "stderr",
     "output_type": "stream",
     "text": [
      "\n"
     ]
    },
    {
     "name": "stdout",
     "output_type": "stream",
     "text": [
      "\n",
      "      Epoch    GPU_mem   box_loss   cls_loss   dfl_loss  Instances       Size\n"
     ]
    },
    {
     "name": "stderr",
     "output_type": "stream",
     "text": [
      "     44/100      9.96G      0.994      0.747      1.413         13        640: 100%|██████████| 1064/1064 [03:19<00:00,  5.35it/s]\n",
      "                 Class     Images  Instances      Box(P          R      mAP50  mAP50-95): 100%|██████████| 54/54 [00:07<00:00,  7.28it/s]"
     ]
    },
    {
     "name": "stdout",
     "output_type": "stream",
     "text": [
      "                   all        851       1040      0.908      0.875      0.933      0.643\n"
     ]
    },
    {
     "name": "stderr",
     "output_type": "stream",
     "text": [
      "\n"
     ]
    },
    {
     "name": "stdout",
     "output_type": "stream",
     "text": [
      "\n",
      "      Epoch    GPU_mem   box_loss   cls_loss   dfl_loss  Instances       Size\n"
     ]
    },
    {
     "name": "stderr",
     "output_type": "stream",
     "text": [
      "     45/100      9.96G     0.9974     0.7504      1.409         21        640: 100%|██████████| 1064/1064 [03:22<00:00,  5.24it/s]\n",
      "                 Class     Images  Instances      Box(P          R      mAP50  mAP50-95): 100%|██████████| 54/54 [00:07<00:00,  7.42it/s]"
     ]
    },
    {
     "name": "stdout",
     "output_type": "stream",
     "text": [
      "                   all        851       1040      0.916      0.878      0.932       0.65\n"
     ]
    },
    {
     "name": "stderr",
     "output_type": "stream",
     "text": [
      "\n"
     ]
    },
    {
     "name": "stdout",
     "output_type": "stream",
     "text": [
      "\n",
      "      Epoch    GPU_mem   box_loss   cls_loss   dfl_loss  Instances       Size\n"
     ]
    },
    {
     "name": "stderr",
     "output_type": "stream",
     "text": [
      "     46/100      9.96G     0.9861     0.7328      1.399         14        640: 100%|██████████| 1064/1064 [03:20<00:00,  5.30it/s]\n",
      "                 Class     Images  Instances      Box(P          R      mAP50  mAP50-95): 100%|██████████| 54/54 [00:07<00:00,  7.42it/s]"
     ]
    },
    {
     "name": "stdout",
     "output_type": "stream",
     "text": [
      "                   all        851       1040      0.912      0.887       0.94      0.648\n"
     ]
    },
    {
     "name": "stderr",
     "output_type": "stream",
     "text": [
      "\n"
     ]
    },
    {
     "name": "stdout",
     "output_type": "stream",
     "text": [
      "\n",
      "      Epoch    GPU_mem   box_loss   cls_loss   dfl_loss  Instances       Size\n"
     ]
    },
    {
     "name": "stderr",
     "output_type": "stream",
     "text": [
      "     47/100      9.96G     0.9814     0.7396      1.402         15        640: 100%|██████████| 1064/1064 [03:19<00:00,  5.32it/s]\n",
      "                 Class     Images  Instances      Box(P          R      mAP50  mAP50-95): 100%|██████████| 54/54 [00:07<00:00,  7.42it/s]"
     ]
    },
    {
     "name": "stdout",
     "output_type": "stream",
     "text": [
      "                   all        851       1040      0.923      0.868       0.93      0.651\n"
     ]
    },
    {
     "name": "stderr",
     "output_type": "stream",
     "text": [
      "\n"
     ]
    },
    {
     "name": "stdout",
     "output_type": "stream",
     "text": [
      "\n",
      "      Epoch    GPU_mem   box_loss   cls_loss   dfl_loss  Instances       Size\n"
     ]
    },
    {
     "name": "stderr",
     "output_type": "stream",
     "text": [
      "     48/100      9.96G     0.9759     0.7264      1.398         13        640: 100%|██████████| 1064/1064 [03:31<00:00,  5.04it/s]\n",
      "                 Class     Images  Instances      Box(P          R      mAP50  mAP50-95): 100%|██████████| 54/54 [00:08<00:00,  6.70it/s]"
     ]
    },
    {
     "name": "stdout",
     "output_type": "stream",
     "text": [
      "                   all        851       1040      0.912      0.881      0.932      0.648\n"
     ]
    },
    {
     "name": "stderr",
     "output_type": "stream",
     "text": [
      "\n"
     ]
    },
    {
     "name": "stdout",
     "output_type": "stream",
     "text": [
      "\n",
      "      Epoch    GPU_mem   box_loss   cls_loss   dfl_loss  Instances       Size\n"
     ]
    },
    {
     "name": "stderr",
     "output_type": "stream",
     "text": [
      "     49/100      9.96G     0.9701      0.727      1.386         16        640: 100%|██████████| 1064/1064 [03:23<00:00,  5.23it/s]\n",
      "                 Class     Images  Instances      Box(P          R      mAP50  mAP50-95): 100%|██████████| 54/54 [00:07<00:00,  7.41it/s]"
     ]
    },
    {
     "name": "stdout",
     "output_type": "stream",
     "text": [
      "                   all        851       1040      0.917      0.888      0.935      0.655\n"
     ]
    },
    {
     "name": "stderr",
     "output_type": "stream",
     "text": [
      "\n"
     ]
    },
    {
     "name": "stdout",
     "output_type": "stream",
     "text": [
      "\n",
      "      Epoch    GPU_mem   box_loss   cls_loss   dfl_loss  Instances       Size\n"
     ]
    },
    {
     "name": "stderr",
     "output_type": "stream",
     "text": [
      "     50/100      9.96G     0.9623     0.7054      1.379         15        640: 100%|██████████| 1064/1064 [03:19<00:00,  5.32it/s]\n",
      "                 Class     Images  Instances      Box(P          R      mAP50  mAP50-95): 100%|██████████| 54/54 [00:07<00:00,  7.36it/s]"
     ]
    },
    {
     "name": "stdout",
     "output_type": "stream",
     "text": [
      "                   all        851       1040      0.907      0.886      0.933       0.65\n"
     ]
    },
    {
     "name": "stderr",
     "output_type": "stream",
     "text": [
      "\n"
     ]
    },
    {
     "name": "stdout",
     "output_type": "stream",
     "text": [
      "\n",
      "      Epoch    GPU_mem   box_loss   cls_loss   dfl_loss  Instances       Size\n"
     ]
    },
    {
     "name": "stderr",
     "output_type": "stream",
     "text": [
      "     51/100      9.96G     0.9576     0.7052      1.379         23        640: 100%|██████████| 1064/1064 [03:33<00:00,  4.98it/s]\n",
      "                 Class     Images  Instances      Box(P          R      mAP50  mAP50-95): 100%|██████████| 54/54 [00:08<00:00,  6.63it/s]"
     ]
    },
    {
     "name": "stdout",
     "output_type": "stream",
     "text": [
      "                   all        851       1040      0.925      0.875      0.935      0.653\n"
     ]
    },
    {
     "name": "stderr",
     "output_type": "stream",
     "text": [
      "\n"
     ]
    },
    {
     "name": "stdout",
     "output_type": "stream",
     "text": [
      "\n",
      "      Epoch    GPU_mem   box_loss   cls_loss   dfl_loss  Instances       Size\n"
     ]
    },
    {
     "name": "stderr",
     "output_type": "stream",
     "text": [
      "     52/100      9.96G      0.953     0.6931      1.377         18        640: 100%|██████████| 1064/1064 [03:28<00:00,  5.11it/s]\n",
      "                 Class     Images  Instances      Box(P          R      mAP50  mAP50-95): 100%|██████████| 54/54 [00:07<00:00,  7.46it/s]"
     ]
    },
    {
     "name": "stdout",
     "output_type": "stream",
     "text": [
      "                   all        851       1040       0.92      0.874      0.935       0.65\n"
     ]
    },
    {
     "name": "stderr",
     "output_type": "stream",
     "text": [
      "\n"
     ]
    },
    {
     "name": "stdout",
     "output_type": "stream",
     "text": [
      "\n",
      "      Epoch    GPU_mem   box_loss   cls_loss   dfl_loss  Instances       Size\n"
     ]
    },
    {
     "name": "stderr",
     "output_type": "stream",
     "text": [
      "     53/100      9.96G     0.9529     0.6938      1.377         17        640: 100%|██████████| 1064/1064 [03:17<00:00,  5.38it/s]\n",
      "                 Class     Images  Instances      Box(P          R      mAP50  mAP50-95): 100%|██████████| 54/54 [00:07<00:00,  7.46it/s]"
     ]
    },
    {
     "name": "stdout",
     "output_type": "stream",
     "text": [
      "                   all        851       1040       0.92      0.891      0.938      0.656\n"
     ]
    },
    {
     "name": "stderr",
     "output_type": "stream",
     "text": [
      "\n"
     ]
    },
    {
     "name": "stdout",
     "output_type": "stream",
     "text": [
      "\n",
      "      Epoch    GPU_mem   box_loss   cls_loss   dfl_loss  Instances       Size\n"
     ]
    },
    {
     "name": "stderr",
     "output_type": "stream",
     "text": [
      "     54/100      9.96G     0.9353     0.6947      1.369         17        640: 100%|██████████| 1064/1064 [03:19<00:00,  5.33it/s]\n",
      "                 Class     Images  Instances      Box(P          R      mAP50  mAP50-95): 100%|██████████| 54/54 [00:07<00:00,  7.48it/s]"
     ]
    },
    {
     "name": "stdout",
     "output_type": "stream",
     "text": [
      "                   all        851       1040      0.919      0.876      0.934      0.651\n"
     ]
    },
    {
     "name": "stderr",
     "output_type": "stream",
     "text": [
      "\n"
     ]
    },
    {
     "name": "stdout",
     "output_type": "stream",
     "text": [
      "\n",
      "      Epoch    GPU_mem   box_loss   cls_loss   dfl_loss  Instances       Size\n"
     ]
    },
    {
     "name": "stderr",
     "output_type": "stream",
     "text": [
      "     55/100      9.96G     0.9359     0.6945      1.364         13        640: 100%|██████████| 1064/1064 [03:19<00:00,  5.33it/s]\n",
      "                 Class     Images  Instances      Box(P          R      mAP50  mAP50-95): 100%|██████████| 54/54 [00:07<00:00,  7.46it/s]"
     ]
    },
    {
     "name": "stdout",
     "output_type": "stream",
     "text": [
      "                   all        851       1040      0.919      0.889      0.934      0.655\n"
     ]
    },
    {
     "name": "stderr",
     "output_type": "stream",
     "text": [
      "\n"
     ]
    },
    {
     "name": "stdout",
     "output_type": "stream",
     "text": [
      "\n",
      "      Epoch    GPU_mem   box_loss   cls_loss   dfl_loss  Instances       Size\n"
     ]
    },
    {
     "name": "stderr",
     "output_type": "stream",
     "text": [
      "     56/100      9.96G     0.9301     0.6816       1.36         25        640: 100%|██████████| 1064/1064 [03:17<00:00,  5.38it/s]\n",
      "                 Class     Images  Instances      Box(P          R      mAP50  mAP50-95): 100%|██████████| 54/54 [00:07<00:00,  7.38it/s]"
     ]
    },
    {
     "name": "stdout",
     "output_type": "stream",
     "text": [
      "                   all        851       1040      0.922       0.88      0.934      0.655\n"
     ]
    },
    {
     "name": "stderr",
     "output_type": "stream",
     "text": [
      "\n"
     ]
    },
    {
     "name": "stdout",
     "output_type": "stream",
     "text": [
      "\n",
      "      Epoch    GPU_mem   box_loss   cls_loss   dfl_loss  Instances       Size\n"
     ]
    },
    {
     "name": "stderr",
     "output_type": "stream",
     "text": [
      "     57/100      9.96G     0.9248     0.6683      1.353         15        640: 100%|██████████| 1064/1064 [03:23<00:00,  5.23it/s]\n",
      "                 Class     Images  Instances      Box(P          R      mAP50  mAP50-95): 100%|██████████| 54/54 [00:07<00:00,  7.38it/s]"
     ]
    },
    {
     "name": "stdout",
     "output_type": "stream",
     "text": [
      "                   all        851       1040      0.911      0.887      0.937      0.654\n"
     ]
    },
    {
     "name": "stderr",
     "output_type": "stream",
     "text": [
      "\n"
     ]
    },
    {
     "name": "stdout",
     "output_type": "stream",
     "text": [
      "\n",
      "      Epoch    GPU_mem   box_loss   cls_loss   dfl_loss  Instances       Size\n"
     ]
    },
    {
     "name": "stderr",
     "output_type": "stream",
     "text": [
      "     58/100      9.96G      0.923     0.6721      1.352         18        640: 100%|██████████| 1064/1064 [03:25<00:00,  5.17it/s]\n",
      "                 Class     Images  Instances      Box(P          R      mAP50  mAP50-95): 100%|██████████| 54/54 [00:07<00:00,  6.76it/s]"
     ]
    },
    {
     "name": "stdout",
     "output_type": "stream",
     "text": [
      "                   all        851       1040      0.909      0.894      0.939      0.659\n"
     ]
    },
    {
     "name": "stderr",
     "output_type": "stream",
     "text": [
      "\n"
     ]
    },
    {
     "name": "stdout",
     "output_type": "stream",
     "text": [
      "\n",
      "      Epoch    GPU_mem   box_loss   cls_loss   dfl_loss  Instances       Size\n"
     ]
    },
    {
     "name": "stderr",
     "output_type": "stream",
     "text": [
      "     59/100      9.97G     0.9087     0.6618      1.343         19        640: 100%|██████████| 1064/1064 [03:36<00:00,  4.92it/s]\n",
      "                 Class     Images  Instances      Box(P          R      mAP50  mAP50-95): 100%|██████████| 54/54 [00:07<00:00,  7.39it/s]"
     ]
    },
    {
     "name": "stdout",
     "output_type": "stream",
     "text": [
      "                   all        851       1040       0.93      0.878      0.939      0.655\n"
     ]
    },
    {
     "name": "stderr",
     "output_type": "stream",
     "text": [
      "\n"
     ]
    },
    {
     "name": "stdout",
     "output_type": "stream",
     "text": [
      "\n",
      "      Epoch    GPU_mem   box_loss   cls_loss   dfl_loss  Instances       Size\n"
     ]
    },
    {
     "name": "stderr",
     "output_type": "stream",
     "text": [
      "     60/100      9.96G     0.9021     0.6474      1.335         17        640: 100%|██████████| 1064/1064 [03:24<00:00,  5.21it/s]\n",
      "                 Class     Images  Instances      Box(P          R      mAP50  mAP50-95): 100%|██████████| 54/54 [00:08<00:00,  6.64it/s]"
     ]
    },
    {
     "name": "stdout",
     "output_type": "stream",
     "text": [
      "                   all        851       1040      0.924      0.877      0.937      0.656\n"
     ]
    },
    {
     "name": "stderr",
     "output_type": "stream",
     "text": [
      "\n"
     ]
    },
    {
     "name": "stdout",
     "output_type": "stream",
     "text": [
      "\n",
      "      Epoch    GPU_mem   box_loss   cls_loss   dfl_loss  Instances       Size\n"
     ]
    },
    {
     "name": "stderr",
     "output_type": "stream",
     "text": [
      "     61/100      9.96G     0.9046     0.6513      1.337         17        640: 100%|██████████| 1064/1064 [03:20<00:00,  5.30it/s]\n",
      "                 Class     Images  Instances      Box(P          R      mAP50  mAP50-95): 100%|██████████| 54/54 [00:07<00:00,  7.41it/s]"
     ]
    },
    {
     "name": "stdout",
     "output_type": "stream",
     "text": [
      "                   all        851       1040      0.933      0.874      0.936      0.657\n"
     ]
    },
    {
     "name": "stderr",
     "output_type": "stream",
     "text": [
      "\n"
     ]
    },
    {
     "name": "stdout",
     "output_type": "stream",
     "text": [
      "\n",
      "      Epoch    GPU_mem   box_loss   cls_loss   dfl_loss  Instances       Size\n"
     ]
    },
    {
     "name": "stderr",
     "output_type": "stream",
     "text": [
      "     62/100      9.96G     0.8919     0.6482      1.332         19        640: 100%|██████████| 1064/1064 [03:20<00:00,  5.32it/s]\n",
      "                 Class     Images  Instances      Box(P          R      mAP50  mAP50-95): 100%|██████████| 54/54 [00:07<00:00,  7.40it/s]"
     ]
    },
    {
     "name": "stdout",
     "output_type": "stream",
     "text": [
      "                   all        851       1040      0.925      0.864      0.935      0.658\n"
     ]
    },
    {
     "name": "stderr",
     "output_type": "stream",
     "text": [
      "\n"
     ]
    },
    {
     "name": "stdout",
     "output_type": "stream",
     "text": [
      "\n",
      "      Epoch    GPU_mem   box_loss   cls_loss   dfl_loss  Instances       Size\n"
     ]
    },
    {
     "name": "stderr",
     "output_type": "stream",
     "text": [
      "     63/100      9.96G      0.887     0.6286      1.326         16        640: 100%|██████████| 1064/1064 [03:19<00:00,  5.32it/s]\n",
      "                 Class     Images  Instances      Box(P          R      mAP50  mAP50-95): 100%|██████████| 54/54 [00:07<00:00,  7.44it/s]"
     ]
    },
    {
     "name": "stdout",
     "output_type": "stream",
     "text": [
      "                   all        851       1040      0.917      0.878      0.932      0.657\n"
     ]
    },
    {
     "name": "stderr",
     "output_type": "stream",
     "text": [
      "\n"
     ]
    },
    {
     "name": "stdout",
     "output_type": "stream",
     "text": [
      "\n",
      "      Epoch    GPU_mem   box_loss   cls_loss   dfl_loss  Instances       Size\n"
     ]
    },
    {
     "name": "stderr",
     "output_type": "stream",
     "text": [
      "     64/100      9.96G     0.8856      0.632      1.327         12        640: 100%|██████████| 1064/1064 [03:20<00:00,  5.32it/s]\n",
      "                 Class     Images  Instances      Box(P          R      mAP50  mAP50-95): 100%|██████████| 54/54 [00:07<00:00,  7.43it/s]"
     ]
    },
    {
     "name": "stdout",
     "output_type": "stream",
     "text": [
      "                   all        851       1040       0.92      0.887      0.934      0.654\n"
     ]
    },
    {
     "name": "stderr",
     "output_type": "stream",
     "text": [
      "\n"
     ]
    },
    {
     "name": "stdout",
     "output_type": "stream",
     "text": [
      "\n",
      "      Epoch    GPU_mem   box_loss   cls_loss   dfl_loss  Instances       Size\n"
     ]
    },
    {
     "name": "stderr",
     "output_type": "stream",
     "text": [
      "     65/100      9.96G     0.8764     0.6239      1.314         21        640: 100%|██████████| 1064/1064 [03:20<00:00,  5.32it/s]\n",
      "                 Class     Images  Instances      Box(P          R      mAP50  mAP50-95): 100%|██████████| 54/54 [00:07<00:00,  7.42it/s]"
     ]
    },
    {
     "name": "stdout",
     "output_type": "stream",
     "text": [
      "                   all        851       1040      0.929      0.873      0.935      0.658\n"
     ]
    },
    {
     "name": "stderr",
     "output_type": "stream",
     "text": [
      "\n"
     ]
    },
    {
     "name": "stdout",
     "output_type": "stream",
     "text": [
      "\n",
      "      Epoch    GPU_mem   box_loss   cls_loss   dfl_loss  Instances       Size\n"
     ]
    },
    {
     "name": "stderr",
     "output_type": "stream",
     "text": [
      "     66/100      9.96G     0.8644     0.6174      1.308         14        640: 100%|██████████| 1064/1064 [03:20<00:00,  5.32it/s]\n",
      "                 Class     Images  Instances      Box(P          R      mAP50  mAP50-95): 100%|██████████| 54/54 [00:07<00:00,  7.40it/s]"
     ]
    },
    {
     "name": "stdout",
     "output_type": "stream",
     "text": [
      "                   all        851       1040      0.918      0.886      0.935       0.66\n"
     ]
    },
    {
     "name": "stderr",
     "output_type": "stream",
     "text": [
      "\n"
     ]
    },
    {
     "name": "stdout",
     "output_type": "stream",
     "text": [
      "\n",
      "      Epoch    GPU_mem   box_loss   cls_loss   dfl_loss  Instances       Size\n"
     ]
    },
    {
     "name": "stderr",
     "output_type": "stream",
     "text": [
      "     67/100      9.96G     0.8698     0.6197      1.314         15        640: 100%|██████████| 1064/1064 [03:30<00:00,  5.05it/s]\n",
      "                 Class     Images  Instances      Box(P          R      mAP50  mAP50-95): 100%|██████████| 54/54 [00:08<00:00,  6.68it/s]"
     ]
    },
    {
     "name": "stdout",
     "output_type": "stream",
     "text": [
      "                   all        851       1040      0.926      0.879      0.934      0.658\n"
     ]
    },
    {
     "name": "stderr",
     "output_type": "stream",
     "text": [
      "\n"
     ]
    },
    {
     "name": "stdout",
     "output_type": "stream",
     "text": [
      "\n",
      "      Epoch    GPU_mem   box_loss   cls_loss   dfl_loss  Instances       Size\n"
     ]
    },
    {
     "name": "stderr",
     "output_type": "stream",
     "text": [
      "     68/100      9.96G      0.858     0.6071      1.305         13        640: 100%|██████████| 1064/1064 [03:20<00:00,  5.32it/s]\n",
      "                 Class     Images  Instances      Box(P          R      mAP50  mAP50-95): 100%|██████████| 54/54 [00:07<00:00,  7.41it/s]"
     ]
    },
    {
     "name": "stdout",
     "output_type": "stream",
     "text": [
      "                   all        851       1040      0.916      0.877      0.933      0.658\n"
     ]
    },
    {
     "name": "stderr",
     "output_type": "stream",
     "text": [
      "\n"
     ]
    },
    {
     "name": "stdout",
     "output_type": "stream",
     "text": [
      "\n",
      "      Epoch    GPU_mem   box_loss   cls_loss   dfl_loss  Instances       Size\n"
     ]
    },
    {
     "name": "stderr",
     "output_type": "stream",
     "text": [
      "     69/100      9.96G     0.8541     0.6067      1.302         12        640: 100%|██████████| 1064/1064 [03:17<00:00,  5.39it/s]\n",
      "                 Class     Images  Instances      Box(P          R      mAP50  mAP50-95): 100%|██████████| 54/54 [00:07<00:00,  7.45it/s]"
     ]
    },
    {
     "name": "stdout",
     "output_type": "stream",
     "text": [
      "                   all        851       1040      0.937      0.864      0.931      0.658\n"
     ]
    },
    {
     "name": "stderr",
     "output_type": "stream",
     "text": [
      "\n"
     ]
    },
    {
     "name": "stdout",
     "output_type": "stream",
     "text": [
      "\n",
      "      Epoch    GPU_mem   box_loss   cls_loss   dfl_loss  Instances       Size\n"
     ]
    },
    {
     "name": "stderr",
     "output_type": "stream",
     "text": [
      "     70/100      9.96G     0.8398     0.5965      1.291         14        640: 100%|██████████| 1064/1064 [03:18<00:00,  5.37it/s]\n",
      "                 Class     Images  Instances      Box(P          R      mAP50  mAP50-95): 100%|██████████| 54/54 [00:07<00:00,  7.49it/s]"
     ]
    },
    {
     "name": "stdout",
     "output_type": "stream",
     "text": [
      "                   all        851       1040       0.92      0.883      0.931      0.661\n"
     ]
    },
    {
     "name": "stderr",
     "output_type": "stream",
     "text": [
      "\n"
     ]
    },
    {
     "name": "stdout",
     "output_type": "stream",
     "text": [
      "\n",
      "      Epoch    GPU_mem   box_loss   cls_loss   dfl_loss  Instances       Size\n"
     ]
    },
    {
     "name": "stderr",
     "output_type": "stream",
     "text": [
      "     71/100      9.96G     0.8354     0.5936      1.287         13        640: 100%|██████████| 1064/1064 [03:16<00:00,  5.40it/s]\n",
      "                 Class     Images  Instances      Box(P          R      mAP50  mAP50-95): 100%|██████████| 54/54 [00:07<00:00,  7.48it/s]"
     ]
    },
    {
     "name": "stdout",
     "output_type": "stream",
     "text": [
      "                   all        851       1040      0.929      0.888      0.936       0.66\n"
     ]
    },
    {
     "name": "stderr",
     "output_type": "stream",
     "text": [
      "\n"
     ]
    },
    {
     "name": "stdout",
     "output_type": "stream",
     "text": [
      "\n",
      "      Epoch    GPU_mem   box_loss   cls_loss   dfl_loss  Instances       Size\n"
     ]
    },
    {
     "name": "stderr",
     "output_type": "stream",
     "text": [
      "     72/100      9.96G     0.8347     0.5939       1.29         17        640: 100%|██████████| 1064/1064 [03:16<00:00,  5.40it/s]\n",
      "                 Class     Images  Instances      Box(P          R      mAP50  mAP50-95): 100%|██████████| 54/54 [00:07<00:00,  7.44it/s]"
     ]
    },
    {
     "name": "stdout",
     "output_type": "stream",
     "text": [
      "                   all        851       1040      0.941      0.876      0.936      0.662\n"
     ]
    },
    {
     "name": "stderr",
     "output_type": "stream",
     "text": [
      "\n"
     ]
    },
    {
     "name": "stdout",
     "output_type": "stream",
     "text": [
      "\n",
      "      Epoch    GPU_mem   box_loss   cls_loss   dfl_loss  Instances       Size\n"
     ]
    },
    {
     "name": "stderr",
     "output_type": "stream",
     "text": [
      "     73/100      9.96G     0.8234     0.5849      1.284         11        640: 100%|██████████| 1064/1064 [03:17<00:00,  5.40it/s]\n",
      "                 Class     Images  Instances      Box(P          R      mAP50  mAP50-95): 100%|██████████| 54/54 [00:07<00:00,  7.44it/s]"
     ]
    },
    {
     "name": "stdout",
     "output_type": "stream",
     "text": [
      "                   all        851       1040      0.935      0.863      0.932      0.657\n"
     ]
    },
    {
     "name": "stderr",
     "output_type": "stream",
     "text": [
      "\n"
     ]
    },
    {
     "name": "stdout",
     "output_type": "stream",
     "text": [
      "\n",
      "      Epoch    GPU_mem   box_loss   cls_loss   dfl_loss  Instances       Size\n"
     ]
    },
    {
     "name": "stderr",
     "output_type": "stream",
     "text": [
      "     74/100      9.96G     0.8227     0.5883      1.278         12        640: 100%|██████████| 1064/1064 [03:20<00:00,  5.32it/s]\n",
      "                 Class     Images  Instances      Box(P          R      mAP50  mAP50-95): 100%|██████████| 54/54 [00:08<00:00,  6.72it/s]\n"
     ]
    },
    {
     "name": "stdout",
     "output_type": "stream",
     "text": [
      "                   all        851       1040      0.922      0.882      0.932      0.658\n",
      "\n",
      "      Epoch    GPU_mem   box_loss   cls_loss   dfl_loss  Instances       Size\n"
     ]
    },
    {
     "name": "stderr",
     "output_type": "stream",
     "text": [
      "     75/100      9.96G     0.8098     0.5775      1.274         17        640: 100%|██████████| 1064/1064 [03:19<00:00,  5.33it/s]\n",
      "                 Class     Images  Instances      Box(P          R      mAP50  mAP50-95): 100%|██████████| 54/54 [00:07<00:00,  7.46it/s]"
     ]
    },
    {
     "name": "stdout",
     "output_type": "stream",
     "text": [
      "                   all        851       1040       0.93      0.877      0.933      0.657\n"
     ]
    },
    {
     "name": "stderr",
     "output_type": "stream",
     "text": [
      "\n"
     ]
    },
    {
     "name": "stdout",
     "output_type": "stream",
     "text": [
      "\n",
      "      Epoch    GPU_mem   box_loss   cls_loss   dfl_loss  Instances       Size\n"
     ]
    },
    {
     "name": "stderr",
     "output_type": "stream",
     "text": [
      "     76/100      9.96G     0.8189     0.5787      1.278         14        640: 100%|██████████| 1064/1064 [03:18<00:00,  5.35it/s]\n",
      "                 Class     Images  Instances      Box(P          R      mAP50  mAP50-95): 100%|██████████| 54/54 [00:07<00:00,  7.41it/s]"
     ]
    },
    {
     "name": "stdout",
     "output_type": "stream",
     "text": [
      "                   all        851       1040      0.929      0.874      0.931      0.661\n"
     ]
    },
    {
     "name": "stderr",
     "output_type": "stream",
     "text": [
      "\n"
     ]
    },
    {
     "name": "stdout",
     "output_type": "stream",
     "text": [
      "\n",
      "      Epoch    GPU_mem   box_loss   cls_loss   dfl_loss  Instances       Size\n"
     ]
    },
    {
     "name": "stderr",
     "output_type": "stream",
     "text": [
      "     77/100      9.96G     0.7992      0.566      1.267         22        640: 100%|██████████| 1064/1064 [03:17<00:00,  5.39it/s]\n",
      "                 Class     Images  Instances      Box(P          R      mAP50  mAP50-95): 100%|██████████| 54/54 [00:07<00:00,  7.45it/s]"
     ]
    },
    {
     "name": "stdout",
     "output_type": "stream",
     "text": [
      "                   all        851       1040       0.92      0.885      0.931      0.657\n"
     ]
    },
    {
     "name": "stderr",
     "output_type": "stream",
     "text": [
      "\n"
     ]
    },
    {
     "name": "stdout",
     "output_type": "stream",
     "text": [
      "\n",
      "      Epoch    GPU_mem   box_loss   cls_loss   dfl_loss  Instances       Size\n"
     ]
    },
    {
     "name": "stderr",
     "output_type": "stream",
     "text": [
      "     78/100      9.96G     0.7917     0.5604      1.263         16        640: 100%|██████████| 1064/1064 [03:16<00:00,  5.41it/s]\n",
      "                 Class     Images  Instances      Box(P          R      mAP50  mAP50-95): 100%|██████████| 54/54 [00:07<00:00,  6.78it/s]"
     ]
    },
    {
     "name": "stdout",
     "output_type": "stream",
     "text": [
      "                   all        851       1040      0.914      0.878       0.93      0.656\n"
     ]
    },
    {
     "name": "stderr",
     "output_type": "stream",
     "text": [
      "\n"
     ]
    },
    {
     "name": "stdout",
     "output_type": "stream",
     "text": [
      "\n",
      "      Epoch    GPU_mem   box_loss   cls_loss   dfl_loss  Instances       Size\n"
     ]
    },
    {
     "name": "stderr",
     "output_type": "stream",
     "text": [
      "     79/100      9.96G     0.7899     0.5634       1.26         16        640: 100%|██████████| 1064/1064 [03:24<00:00,  5.21it/s]\n",
      "                 Class     Images  Instances      Box(P          R      mAP50  mAP50-95): 100%|██████████| 54/54 [00:07<00:00,  7.44it/s]"
     ]
    },
    {
     "name": "stdout",
     "output_type": "stream",
     "text": [
      "                   all        851       1040       0.91      0.893      0.932      0.656\n"
     ]
    },
    {
     "name": "stderr",
     "output_type": "stream",
     "text": [
      "\n"
     ]
    },
    {
     "name": "stdout",
     "output_type": "stream",
     "text": [
      "\n",
      "      Epoch    GPU_mem   box_loss   cls_loss   dfl_loss  Instances       Size\n"
     ]
    },
    {
     "name": "stderr",
     "output_type": "stream",
     "text": [
      "     80/100      9.96G     0.7857     0.5441      1.258         15        640: 100%|██████████| 1064/1064 [03:17<00:00,  5.38it/s]\n",
      "                 Class     Images  Instances      Box(P          R      mAP50  mAP50-95): 100%|██████████| 54/54 [00:07<00:00,  7.47it/s]"
     ]
    },
    {
     "name": "stdout",
     "output_type": "stream",
     "text": [
      "                   all        851       1040      0.927      0.875      0.932      0.658\n"
     ]
    },
    {
     "name": "stderr",
     "output_type": "stream",
     "text": [
      "\n"
     ]
    },
    {
     "name": "stdout",
     "output_type": "stream",
     "text": [
      "\n",
      "      Epoch    GPU_mem   box_loss   cls_loss   dfl_loss  Instances       Size\n"
     ]
    },
    {
     "name": "stderr",
     "output_type": "stream",
     "text": [
      "     81/100      9.96G     0.7771     0.5387      1.246         17        640: 100%|██████████| 1064/1064 [03:16<00:00,  5.42it/s]\n",
      "                 Class     Images  Instances      Box(P          R      mAP50  mAP50-95): 100%|██████████| 54/54 [00:07<00:00,  7.49it/s]"
     ]
    },
    {
     "name": "stdout",
     "output_type": "stream",
     "text": [
      "                   all        851       1040      0.935      0.873      0.934      0.658\n"
     ]
    },
    {
     "name": "stderr",
     "output_type": "stream",
     "text": [
      "\n"
     ]
    },
    {
     "name": "stdout",
     "output_type": "stream",
     "text": [
      "\n",
      "      Epoch    GPU_mem   box_loss   cls_loss   dfl_loss  Instances       Size\n"
     ]
    },
    {
     "name": "stderr",
     "output_type": "stream",
     "text": [
      "     82/100      9.96G      0.777      0.542      1.247          5        640: 100%|██████████| 1064/1064 [03:29<00:00,  5.08it/s]\n",
      "                 Class     Images  Instances      Box(P          R      mAP50  mAP50-95): 100%|██████████| 54/54 [00:08<00:00,  6.69it/s]"
     ]
    },
    {
     "name": "stdout",
     "output_type": "stream",
     "text": [
      "                   all        851       1040      0.926      0.882      0.932      0.658\n"
     ]
    },
    {
     "name": "stderr",
     "output_type": "stream",
     "text": [
      "\n"
     ]
    },
    {
     "name": "stdout",
     "output_type": "stream",
     "text": [
      "\n",
      "      Epoch    GPU_mem   box_loss   cls_loss   dfl_loss  Instances       Size\n"
     ]
    },
    {
     "name": "stderr",
     "output_type": "stream",
     "text": [
      "     83/100      9.96G     0.7626     0.5357      1.242         25        640: 100%|██████████| 1064/1064 [03:25<00:00,  5.18it/s]\n",
      "                 Class     Images  Instances      Box(P          R      mAP50  mAP50-95): 100%|██████████| 54/54 [00:07<00:00,  7.42it/s]"
     ]
    },
    {
     "name": "stdout",
     "output_type": "stream",
     "text": [
      "                   all        851       1040      0.928      0.884      0.933      0.658\n"
     ]
    },
    {
     "name": "stderr",
     "output_type": "stream",
     "text": [
      "\n"
     ]
    },
    {
     "name": "stdout",
     "output_type": "stream",
     "text": [
      "\n",
      "      Epoch    GPU_mem   box_loss   cls_loss   dfl_loss  Instances       Size\n"
     ]
    },
    {
     "name": "stderr",
     "output_type": "stream",
     "text": [
      "     84/100      9.96G     0.7529     0.5257      1.231         15        640: 100%|██████████| 1064/1064 [03:26<00:00,  5.15it/s]\n",
      "                 Class     Images  Instances      Box(P          R      mAP50  mAP50-95): 100%|██████████| 54/54 [00:07<00:00,  7.43it/s]"
     ]
    },
    {
     "name": "stdout",
     "output_type": "stream",
     "text": [
      "                   all        851       1040      0.927      0.877      0.932      0.657\n"
     ]
    },
    {
     "name": "stderr",
     "output_type": "stream",
     "text": [
      "\n"
     ]
    },
    {
     "name": "stdout",
     "output_type": "stream",
     "text": [
      "\n",
      "      Epoch    GPU_mem   box_loss   cls_loss   dfl_loss  Instances       Size\n"
     ]
    },
    {
     "name": "stderr",
     "output_type": "stream",
     "text": [
      "     85/100      9.96G      0.747     0.5243       1.23         14        640: 100%|██████████| 1064/1064 [03:22<00:00,  5.25it/s]\n",
      "                 Class     Images  Instances      Box(P          R      mAP50  mAP50-95): 100%|██████████| 54/54 [00:07<00:00,  7.40it/s]"
     ]
    },
    {
     "name": "stdout",
     "output_type": "stream",
     "text": [
      "                   all        851       1040      0.922      0.874      0.932      0.657\n"
     ]
    },
    {
     "name": "stderr",
     "output_type": "stream",
     "text": [
      "\n"
     ]
    },
    {
     "name": "stdout",
     "output_type": "stream",
     "text": [
      "\n",
      "      Epoch    GPU_mem   box_loss   cls_loss   dfl_loss  Instances       Size\n"
     ]
    },
    {
     "name": "stderr",
     "output_type": "stream",
     "text": [
      "     86/100      9.96G     0.7458     0.5208      1.229         16        640: 100%|██████████| 1064/1064 [03:18<00:00,  5.35it/s]\n",
      "                 Class     Images  Instances      Box(P          R      mAP50  mAP50-95): 100%|██████████| 54/54 [00:07<00:00,  7.36it/s]"
     ]
    },
    {
     "name": "stdout",
     "output_type": "stream",
     "text": [
      "                   all        851       1040      0.923      0.876      0.932      0.657\n"
     ]
    },
    {
     "name": "stderr",
     "output_type": "stream",
     "text": [
      "\n"
     ]
    },
    {
     "name": "stdout",
     "output_type": "stream",
     "text": [
      "\n",
      "      Epoch    GPU_mem   box_loss   cls_loss   dfl_loss  Instances       Size\n"
     ]
    },
    {
     "name": "stderr",
     "output_type": "stream",
     "text": [
      "     87/100      9.96G     0.7354     0.5175       1.22         12        640: 100%|██████████| 1064/1064 [03:19<00:00,  5.34it/s]\n",
      "                 Class     Images  Instances      Box(P          R      mAP50  mAP50-95): 100%|██████████| 54/54 [00:07<00:00,  7.45it/s]"
     ]
    },
    {
     "name": "stdout",
     "output_type": "stream",
     "text": [
      "                   all        851       1040      0.928      0.868      0.931      0.657\n"
     ]
    },
    {
     "name": "stderr",
     "output_type": "stream",
     "text": [
      "\n"
     ]
    },
    {
     "name": "stdout",
     "output_type": "stream",
     "text": [
      "\n",
      "      Epoch    GPU_mem   box_loss   cls_loss   dfl_loss  Instances       Size\n"
     ]
    },
    {
     "name": "stderr",
     "output_type": "stream",
     "text": [
      "     88/100      9.96G     0.7314     0.5153      1.218         20        640: 100%|██████████| 1064/1064 [03:19<00:00,  5.33it/s]\n",
      "                 Class     Images  Instances      Box(P          R      mAP50  mAP50-95): 100%|██████████| 54/54 [00:07<00:00,  7.44it/s]"
     ]
    },
    {
     "name": "stdout",
     "output_type": "stream",
     "text": [
      "                   all        851       1040      0.924      0.871      0.933      0.658\n"
     ]
    },
    {
     "name": "stderr",
     "output_type": "stream",
     "text": [
      "\n"
     ]
    },
    {
     "name": "stdout",
     "output_type": "stream",
     "text": [
      "\n",
      "      Epoch    GPU_mem   box_loss   cls_loss   dfl_loss  Instances       Size\n"
     ]
    },
    {
     "name": "stderr",
     "output_type": "stream",
     "text": [
      "     89/100      9.96G     0.7314     0.5059      1.216         14        640: 100%|██████████| 1064/1064 [03:19<00:00,  5.32it/s]\n",
      "                 Class     Images  Instances      Box(P          R      mAP50  mAP50-95): 100%|██████████| 54/54 [00:07<00:00,  7.43it/s]"
     ]
    },
    {
     "name": "stdout",
     "output_type": "stream",
     "text": [
      "                   all        851       1040      0.915      0.878      0.933      0.657\n"
     ]
    },
    {
     "name": "stderr",
     "output_type": "stream",
     "text": [
      "\n"
     ]
    },
    {
     "name": "stdout",
     "output_type": "stream",
     "text": [
      "\n",
      "      Epoch    GPU_mem   box_loss   cls_loss   dfl_loss  Instances       Size\n"
     ]
    },
    {
     "name": "stderr",
     "output_type": "stream",
     "text": [
      "     90/100      9.96G     0.7291     0.5147      1.215         14        640: 100%|██████████| 1064/1064 [03:20<00:00,  5.31it/s]\n",
      "                 Class     Images  Instances      Box(P          R      mAP50  mAP50-95): 100%|██████████| 54/54 [00:07<00:00,  7.35it/s]"
     ]
    },
    {
     "name": "stdout",
     "output_type": "stream",
     "text": [
      "                   all        851       1040      0.925      0.868      0.932      0.656\n"
     ]
    },
    {
     "name": "stderr",
     "output_type": "stream",
     "text": [
      "\n"
     ]
    },
    {
     "name": "stdout",
     "output_type": "stream",
     "text": [
      "Closing dataloader mosaic\n",
      "\n",
      "      Epoch    GPU_mem   box_loss   cls_loss   dfl_loss  Instances       Size\n"
     ]
    },
    {
     "name": "stderr",
     "output_type": "stream",
     "text": [
      "     91/100      9.96G     0.5975     0.3259      1.172          8        640: 100%|██████████| 1064/1064 [03:13<00:00,  5.50it/s]\n",
      "                 Class     Images  Instances      Box(P          R      mAP50  mAP50-95): 100%|██████████| 54/54 [00:07<00:00,  7.35it/s]"
     ]
    },
    {
     "name": "stdout",
     "output_type": "stream",
     "text": [
      "                   all        851       1040      0.907      0.884      0.931      0.654\n"
     ]
    },
    {
     "name": "stderr",
     "output_type": "stream",
     "text": [
      "\n"
     ]
    },
    {
     "name": "stdout",
     "output_type": "stream",
     "text": [
      "\n",
      "      Epoch    GPU_mem   box_loss   cls_loss   dfl_loss  Instances       Size\n"
     ]
    },
    {
     "name": "stderr",
     "output_type": "stream",
     "text": [
      "     92/100      9.96G     0.5748     0.3096      1.158          8        640: 100%|██████████| 1064/1064 [03:13<00:00,  5.49it/s]\n",
      "                 Class     Images  Instances      Box(P          R      mAP50  mAP50-95): 100%|██████████| 54/54 [00:07<00:00,  7.43it/s]"
     ]
    },
    {
     "name": "stdout",
     "output_type": "stream",
     "text": [
      "                   all        851       1040      0.914      0.881      0.931      0.655\n"
     ]
    },
    {
     "name": "stderr",
     "output_type": "stream",
     "text": [
      "\n"
     ]
    },
    {
     "name": "stdout",
     "output_type": "stream",
     "text": [
      "\n",
      "      Epoch    GPU_mem   box_loss   cls_loss   dfl_loss  Instances       Size\n"
     ]
    },
    {
     "name": "stderr",
     "output_type": "stream",
     "text": [
      "     93/100      9.96G     0.5629     0.3036      1.149          8        640: 100%|██████████| 1064/1064 [03:17<00:00,  5.38it/s]\n",
      "                 Class     Images  Instances      Box(P          R      mAP50  mAP50-95): 100%|██████████| 54/54 [00:08<00:00,  6.49it/s]"
     ]
    },
    {
     "name": "stdout",
     "output_type": "stream",
     "text": [
      "                   all        851       1040       0.91      0.878       0.93      0.655\n"
     ]
    },
    {
     "name": "stderr",
     "output_type": "stream",
     "text": [
      "\n"
     ]
    },
    {
     "name": "stdout",
     "output_type": "stream",
     "text": [
      "\n",
      "      Epoch    GPU_mem   box_loss   cls_loss   dfl_loss  Instances       Size\n"
     ]
    },
    {
     "name": "stderr",
     "output_type": "stream",
     "text": [
      "     94/100      9.96G     0.5535     0.3018      1.141          6        640: 100%|██████████| 1064/1064 [03:15<00:00,  5.45it/s]\n",
      "                 Class     Images  Instances      Box(P          R      mAP50  mAP50-95): 100%|██████████| 54/54 [00:07<00:00,  7.46it/s]"
     ]
    },
    {
     "name": "stdout",
     "output_type": "stream",
     "text": [
      "                   all        851       1040      0.909      0.878       0.93      0.655\n"
     ]
    },
    {
     "name": "stderr",
     "output_type": "stream",
     "text": [
      "\n"
     ]
    },
    {
     "name": "stdout",
     "output_type": "stream",
     "text": [
      "\n",
      "      Epoch    GPU_mem   box_loss   cls_loss   dfl_loss  Instances       Size\n"
     ]
    },
    {
     "name": "stderr",
     "output_type": "stream",
     "text": [
      "     95/100      9.96G     0.5415     0.2905       1.13          7        640: 100%|██████████| 1064/1064 [03:13<00:00,  5.51it/s]\n",
      "                 Class     Images  Instances      Box(P          R      mAP50  mAP50-95): 100%|██████████| 54/54 [00:07<00:00,  7.45it/s]"
     ]
    },
    {
     "name": "stdout",
     "output_type": "stream",
     "text": [
      "                   all        851       1040      0.904      0.883      0.929      0.654\n"
     ]
    },
    {
     "name": "stderr",
     "output_type": "stream",
     "text": [
      "\n"
     ]
    },
    {
     "name": "stdout",
     "output_type": "stream",
     "text": [
      "\n",
      "      Epoch    GPU_mem   box_loss   cls_loss   dfl_loss  Instances       Size\n"
     ]
    },
    {
     "name": "stderr",
     "output_type": "stream",
     "text": [
      "     96/100      9.96G     0.5384     0.2889      1.125          6        640: 100%|██████████| 1064/1064 [03:10<00:00,  5.58it/s]\n",
      "                 Class     Images  Instances      Box(P          R      mAP50  mAP50-95): 100%|██████████| 54/54 [00:07<00:00,  7.41it/s]"
     ]
    },
    {
     "name": "stdout",
     "output_type": "stream",
     "text": [
      "                   all        851       1040        0.9      0.889      0.929      0.655\n"
     ]
    },
    {
     "name": "stderr",
     "output_type": "stream",
     "text": [
      "\n"
     ]
    },
    {
     "name": "stdout",
     "output_type": "stream",
     "text": [
      "\n",
      "      Epoch    GPU_mem   box_loss   cls_loss   dfl_loss  Instances       Size\n"
     ]
    },
    {
     "name": "stderr",
     "output_type": "stream",
     "text": [
      "     97/100      9.96G     0.5262     0.2804      1.117          8        640: 100%|██████████| 1064/1064 [03:10<00:00,  5.57it/s]\n",
      "                 Class     Images  Instances      Box(P          R      mAP50  mAP50-95): 100%|██████████| 54/54 [00:07<00:00,  7.42it/s]"
     ]
    },
    {
     "name": "stdout",
     "output_type": "stream",
     "text": [
      "                   all        851       1040      0.892      0.891      0.928      0.654\n"
     ]
    },
    {
     "name": "stderr",
     "output_type": "stream",
     "text": [
      "\n"
     ]
    },
    {
     "name": "stdout",
     "output_type": "stream",
     "text": [
      "\n",
      "      Epoch    GPU_mem   box_loss   cls_loss   dfl_loss  Instances       Size\n"
     ]
    },
    {
     "name": "stderr",
     "output_type": "stream",
     "text": [
      "     98/100      9.96G     0.5221     0.2792      1.111         10        640: 100%|██████████| 1064/1064 [03:11<00:00,  5.55it/s]\n",
      "                 Class     Images  Instances      Box(P          R      mAP50  mAP50-95): 100%|██████████| 54/54 [00:07<00:00,  7.48it/s]"
     ]
    },
    {
     "name": "stdout",
     "output_type": "stream",
     "text": [
      "                   all        851       1040       0.89      0.891      0.928      0.655\n"
     ]
    },
    {
     "name": "stderr",
     "output_type": "stream",
     "text": [
      "\n"
     ]
    },
    {
     "name": "stdout",
     "output_type": "stream",
     "text": [
      "\n",
      "      Epoch    GPU_mem   box_loss   cls_loss   dfl_loss  Instances       Size\n"
     ]
    },
    {
     "name": "stderr",
     "output_type": "stream",
     "text": [
      "     99/100      9.96G     0.5086     0.2731      1.101          5        640: 100%|██████████| 1064/1064 [03:10<00:00,  5.59it/s]\n",
      "                 Class     Images  Instances      Box(P          R      mAP50  mAP50-95): 100%|██████████| 54/54 [00:07<00:00,  7.49it/s]"
     ]
    },
    {
     "name": "stdout",
     "output_type": "stream",
     "text": [
      "                   all        851       1040      0.898       0.88      0.926      0.654\n"
     ]
    },
    {
     "name": "stderr",
     "output_type": "stream",
     "text": [
      "\n"
     ]
    },
    {
     "name": "stdout",
     "output_type": "stream",
     "text": [
      "\n",
      "      Epoch    GPU_mem   box_loss   cls_loss   dfl_loss  Instances       Size\n"
     ]
    },
    {
     "name": "stderr",
     "output_type": "stream",
     "text": [
      "    100/100      9.96G     0.5098     0.2723      1.103          8        640: 100%|██████████| 1064/1064 [03:10<00:00,  5.57it/s]\n",
      "                 Class     Images  Instances      Box(P          R      mAP50  mAP50-95): 100%|██████████| 54/54 [00:07<00:00,  7.45it/s]"
     ]
    },
    {
     "name": "stdout",
     "output_type": "stream",
     "text": [
      "                   all        851       1040      0.898      0.879      0.926      0.653\n"
     ]
    },
    {
     "name": "stderr",
     "output_type": "stream",
     "text": [
      "\n"
     ]
    },
    {
     "name": "stdout",
     "output_type": "stream",
     "text": [
      "\n",
      "100 epochs completed in 5.768 hours.\n",
      "Optimizer stripped from runs/detect/train5/weights/last.pt, 40.5MB\n",
      "Optimizer stripped from runs/detect/train5/weights/best.pt, 40.5MB\n",
      "\n",
      "Validating runs/detect/train5/weights/best.pt...\n",
      "Ultralytics 8.3.63 🚀 Python-3.12.6 torch-2.5.1+cu124 CUDA:0 (NVIDIA A100-SXM4-40GB, 40339MiB)\n",
      "YOLO11m summary (fused): 303 layers, 20,030,803 parameters, 0 gradients, 67.6 GFLOPs\n"
     ]
    },
    {
     "name": "stderr",
     "output_type": "stream",
     "text": [
      "                 Class     Images  Instances      Box(P          R      mAP50  mAP50-95): 100%|██████████| 54/54 [00:07<00:00,  7.33it/s]\n"
     ]
    },
    {
     "name": "stdout",
     "output_type": "stream",
     "text": [
      "                   all        851       1040      0.941      0.876      0.936      0.662\n",
      "Speed: 0.5ms preprocess, 2.7ms inference, 0.0ms loss, 0.5ms postprocess per image\n",
      "Results saved to \u001b[1mruns/detect/train5\u001b[0m\n"
     ]
    },
    {
     "data": {
      "text/plain": [
       "ultralytics.utils.metrics.DetMetrics object with attributes:\n",
       "\n",
       "ap_class_index: array([0])\n",
       "box: ultralytics.utils.metrics.Metric object\n",
       "confusion_matrix: <ultralytics.utils.metrics.ConfusionMatrix object at 0x7732e663dbe0>\n",
       "curves: ['Precision-Recall(B)', 'F1-Confidence(B)', 'Precision-Confidence(B)', 'Recall-Confidence(B)']\n",
       "curves_results: [[array([          0,    0.001001,    0.002002,    0.003003,    0.004004,    0.005005,    0.006006,    0.007007,    0.008008,    0.009009,     0.01001,    0.011011,    0.012012,    0.013013,    0.014014,    0.015015,    0.016016,    0.017017,    0.018018,    0.019019,     0.02002,    0.021021,    0.022022,    0.023023,\n",
       "          0.024024,    0.025025,    0.026026,    0.027027,    0.028028,    0.029029,     0.03003,    0.031031,    0.032032,    0.033033,    0.034034,    0.035035,    0.036036,    0.037037,    0.038038,    0.039039,     0.04004,    0.041041,    0.042042,    0.043043,    0.044044,    0.045045,    0.046046,    0.047047,\n",
       "          0.048048,    0.049049,     0.05005,    0.051051,    0.052052,    0.053053,    0.054054,    0.055055,    0.056056,    0.057057,    0.058058,    0.059059,     0.06006,    0.061061,    0.062062,    0.063063,    0.064064,    0.065065,    0.066066,    0.067067,    0.068068,    0.069069,     0.07007,    0.071071,\n",
       "          0.072072,    0.073073,    0.074074,    0.075075,    0.076076,    0.077077,    0.078078,    0.079079,     0.08008,    0.081081,    0.082082,    0.083083,    0.084084,    0.085085,    0.086086,    0.087087,    0.088088,    0.089089,     0.09009,    0.091091,    0.092092,    0.093093,    0.094094,    0.095095,\n",
       "          0.096096,    0.097097,    0.098098,    0.099099,      0.1001,      0.1011,      0.1021,      0.1031,      0.1041,     0.10511,     0.10611,     0.10711,     0.10811,     0.10911,     0.11011,     0.11111,     0.11211,     0.11311,     0.11411,     0.11512,     0.11612,     0.11712,     0.11812,     0.11912,\n",
       "           0.12012,     0.12112,     0.12212,     0.12312,     0.12412,     0.12513,     0.12613,     0.12713,     0.12813,     0.12913,     0.13013,     0.13113,     0.13213,     0.13313,     0.13413,     0.13514,     0.13614,     0.13714,     0.13814,     0.13914,     0.14014,     0.14114,     0.14214,     0.14314,\n",
       "           0.14414,     0.14515,     0.14615,     0.14715,     0.14815,     0.14915,     0.15015,     0.15115,     0.15215,     0.15315,     0.15415,     0.15516,     0.15616,     0.15716,     0.15816,     0.15916,     0.16016,     0.16116,     0.16216,     0.16316,     0.16416,     0.16517,     0.16617,     0.16717,\n",
       "           0.16817,     0.16917,     0.17017,     0.17117,     0.17217,     0.17317,     0.17417,     0.17518,     0.17618,     0.17718,     0.17818,     0.17918,     0.18018,     0.18118,     0.18218,     0.18318,     0.18418,     0.18519,     0.18619,     0.18719,     0.18819,     0.18919,     0.19019,     0.19119,\n",
       "           0.19219,     0.19319,     0.19419,      0.1952,      0.1962,      0.1972,      0.1982,      0.1992,      0.2002,      0.2012,      0.2022,      0.2032,      0.2042,     0.20521,     0.20621,     0.20721,     0.20821,     0.20921,     0.21021,     0.21121,     0.21221,     0.21321,     0.21421,     0.21522,\n",
       "           0.21622,     0.21722,     0.21822,     0.21922,     0.22022,     0.22122,     0.22222,     0.22322,     0.22422,     0.22523,     0.22623,     0.22723,     0.22823,     0.22923,     0.23023,     0.23123,     0.23223,     0.23323,     0.23423,     0.23524,     0.23624,     0.23724,     0.23824,     0.23924,\n",
       "           0.24024,     0.24124,     0.24224,     0.24324,     0.24424,     0.24525,     0.24625,     0.24725,     0.24825,     0.24925,     0.25025,     0.25125,     0.25225,     0.25325,     0.25425,     0.25526,     0.25626,     0.25726,     0.25826,     0.25926,     0.26026,     0.26126,     0.26226,     0.26326,\n",
       "           0.26426,     0.26527,     0.26627,     0.26727,     0.26827,     0.26927,     0.27027,     0.27127,     0.27227,     0.27327,     0.27427,     0.27528,     0.27628,     0.27728,     0.27828,     0.27928,     0.28028,     0.28128,     0.28228,     0.28328,     0.28428,     0.28529,     0.28629,     0.28729,\n",
       "           0.28829,     0.28929,     0.29029,     0.29129,     0.29229,     0.29329,     0.29429,      0.2953,      0.2963,      0.2973,      0.2983,      0.2993,      0.3003,      0.3013,      0.3023,      0.3033,      0.3043,     0.30531,     0.30631,     0.30731,     0.30831,     0.30931,     0.31031,     0.31131,\n",
       "           0.31231,     0.31331,     0.31431,     0.31532,     0.31632,     0.31732,     0.31832,     0.31932,     0.32032,     0.32132,     0.32232,     0.32332,     0.32432,     0.32533,     0.32633,     0.32733,     0.32833,     0.32933,     0.33033,     0.33133,     0.33233,     0.33333,     0.33433,     0.33534,\n",
       "           0.33634,     0.33734,     0.33834,     0.33934,     0.34034,     0.34134,     0.34234,     0.34334,     0.34434,     0.34535,     0.34635,     0.34735,     0.34835,     0.34935,     0.35035,     0.35135,     0.35235,     0.35335,     0.35435,     0.35536,     0.35636,     0.35736,     0.35836,     0.35936,\n",
       "           0.36036,     0.36136,     0.36236,     0.36336,     0.36436,     0.36537,     0.36637,     0.36737,     0.36837,     0.36937,     0.37037,     0.37137,     0.37237,     0.37337,     0.37437,     0.37538,     0.37638,     0.37738,     0.37838,     0.37938,     0.38038,     0.38138,     0.38238,     0.38338,\n",
       "           0.38438,     0.38539,     0.38639,     0.38739,     0.38839,     0.38939,     0.39039,     0.39139,     0.39239,     0.39339,     0.39439,      0.3954,      0.3964,      0.3974,      0.3984,      0.3994,      0.4004,      0.4014,      0.4024,      0.4034,      0.4044,     0.40541,     0.40641,     0.40741,\n",
       "           0.40841,     0.40941,     0.41041,     0.41141,     0.41241,     0.41341,     0.41441,     0.41542,     0.41642,     0.41742,     0.41842,     0.41942,     0.42042,     0.42142,     0.42242,     0.42342,     0.42442,     0.42543,     0.42643,     0.42743,     0.42843,     0.42943,     0.43043,     0.43143,\n",
       "           0.43243,     0.43343,     0.43443,     0.43544,     0.43644,     0.43744,     0.43844,     0.43944,     0.44044,     0.44144,     0.44244,     0.44344,     0.44444,     0.44545,     0.44645,     0.44745,     0.44845,     0.44945,     0.45045,     0.45145,     0.45245,     0.45345,     0.45445,     0.45546,\n",
       "           0.45646,     0.45746,     0.45846,     0.45946,     0.46046,     0.46146,     0.46246,     0.46346,     0.46446,     0.46547,     0.46647,     0.46747,     0.46847,     0.46947,     0.47047,     0.47147,     0.47247,     0.47347,     0.47447,     0.47548,     0.47648,     0.47748,     0.47848,     0.47948,\n",
       "           0.48048,     0.48148,     0.48248,     0.48348,     0.48448,     0.48549,     0.48649,     0.48749,     0.48849,     0.48949,     0.49049,     0.49149,     0.49249,     0.49349,     0.49449,      0.4955,      0.4965,      0.4975,      0.4985,      0.4995,      0.5005,      0.5015,      0.5025,      0.5035,\n",
       "            0.5045,     0.50551,     0.50651,     0.50751,     0.50851,     0.50951,     0.51051,     0.51151,     0.51251,     0.51351,     0.51451,     0.51552,     0.51652,     0.51752,     0.51852,     0.51952,     0.52052,     0.52152,     0.52252,     0.52352,     0.52452,     0.52553,     0.52653,     0.52753,\n",
       "           0.52853,     0.52953,     0.53053,     0.53153,     0.53253,     0.53353,     0.53453,     0.53554,     0.53654,     0.53754,     0.53854,     0.53954,     0.54054,     0.54154,     0.54254,     0.54354,     0.54454,     0.54555,     0.54655,     0.54755,     0.54855,     0.54955,     0.55055,     0.55155,\n",
       "           0.55255,     0.55355,     0.55455,     0.55556,     0.55656,     0.55756,     0.55856,     0.55956,     0.56056,     0.56156,     0.56256,     0.56356,     0.56456,     0.56557,     0.56657,     0.56757,     0.56857,     0.56957,     0.57057,     0.57157,     0.57257,     0.57357,     0.57457,     0.57558,\n",
       "           0.57658,     0.57758,     0.57858,     0.57958,     0.58058,     0.58158,     0.58258,     0.58358,     0.58458,     0.58559,     0.58659,     0.58759,     0.58859,     0.58959,     0.59059,     0.59159,     0.59259,     0.59359,     0.59459,      0.5956,      0.5966,      0.5976,      0.5986,      0.5996,\n",
       "            0.6006,      0.6016,      0.6026,      0.6036,      0.6046,     0.60561,     0.60661,     0.60761,     0.60861,     0.60961,     0.61061,     0.61161,     0.61261,     0.61361,     0.61461,     0.61562,     0.61662,     0.61762,     0.61862,     0.61962,     0.62062,     0.62162,     0.62262,     0.62362,\n",
       "           0.62462,     0.62563,     0.62663,     0.62763,     0.62863,     0.62963,     0.63063,     0.63163,     0.63263,     0.63363,     0.63463,     0.63564,     0.63664,     0.63764,     0.63864,     0.63964,     0.64064,     0.64164,     0.64264,     0.64364,     0.64464,     0.64565,     0.64665,     0.64765,\n",
       "           0.64865,     0.64965,     0.65065,     0.65165,     0.65265,     0.65365,     0.65465,     0.65566,     0.65666,     0.65766,     0.65866,     0.65966,     0.66066,     0.66166,     0.66266,     0.66366,     0.66466,     0.66567,     0.66667,     0.66767,     0.66867,     0.66967,     0.67067,     0.67167,\n",
       "           0.67267,     0.67367,     0.67467,     0.67568,     0.67668,     0.67768,     0.67868,     0.67968,     0.68068,     0.68168,     0.68268,     0.68368,     0.68468,     0.68569,     0.68669,     0.68769,     0.68869,     0.68969,     0.69069,     0.69169,     0.69269,     0.69369,     0.69469,      0.6957,\n",
       "            0.6967,      0.6977,      0.6987,      0.6997,      0.7007,      0.7017,      0.7027,      0.7037,      0.7047,     0.70571,     0.70671,     0.70771,     0.70871,     0.70971,     0.71071,     0.71171,     0.71271,     0.71371,     0.71471,     0.71572,     0.71672,     0.71772,     0.71872,     0.71972,\n",
       "           0.72072,     0.72172,     0.72272,     0.72372,     0.72472,     0.72573,     0.72673,     0.72773,     0.72873,     0.72973,     0.73073,     0.73173,     0.73273,     0.73373,     0.73473,     0.73574,     0.73674,     0.73774,     0.73874,     0.73974,     0.74074,     0.74174,     0.74274,     0.74374,\n",
       "           0.74474,     0.74575,     0.74675,     0.74775,     0.74875,     0.74975,     0.75075,     0.75175,     0.75275,     0.75375,     0.75475,     0.75576,     0.75676,     0.75776,     0.75876,     0.75976,     0.76076,     0.76176,     0.76276,     0.76376,     0.76476,     0.76577,     0.76677,     0.76777,\n",
       "           0.76877,     0.76977,     0.77077,     0.77177,     0.77277,     0.77377,     0.77477,     0.77578,     0.77678,     0.77778,     0.77878,     0.77978,     0.78078,     0.78178,     0.78278,     0.78378,     0.78478,     0.78579,     0.78679,     0.78779,     0.78879,     0.78979,     0.79079,     0.79179,\n",
       "           0.79279,     0.79379,     0.79479,      0.7958,      0.7968,      0.7978,      0.7988,      0.7998,      0.8008,      0.8018,      0.8028,      0.8038,      0.8048,     0.80581,     0.80681,     0.80781,     0.80881,     0.80981,     0.81081,     0.81181,     0.81281,     0.81381,     0.81481,     0.81582,\n",
       "           0.81682,     0.81782,     0.81882,     0.81982,     0.82082,     0.82182,     0.82282,     0.82382,     0.82482,     0.82583,     0.82683,     0.82783,     0.82883,     0.82983,     0.83083,     0.83183,     0.83283,     0.83383,     0.83483,     0.83584,     0.83684,     0.83784,     0.83884,     0.83984,\n",
       "           0.84084,     0.84184,     0.84284,     0.84384,     0.84484,     0.84585,     0.84685,     0.84785,     0.84885,     0.84985,     0.85085,     0.85185,     0.85285,     0.85385,     0.85485,     0.85586,     0.85686,     0.85786,     0.85886,     0.85986,     0.86086,     0.86186,     0.86286,     0.86386,\n",
       "           0.86486,     0.86587,     0.86687,     0.86787,     0.86887,     0.86987,     0.87087,     0.87187,     0.87287,     0.87387,     0.87487,     0.87588,     0.87688,     0.87788,     0.87888,     0.87988,     0.88088,     0.88188,     0.88288,     0.88388,     0.88488,     0.88589,     0.88689,     0.88789,\n",
       "           0.88889,     0.88989,     0.89089,     0.89189,     0.89289,     0.89389,     0.89489,      0.8959,      0.8969,      0.8979,      0.8989,      0.8999,      0.9009,      0.9019,      0.9029,      0.9039,      0.9049,     0.90591,     0.90691,     0.90791,     0.90891,     0.90991,     0.91091,     0.91191,\n",
       "           0.91291,     0.91391,     0.91491,     0.91592,     0.91692,     0.91792,     0.91892,     0.91992,     0.92092,     0.92192,     0.92292,     0.92392,     0.92492,     0.92593,     0.92693,     0.92793,     0.92893,     0.92993,     0.93093,     0.93193,     0.93293,     0.93393,     0.93493,     0.93594,\n",
       "           0.93694,     0.93794,     0.93894,     0.93994,     0.94094,     0.94194,     0.94294,     0.94394,     0.94494,     0.94595,     0.94695,     0.94795,     0.94895,     0.94995,     0.95095,     0.95195,     0.95295,     0.95395,     0.95495,     0.95596,     0.95696,     0.95796,     0.95896,     0.95996,\n",
       "           0.96096,     0.96196,     0.96296,     0.96396,     0.96496,     0.96597,     0.96697,     0.96797,     0.96897,     0.96997,     0.97097,     0.97197,     0.97297,     0.97397,     0.97497,     0.97598,     0.97698,     0.97798,     0.97898,     0.97998,     0.98098,     0.98198,     0.98298,     0.98398,\n",
       "           0.98498,     0.98599,     0.98699,     0.98799,     0.98899,     0.98999,     0.99099,     0.99199,     0.99299,     0.99399,     0.99499,       0.996,       0.997,       0.998,       0.999,           1]), array([[          1,           1,           1,           1,           1,           1,           1,           1,           1,           1,           1,           1,           1,           1,           1,           1,           1,           1,           1,           1,           1,           1,           1,\n",
       "                  1,           1,           1,           1,           1,           1,           1,           1,           1,           1,           1,           1,           1,           1,           1,           1,           1,           1,           1,           1,           1,           1,           1,\n",
       "                  1,           1,           1,           1,           1,           1,           1,           1,           1,           1,           1,           1,           1,           1,           1,           1,           1,           1,           1,           1,           1,           1,           1,\n",
       "                  1,           1,           1,           1,           1,           1,           1,           1,           1,           1,           1,           1,           1,           1,           1,           1,           1,           1,           1,           1,           1,           1,           1,\n",
       "                  1,           1,           1,           1,           1,           1,           1,           1,           1,           1,           1,           1,           1,           1,           1,           1,           1,           1,           1,           1,           1,           1,           1,\n",
       "                  1,           1,           1,           1,           1,           1,           1,           1,           1,           1,           1,           1,           1,           1,           1,           1,           1,           1,           1,           1,           1,           1,           1,\n",
       "                  1,           1,           1,           1,           1,           1,           1,           1,           1,           1,           1,           1,           1,           1,           1,           1,           1,           1,           1,           1,           1,           1,           1,\n",
       "                  1,           1,           1,           1,           1,           1,           1,           1,           1,           1,           1,           1,           1,           1,           1,           1,           1,           1,           1,           1,           1,           1,           1,\n",
       "                  1,           1,           1,           1,           1,           1,           1,           1,           1,           1,           1,           1,           1,           1,           1,           1,           1,           1,           1,           1,           1,           1,           1,\n",
       "                  1,           1,           1,           1,           1,           1,           1,           1,           1,           1,           1,           1,           1,           1,           1,           1,           1,           1,           1,           1,           1,           1,           1,\n",
       "                  1,           1,           1,           1,           1,           1,           1,           1,           1,           1,           1,           1,           1,           1,           1,           1,           1,           1,           1,           1,           1,           1,           1,\n",
       "            0.99694,     0.99694,     0.99694,     0.99694,     0.99694,     0.99694,     0.99694,     0.99694,     0.99694,     0.99694,     0.99694,     0.99694,     0.99694,     0.99694,     0.99694,     0.99694,     0.99694,     0.99694,     0.99694,     0.99694,     0.99694,     0.99694,     0.99694,\n",
       "            0.99694,     0.99694,     0.99694,     0.99694,     0.99694,     0.99694,     0.99694,     0.99694,     0.99694,     0.99694,     0.99694,     0.99694,     0.99694,     0.99694,     0.99694,     0.99694,     0.99694,     0.99694,     0.99694,     0.99694,     0.99694,     0.99694,     0.99694,\n",
       "            0.99694,     0.99694,     0.99694,     0.99694,     0.99694,     0.99694,     0.99694,     0.99694,     0.99694,     0.99694,     0.99694,     0.99694,     0.99694,     0.99694,     0.99694,     0.99429,     0.99429,     0.99429,     0.99429,     0.99429,     0.99429,     0.99429,     0.99429,\n",
       "            0.99429,     0.99429,     0.99429,     0.99429,     0.99429,     0.99429,     0.99429,     0.99429,     0.99429,     0.99429,     0.99429,     0.99429,     0.99429,     0.99385,     0.99385,     0.99385,     0.99385,     0.99385,     0.99385,     0.99385,     0.99385,     0.99385,     0.99385,\n",
       "            0.99385,     0.99385,     0.99385,     0.99385,     0.99385,     0.99385,     0.99385,     0.99385,     0.99385,     0.99385,     0.99385,     0.99385,     0.99385,     0.99385,     0.99385,     0.99385,     0.99385,     0.99385,     0.99385,     0.99385,     0.99385,     0.99385,     0.99385,\n",
       "            0.99385,     0.99385,     0.99385,     0.99385,     0.99385,     0.99385,     0.99385,     0.99385,     0.99385,     0.99385,     0.99385,     0.99385,     0.99385,     0.99385,     0.99385,     0.99385,     0.99385,     0.99385,     0.99385,     0.99385,     0.99385,     0.99385,     0.99385,\n",
       "            0.99385,     0.99385,     0.99385,     0.99385,     0.99385,     0.99385,     0.99385,     0.99385,     0.99385,     0.99385,     0.99385,     0.99385,     0.99385,     0.99385,     0.99385,     0.99385,     0.99385,     0.99385,     0.99385,     0.99385,     0.99385,     0.99385,     0.99385,\n",
       "            0.99385,     0.99385,     0.99385,     0.99385,     0.99385,     0.99385,     0.99385,     0.99385,     0.99385,     0.99385,     0.99385,     0.99385,     0.99385,     0.99385,     0.99385,     0.99385,     0.99385,     0.99385,     0.99385,     0.99385,     0.99385,     0.99385,     0.99385,\n",
       "            0.99385,     0.99385,     0.99385,     0.99385,     0.99385,     0.99385,     0.99385,     0.99385,     0.99385,     0.99385,     0.99385,     0.99385,     0.99385,     0.99385,     0.99385,     0.99385,     0.99385,     0.99385,     0.99385,     0.99385,     0.99385,     0.99385,     0.99385,\n",
       "            0.99385,     0.99385,     0.99385,     0.99385,     0.99385,     0.99385,     0.99245,     0.99245,     0.99245,     0.99245,     0.99245,     0.99245,     0.99245,     0.99245,     0.99245,     0.99245,     0.99245,     0.99245,     0.99245,     0.99245,     0.99245,     0.99245,     0.99245,\n",
       "            0.99245,     0.99245,     0.99245,     0.99245,     0.99245,     0.99245,     0.99245,     0.99245,     0.99245,     0.99245,     0.99245,     0.99245,     0.99245,     0.99245,     0.99245,     0.99245,     0.99245,     0.99245,     0.99245,     0.99245,     0.99245,     0.99245,     0.99245,\n",
       "            0.99069,     0.99069,     0.99069,     0.99069,     0.99069,     0.99069,     0.98973,     0.98973,     0.98973,     0.98973,     0.98973,     0.98973,     0.98973,     0.98973,     0.98973,     0.98973,     0.98973,     0.98973,     0.98973,     0.98973,     0.98973,     0.98973,     0.98973,\n",
       "            0.98973,     0.98973,     0.98973,     0.98973,     0.98973,     0.98973,     0.98973,     0.98973,     0.98973,     0.98973,     0.98973,     0.98973,     0.98973,     0.98973,     0.98973,     0.98973,     0.98973,     0.98973,     0.98973,     0.98973,     0.98973,     0.98973,     0.98973,\n",
       "            0.98973,     0.98973,     0.98973,     0.98973,     0.98847,     0.98847,     0.98847,     0.98847,     0.98847,     0.98847,     0.98847,     0.98847,     0.98847,     0.98847,     0.98847,     0.98847,     0.98847,     0.98847,     0.98847,     0.98847,     0.98847,     0.98847,     0.98847,\n",
       "            0.98847,     0.98847,     0.98708,     0.98708,     0.98708,     0.98708,     0.98708,     0.98708,     0.98708,     0.98708,     0.98708,     0.98708,     0.98585,     0.98585,     0.98585,     0.98585,     0.98585,     0.98585,     0.98585,     0.98585,     0.98585,     0.98585,     0.98585,\n",
       "            0.98585,     0.98585,     0.98585,     0.98585,     0.98585,     0.98336,     0.98336,     0.98336,     0.98336,     0.98336,     0.98336,     0.98336,     0.98336,     0.98336,     0.98336,     0.98336,     0.98336,     0.98336,     0.98336,     0.98336,     0.98336,     0.98336,     0.98336,\n",
       "            0.98336,     0.98336,     0.98336,     0.98336,      0.9822,      0.9822,      0.9822,      0.9822,      0.9822,      0.9822,      0.9822,      0.9822,      0.9822,      0.9822,      0.9822,     0.98094,     0.98094,     0.98094,     0.98094,     0.98094,     0.98094,     0.98094,     0.98023,\n",
       "            0.98023,     0.98023,     0.98023,     0.98023,     0.98023,     0.98023,     0.98023,     0.98023,     0.98023,     0.98023,     0.98023,     0.98023,     0.98023,     0.98023,     0.98023,     0.98023,     0.98023,     0.98023,     0.98023,     0.98023,     0.98023,     0.98023,     0.98023,\n",
       "            0.97928,     0.97928,     0.97928,     0.97928,     0.97928,     0.97928,     0.97928,     0.97928,     0.97928,     0.97928,     0.97928,     0.97928,     0.97928,     0.97928,     0.97928,     0.97799,     0.97687,     0.97687,     0.97687,     0.97687,     0.97687,     0.97687,     0.97687,\n",
       "            0.97594,     0.97594,     0.97594,     0.97594,     0.97594,     0.97594,     0.97594,     0.97594,     0.97594,     0.97594,     0.97594,     0.97594,     0.97497,     0.97497,     0.97497,     0.97497,     0.97497,     0.97497,     0.97497,     0.97497,     0.97497,     0.97406,     0.97406,\n",
       "            0.97406,     0.97406,     0.97406,     0.97406,     0.97406,     0.97406,     0.97406,     0.97406,     0.97406,     0.97287,     0.97287,     0.97212,     0.97212,     0.97212,     0.97212,     0.97212,     0.97212,     0.97212,     0.97212,     0.97212,     0.97212,     0.97212,     0.97212,\n",
       "            0.97212,     0.97132,     0.97132,     0.97132,     0.97132,     0.97132,     0.97132,     0.97132,     0.97132,     0.97132,     0.97132,     0.97132,     0.97132,     0.97087,     0.97087,     0.97087,     0.97087,     0.97087,     0.97087,     0.97087,     0.97087,     0.97087,     0.97087,\n",
       "            0.97087,     0.97087,     0.97087,     0.97087,     0.97087,     0.97087,     0.97087,     0.97087,     0.97087,     0.97087,     0.96999,     0.96999,     0.96999,     0.96999,     0.96999,     0.96999,     0.96999,     0.96999,     0.96812,     0.96812,     0.96812,     0.96812,     0.96812,\n",
       "            0.96812,     0.96812,     0.96812,     0.96812,     0.96812,     0.96812,     0.96604,     0.96604,     0.96604,     0.96604,     0.96604,     0.96516,     0.96516,     0.96516,     0.96516,     0.96516,     0.96516,     0.96429,     0.96429,     0.96429,     0.96429,     0.96429,     0.96429,\n",
       "            0.96343,     0.96343,     0.96343,     0.96343,     0.96343,     0.96154,     0.96154,     0.96154,     0.96154,     0.96154,     0.96154,     0.96154,     0.96115,     0.96115,     0.96115,     0.96115,     0.96115,     0.96115,     0.96115,     0.96115,     0.96115,     0.96115,     0.96115,\n",
       "            0.96115,     0.96115,     0.96115,     0.96115,     0.95916,     0.95916,     0.95916,     0.95738,     0.95738,     0.95738,     0.95738,     0.95738,     0.95738,     0.95738,     0.95638,     0.95563,     0.95563,     0.95563,     0.95563,     0.95563,     0.95563,     0.95469,     0.95469,\n",
       "            0.95269,     0.95208,     0.95208,     0.95208,     0.95208,     0.95208,     0.95208,     0.95208,     0.95026,     0.95026,     0.95026,     0.95026,     0.94937,     0.94937,     0.94648,     0.94648,     0.94555,     0.94473,     0.94473,     0.94473,     0.94393,     0.94393,     0.94393,\n",
       "            0.94112,     0.94112,     0.93936,     0.93936,     0.93756,     0.93756,     0.93381,     0.93205,     0.93205,     0.92836,     0.92285,      0.9175,      0.9175,     0.91683,     0.91683,     0.91683,      0.9151,     0.91159,     0.91078,     0.90998,     0.90918,     0.90223,     0.89712,\n",
       "            0.89464,     0.89228,     0.89228,     0.88407,     0.88407,      0.8818,     0.87884,     0.87884,     0.87884,     0.86765,     0.86066,     0.85547,     0.85547,     0.85112,     0.85112,      0.8452,     0.83936,     0.83803,     0.82798,     0.82455,     0.82186,       0.815,     0.81447,\n",
       "            0.80369,     0.80184,     0.79933,     0.79421,     0.78021,     0.77474,     0.76648,     0.76382,     0.76382,     0.75566,     0.74884,      0.7473,     0.74292,     0.72939,     0.72939,      0.7167,     0.71481,     0.68252,     0.68084,     0.68011,     0.65485,     0.61713,     0.60932,\n",
       "            0.59696,     0.59576,      0.5778,     0.55368,     0.55331,     0.54894,     0.52665,     0.52383,     0.51004,     0.50076,      0.4965,      0.4965,     0.46279,     0.45667,     0.44096,      0.3837,     0.37346,     0.34317,     0.32416,     0.32354,     0.30748,     0.30177,     0.29699,\n",
       "            0.26096,     0.24302,     0.23542,     0.22783,     0.22024,     0.21264,     0.20505,     0.19745,     0.18986,     0.18226,     0.17467,     0.16708,     0.15948,     0.15189,     0.14429,      0.1367,      0.1291,     0.12151,     0.11391,     0.10632,    0.098726,    0.091132,    0.083538,\n",
       "           0.075943,    0.068349,    0.060755,     0.05316,    0.045566,    0.037972,    0.030377,    0.022783,    0.015189,   0.0075943,           0]]), 'Recall', 'Precision'], [array([          0,    0.001001,    0.002002,    0.003003,    0.004004,    0.005005,    0.006006,    0.007007,    0.008008,    0.009009,     0.01001,    0.011011,    0.012012,    0.013013,    0.014014,    0.015015,    0.016016,    0.017017,    0.018018,    0.019019,     0.02002,    0.021021,    0.022022,    0.023023,\n",
       "          0.024024,    0.025025,    0.026026,    0.027027,    0.028028,    0.029029,     0.03003,    0.031031,    0.032032,    0.033033,    0.034034,    0.035035,    0.036036,    0.037037,    0.038038,    0.039039,     0.04004,    0.041041,    0.042042,    0.043043,    0.044044,    0.045045,    0.046046,    0.047047,\n",
       "          0.048048,    0.049049,     0.05005,    0.051051,    0.052052,    0.053053,    0.054054,    0.055055,    0.056056,    0.057057,    0.058058,    0.059059,     0.06006,    0.061061,    0.062062,    0.063063,    0.064064,    0.065065,    0.066066,    0.067067,    0.068068,    0.069069,     0.07007,    0.071071,\n",
       "          0.072072,    0.073073,    0.074074,    0.075075,    0.076076,    0.077077,    0.078078,    0.079079,     0.08008,    0.081081,    0.082082,    0.083083,    0.084084,    0.085085,    0.086086,    0.087087,    0.088088,    0.089089,     0.09009,    0.091091,    0.092092,    0.093093,    0.094094,    0.095095,\n",
       "          0.096096,    0.097097,    0.098098,    0.099099,      0.1001,      0.1011,      0.1021,      0.1031,      0.1041,     0.10511,     0.10611,     0.10711,     0.10811,     0.10911,     0.11011,     0.11111,     0.11211,     0.11311,     0.11411,     0.11512,     0.11612,     0.11712,     0.11812,     0.11912,\n",
       "           0.12012,     0.12112,     0.12212,     0.12312,     0.12412,     0.12513,     0.12613,     0.12713,     0.12813,     0.12913,     0.13013,     0.13113,     0.13213,     0.13313,     0.13413,     0.13514,     0.13614,     0.13714,     0.13814,     0.13914,     0.14014,     0.14114,     0.14214,     0.14314,\n",
       "           0.14414,     0.14515,     0.14615,     0.14715,     0.14815,     0.14915,     0.15015,     0.15115,     0.15215,     0.15315,     0.15415,     0.15516,     0.15616,     0.15716,     0.15816,     0.15916,     0.16016,     0.16116,     0.16216,     0.16316,     0.16416,     0.16517,     0.16617,     0.16717,\n",
       "           0.16817,     0.16917,     0.17017,     0.17117,     0.17217,     0.17317,     0.17417,     0.17518,     0.17618,     0.17718,     0.17818,     0.17918,     0.18018,     0.18118,     0.18218,     0.18318,     0.18418,     0.18519,     0.18619,     0.18719,     0.18819,     0.18919,     0.19019,     0.19119,\n",
       "           0.19219,     0.19319,     0.19419,      0.1952,      0.1962,      0.1972,      0.1982,      0.1992,      0.2002,      0.2012,      0.2022,      0.2032,      0.2042,     0.20521,     0.20621,     0.20721,     0.20821,     0.20921,     0.21021,     0.21121,     0.21221,     0.21321,     0.21421,     0.21522,\n",
       "           0.21622,     0.21722,     0.21822,     0.21922,     0.22022,     0.22122,     0.22222,     0.22322,     0.22422,     0.22523,     0.22623,     0.22723,     0.22823,     0.22923,     0.23023,     0.23123,     0.23223,     0.23323,     0.23423,     0.23524,     0.23624,     0.23724,     0.23824,     0.23924,\n",
       "           0.24024,     0.24124,     0.24224,     0.24324,     0.24424,     0.24525,     0.24625,     0.24725,     0.24825,     0.24925,     0.25025,     0.25125,     0.25225,     0.25325,     0.25425,     0.25526,     0.25626,     0.25726,     0.25826,     0.25926,     0.26026,     0.26126,     0.26226,     0.26326,\n",
       "           0.26426,     0.26527,     0.26627,     0.26727,     0.26827,     0.26927,     0.27027,     0.27127,     0.27227,     0.27327,     0.27427,     0.27528,     0.27628,     0.27728,     0.27828,     0.27928,     0.28028,     0.28128,     0.28228,     0.28328,     0.28428,     0.28529,     0.28629,     0.28729,\n",
       "           0.28829,     0.28929,     0.29029,     0.29129,     0.29229,     0.29329,     0.29429,      0.2953,      0.2963,      0.2973,      0.2983,      0.2993,      0.3003,      0.3013,      0.3023,      0.3033,      0.3043,     0.30531,     0.30631,     0.30731,     0.30831,     0.30931,     0.31031,     0.31131,\n",
       "           0.31231,     0.31331,     0.31431,     0.31532,     0.31632,     0.31732,     0.31832,     0.31932,     0.32032,     0.32132,     0.32232,     0.32332,     0.32432,     0.32533,     0.32633,     0.32733,     0.32833,     0.32933,     0.33033,     0.33133,     0.33233,     0.33333,     0.33433,     0.33534,\n",
       "           0.33634,     0.33734,     0.33834,     0.33934,     0.34034,     0.34134,     0.34234,     0.34334,     0.34434,     0.34535,     0.34635,     0.34735,     0.34835,     0.34935,     0.35035,     0.35135,     0.35235,     0.35335,     0.35435,     0.35536,     0.35636,     0.35736,     0.35836,     0.35936,\n",
       "           0.36036,     0.36136,     0.36236,     0.36336,     0.36436,     0.36537,     0.36637,     0.36737,     0.36837,     0.36937,     0.37037,     0.37137,     0.37237,     0.37337,     0.37437,     0.37538,     0.37638,     0.37738,     0.37838,     0.37938,     0.38038,     0.38138,     0.38238,     0.38338,\n",
       "           0.38438,     0.38539,     0.38639,     0.38739,     0.38839,     0.38939,     0.39039,     0.39139,     0.39239,     0.39339,     0.39439,      0.3954,      0.3964,      0.3974,      0.3984,      0.3994,      0.4004,      0.4014,      0.4024,      0.4034,      0.4044,     0.40541,     0.40641,     0.40741,\n",
       "           0.40841,     0.40941,     0.41041,     0.41141,     0.41241,     0.41341,     0.41441,     0.41542,     0.41642,     0.41742,     0.41842,     0.41942,     0.42042,     0.42142,     0.42242,     0.42342,     0.42442,     0.42543,     0.42643,     0.42743,     0.42843,     0.42943,     0.43043,     0.43143,\n",
       "           0.43243,     0.43343,     0.43443,     0.43544,     0.43644,     0.43744,     0.43844,     0.43944,     0.44044,     0.44144,     0.44244,     0.44344,     0.44444,     0.44545,     0.44645,     0.44745,     0.44845,     0.44945,     0.45045,     0.45145,     0.45245,     0.45345,     0.45445,     0.45546,\n",
       "           0.45646,     0.45746,     0.45846,     0.45946,     0.46046,     0.46146,     0.46246,     0.46346,     0.46446,     0.46547,     0.46647,     0.46747,     0.46847,     0.46947,     0.47047,     0.47147,     0.47247,     0.47347,     0.47447,     0.47548,     0.47648,     0.47748,     0.47848,     0.47948,\n",
       "           0.48048,     0.48148,     0.48248,     0.48348,     0.48448,     0.48549,     0.48649,     0.48749,     0.48849,     0.48949,     0.49049,     0.49149,     0.49249,     0.49349,     0.49449,      0.4955,      0.4965,      0.4975,      0.4985,      0.4995,      0.5005,      0.5015,      0.5025,      0.5035,\n",
       "            0.5045,     0.50551,     0.50651,     0.50751,     0.50851,     0.50951,     0.51051,     0.51151,     0.51251,     0.51351,     0.51451,     0.51552,     0.51652,     0.51752,     0.51852,     0.51952,     0.52052,     0.52152,     0.52252,     0.52352,     0.52452,     0.52553,     0.52653,     0.52753,\n",
       "           0.52853,     0.52953,     0.53053,     0.53153,     0.53253,     0.53353,     0.53453,     0.53554,     0.53654,     0.53754,     0.53854,     0.53954,     0.54054,     0.54154,     0.54254,     0.54354,     0.54454,     0.54555,     0.54655,     0.54755,     0.54855,     0.54955,     0.55055,     0.55155,\n",
       "           0.55255,     0.55355,     0.55455,     0.55556,     0.55656,     0.55756,     0.55856,     0.55956,     0.56056,     0.56156,     0.56256,     0.56356,     0.56456,     0.56557,     0.56657,     0.56757,     0.56857,     0.56957,     0.57057,     0.57157,     0.57257,     0.57357,     0.57457,     0.57558,\n",
       "           0.57658,     0.57758,     0.57858,     0.57958,     0.58058,     0.58158,     0.58258,     0.58358,     0.58458,     0.58559,     0.58659,     0.58759,     0.58859,     0.58959,     0.59059,     0.59159,     0.59259,     0.59359,     0.59459,      0.5956,      0.5966,      0.5976,      0.5986,      0.5996,\n",
       "            0.6006,      0.6016,      0.6026,      0.6036,      0.6046,     0.60561,     0.60661,     0.60761,     0.60861,     0.60961,     0.61061,     0.61161,     0.61261,     0.61361,     0.61461,     0.61562,     0.61662,     0.61762,     0.61862,     0.61962,     0.62062,     0.62162,     0.62262,     0.62362,\n",
       "           0.62462,     0.62563,     0.62663,     0.62763,     0.62863,     0.62963,     0.63063,     0.63163,     0.63263,     0.63363,     0.63463,     0.63564,     0.63664,     0.63764,     0.63864,     0.63964,     0.64064,     0.64164,     0.64264,     0.64364,     0.64464,     0.64565,     0.64665,     0.64765,\n",
       "           0.64865,     0.64965,     0.65065,     0.65165,     0.65265,     0.65365,     0.65465,     0.65566,     0.65666,     0.65766,     0.65866,     0.65966,     0.66066,     0.66166,     0.66266,     0.66366,     0.66466,     0.66567,     0.66667,     0.66767,     0.66867,     0.66967,     0.67067,     0.67167,\n",
       "           0.67267,     0.67367,     0.67467,     0.67568,     0.67668,     0.67768,     0.67868,     0.67968,     0.68068,     0.68168,     0.68268,     0.68368,     0.68468,     0.68569,     0.68669,     0.68769,     0.68869,     0.68969,     0.69069,     0.69169,     0.69269,     0.69369,     0.69469,      0.6957,\n",
       "            0.6967,      0.6977,      0.6987,      0.6997,      0.7007,      0.7017,      0.7027,      0.7037,      0.7047,     0.70571,     0.70671,     0.70771,     0.70871,     0.70971,     0.71071,     0.71171,     0.71271,     0.71371,     0.71471,     0.71572,     0.71672,     0.71772,     0.71872,     0.71972,\n",
       "           0.72072,     0.72172,     0.72272,     0.72372,     0.72472,     0.72573,     0.72673,     0.72773,     0.72873,     0.72973,     0.73073,     0.73173,     0.73273,     0.73373,     0.73473,     0.73574,     0.73674,     0.73774,     0.73874,     0.73974,     0.74074,     0.74174,     0.74274,     0.74374,\n",
       "           0.74474,     0.74575,     0.74675,     0.74775,     0.74875,     0.74975,     0.75075,     0.75175,     0.75275,     0.75375,     0.75475,     0.75576,     0.75676,     0.75776,     0.75876,     0.75976,     0.76076,     0.76176,     0.76276,     0.76376,     0.76476,     0.76577,     0.76677,     0.76777,\n",
       "           0.76877,     0.76977,     0.77077,     0.77177,     0.77277,     0.77377,     0.77477,     0.77578,     0.77678,     0.77778,     0.77878,     0.77978,     0.78078,     0.78178,     0.78278,     0.78378,     0.78478,     0.78579,     0.78679,     0.78779,     0.78879,     0.78979,     0.79079,     0.79179,\n",
       "           0.79279,     0.79379,     0.79479,      0.7958,      0.7968,      0.7978,      0.7988,      0.7998,      0.8008,      0.8018,      0.8028,      0.8038,      0.8048,     0.80581,     0.80681,     0.80781,     0.80881,     0.80981,     0.81081,     0.81181,     0.81281,     0.81381,     0.81481,     0.81582,\n",
       "           0.81682,     0.81782,     0.81882,     0.81982,     0.82082,     0.82182,     0.82282,     0.82382,     0.82482,     0.82583,     0.82683,     0.82783,     0.82883,     0.82983,     0.83083,     0.83183,     0.83283,     0.83383,     0.83483,     0.83584,     0.83684,     0.83784,     0.83884,     0.83984,\n",
       "           0.84084,     0.84184,     0.84284,     0.84384,     0.84484,     0.84585,     0.84685,     0.84785,     0.84885,     0.84985,     0.85085,     0.85185,     0.85285,     0.85385,     0.85485,     0.85586,     0.85686,     0.85786,     0.85886,     0.85986,     0.86086,     0.86186,     0.86286,     0.86386,\n",
       "           0.86486,     0.86587,     0.86687,     0.86787,     0.86887,     0.86987,     0.87087,     0.87187,     0.87287,     0.87387,     0.87487,     0.87588,     0.87688,     0.87788,     0.87888,     0.87988,     0.88088,     0.88188,     0.88288,     0.88388,     0.88488,     0.88589,     0.88689,     0.88789,\n",
       "           0.88889,     0.88989,     0.89089,     0.89189,     0.89289,     0.89389,     0.89489,      0.8959,      0.8969,      0.8979,      0.8989,      0.8999,      0.9009,      0.9019,      0.9029,      0.9039,      0.9049,     0.90591,     0.90691,     0.90791,     0.90891,     0.90991,     0.91091,     0.91191,\n",
       "           0.91291,     0.91391,     0.91491,     0.91592,     0.91692,     0.91792,     0.91892,     0.91992,     0.92092,     0.92192,     0.92292,     0.92392,     0.92492,     0.92593,     0.92693,     0.92793,     0.92893,     0.92993,     0.93093,     0.93193,     0.93293,     0.93393,     0.93493,     0.93594,\n",
       "           0.93694,     0.93794,     0.93894,     0.93994,     0.94094,     0.94194,     0.94294,     0.94394,     0.94494,     0.94595,     0.94695,     0.94795,     0.94895,     0.94995,     0.95095,     0.95195,     0.95295,     0.95395,     0.95495,     0.95596,     0.95696,     0.95796,     0.95896,     0.95996,\n",
       "           0.96096,     0.96196,     0.96296,     0.96396,     0.96496,     0.96597,     0.96697,     0.96797,     0.96897,     0.96997,     0.97097,     0.97197,     0.97297,     0.97397,     0.97497,     0.97598,     0.97698,     0.97798,     0.97898,     0.97998,     0.98098,     0.98198,     0.98298,     0.98398,\n",
       "           0.98498,     0.98599,     0.98699,     0.98799,     0.98899,     0.98999,     0.99099,     0.99199,     0.99299,     0.99399,     0.99499,       0.996,       0.997,       0.998,       0.999,           1]), array([[    0.39482,     0.39488,     0.48535,     0.53888,     0.57471,     0.60457,     0.62296,       0.638,     0.65101,     0.66599,     0.67615,     0.68422,     0.69448,      0.7006,     0.70671,     0.71369,     0.71962,     0.72681,     0.73058,     0.73711,     0.74191,     0.74627,     0.75076,\n",
       "            0.75538,      0.7596,     0.76185,     0.76422,      0.7681,     0.77123,     0.77191,     0.77556,      0.7789,     0.78052,     0.78238,     0.78605,     0.78912,     0.79007,       0.791,      0.7923,     0.79424,     0.79645,     0.79912,      0.8019,     0.80437,     0.80781,      0.8107,\n",
       "            0.81143,     0.81214,     0.81421,     0.81579,     0.81794,     0.81935,     0.82061,     0.82191,      0.8221,     0.82271,     0.82376,     0.82548,      0.8272,     0.82844,     0.82973,     0.82975,     0.82988,     0.83248,     0.83395,     0.83378,     0.83422,      0.8353,     0.83693,\n",
       "            0.83734,     0.83821,     0.83811,     0.83868,     0.83909,     0.83903,     0.84002,     0.84121,     0.84189,     0.84211,     0.84297,     0.84315,     0.84359,     0.84352,     0.84468,     0.84495,       0.846,      0.8473,      0.8481,     0.84854,      0.8493,     0.85012,     0.85088,\n",
       "            0.85117,     0.85171,     0.85191,     0.85256,     0.85379,     0.85371,     0.85395,     0.85436,     0.85571,     0.85599,     0.85627,     0.85729,     0.85762,     0.85749,      0.8579,     0.85802,     0.85948,     0.86047,     0.86083,     0.86196,     0.86233,     0.86251,     0.86333,\n",
       "             0.8641,     0.86368,     0.86359,     0.86392,     0.86405,     0.86418,     0.86486,     0.86519,     0.86541,     0.86665,     0.86703,     0.86717,     0.86731,     0.86759,     0.86827,     0.86802,     0.86819,     0.86857,     0.86883,     0.86899,     0.86919,      0.8695,     0.86951,\n",
       "            0.86983,     0.86996,     0.87009,     0.87061,     0.87085,     0.87109,     0.87136,     0.87169,     0.87228,     0.87252,     0.87276,     0.87299,     0.87324,     0.87396,     0.87452,      0.8745,     0.87474,       0.875,     0.87527,      0.8748,     0.87579,     0.87639,      0.8765,\n",
       "            0.87661,     0.87672,     0.87689,     0.87718,     0.87736,     0.87754,     0.87795,     0.87769,     0.87837,      0.8786,     0.87901,     0.87959,     0.87972,     0.87986,     0.88001,     0.88016,     0.88032,     0.88058,     0.88028,     0.87988,     0.88021,     0.88039,     0.88057,\n",
       "            0.88079,     0.88105,     0.88143,     0.88194,     0.88203,     0.88166,     0.88122,     0.88145,     0.88158,     0.88167,     0.88175,     0.88183,     0.88192,     0.88201,      0.8821,      0.8822,     0.88229,     0.88282,     0.88316,      0.8835,     0.88372,      0.8839,     0.88371,\n",
       "            0.88365,     0.88393,     0.88466,     0.88528,     0.88551,     0.88689,     0.88703,     0.88717,     0.88714,      0.8872,     0.88727,     0.88733,      0.8874,     0.88746,     0.88753,     0.88768,     0.88784,     0.88801,     0.88817,     0.88833,     0.88878,     0.88924,     0.88951,\n",
       "            0.88989,     0.89097,     0.89134,     0.89154,     0.89189,     0.89235,     0.89256,     0.89244,     0.89231,     0.89219,     0.89206,     0.89193,      0.8918,     0.89167,     0.89154,     0.89132,     0.89176,     0.89217,     0.89239,     0.89255,     0.89226,     0.89225,     0.89218,\n",
       "            0.89244,      0.8926,     0.89274,     0.89288,     0.89229,     0.89215,     0.89202,     0.89188,     0.89213,     0.89275,     0.89288,     0.89302,     0.89313,     0.89317,      0.8932,     0.89324,     0.89327,     0.89331,     0.89334,     0.89337,     0.89341,     0.89344,     0.89348,\n",
       "            0.89351,     0.89355,     0.89373,     0.89398,     0.89434,     0.89473,     0.89494,     0.89508,     0.89522,     0.89609,     0.89595,     0.89581,     0.89567,     0.89553,     0.89566,     0.89579,     0.89592,     0.89627,     0.89625,     0.89611,     0.89598,     0.89585,     0.89632,\n",
       "            0.89639,     0.89647,     0.89655,     0.89662,     0.89686,     0.89703,     0.89707,     0.89711,     0.89715,     0.89719,     0.89723,     0.89727,     0.89731,     0.89735,     0.89739,     0.89743,      0.8979,     0.89794,     0.89799,     0.89803,     0.89808,     0.89813,     0.89817,\n",
       "            0.89822,     0.89826,     0.89831,     0.89843,     0.89857,      0.8987,     0.89881,     0.89891,       0.899,      0.8991,     0.89914,     0.89883,     0.89868,     0.89876,     0.89884,     0.89892,       0.899,     0.89908,     0.89981,     0.90013,     0.90038,     0.90047,     0.90056,\n",
       "            0.90066,     0.90075,     0.90085,     0.90103,     0.90122,     0.90139,     0.90156,     0.90176,       0.902,     0.90202,     0.90179,      0.9017,     0.90201,     0.90193,     0.90184,     0.90175,     0.90167,     0.90158,     0.90155,     0.90182,     0.90142,     0.90151,     0.90161,\n",
       "            0.90171,     0.90181,     0.90176,     0.90188,     0.90199,     0.90211,     0.90236,      0.9027,     0.90287,     0.90303,     0.90267,     0.90269,     0.90289,     0.90309,     0.90328,      0.9028,      0.9024,     0.90218,     0.90198,     0.90183,     0.90217,     0.90193,      0.9012,\n",
       "            0.90123,     0.90128,     0.90134,      0.9014,     0.90145,     0.90151,     0.90156,     0.90166,     0.90225,     0.90301,     0.90349,     0.90365,     0.90341,     0.90376,     0.90395,     0.90413,     0.90457,     0.90477,     0.90494,     0.90526,     0.90559,     0.90571,     0.90582,\n",
       "            0.90593,     0.90586,     0.90603,      0.9062,     0.90633,     0.90639,     0.90644,      0.9065,     0.90655,     0.90661,     0.90666,     0.90672,     0.90685,     0.90718,     0.90628,     0.90618,     0.90626,     0.90634,     0.90642,      0.9065,     0.90662,     0.90698,     0.90697,\n",
       "            0.90731,     0.90748,     0.90761,     0.90773,     0.90786,     0.90802,     0.90818,     0.90801,     0.90732,      0.9076,     0.90796,     0.90781,      0.9074,     0.90705,     0.90653,     0.90671,     0.90689,     0.90703,     0.90716,     0.90729,     0.90732,      0.9072,     0.90708,\n",
       "            0.90696,     0.90683,     0.90667,     0.90651,     0.90635,     0.90674,     0.90695,     0.90716,     0.90734,     0.90752,     0.90752,     0.90714,      0.9069,     0.90667,     0.90643,     0.90618,     0.90609,      0.9064,     0.90609,      0.9054,     0.90489,     0.90497,     0.90505,\n",
       "            0.90513,     0.90521,     0.90516,     0.90481,     0.90482,     0.90496,      0.9051,     0.90503,     0.90475,     0.90433,     0.90445,     0.90502,     0.90507,     0.90512,     0.90517,     0.90522,     0.90526,     0.90531,     0.90536,     0.90541,     0.90487,     0.90474,     0.90462,\n",
       "            0.90449,     0.90436,      0.9046,     0.90467,     0.90442,      0.9042,     0.90407,     0.90393,     0.90379,     0.90356,     0.90291,      0.9028,     0.90312,     0.90326,      0.9034,     0.90309,     0.90287,     0.90279,     0.90271,     0.90263,     0.90255,     0.90247,     0.90239,\n",
       "            0.90228,     0.90215,     0.90202,     0.90189,     0.90152,     0.90068,     0.90019,     0.89939,     0.89912,     0.89922,     0.89947,     0.89928,     0.89905,      0.8993,     0.89968,     0.89978,     0.89963,     0.89949,     0.89935,     0.89919,     0.89903,     0.89887,     0.89917,\n",
       "            0.89898,     0.89877,     0.89805,     0.89788,     0.89771,     0.89755,     0.89741,     0.89729,     0.89717,     0.89704,     0.89691,     0.89673,     0.89654,     0.89636,     0.89622,     0.89609,     0.89595,     0.89582,     0.89572,     0.89586,       0.896,     0.89614,     0.89593,\n",
       "            0.89564,     0.89528,     0.89494,     0.89464,     0.89434,     0.89406,     0.89369,     0.89326,     0.89293,     0.89271,      0.8926,      0.8925,     0.89239,     0.89228,     0.89225,     0.89246,     0.89311,     0.89301,     0.89292,     0.89283,     0.89273,     0.89264,     0.89253,\n",
       "            0.89181,     0.89146,     0.89116,     0.89082,     0.89006,     0.88863,     0.88834,     0.88793,     0.88713,     0.88705,     0.88696,     0.88687,     0.88679,      0.8867,     0.88661,     0.88597,     0.88587,     0.88577,     0.88567,     0.88557,     0.88547,     0.88534,      0.8852,\n",
       "            0.88506,     0.88492,      0.8847,     0.88441,     0.88353,     0.88317,     0.88349,     0.88307,     0.88237,      0.8823,     0.88223,     0.88217,      0.8821,     0.88203,     0.88196,      0.8819,     0.88171,     0.88048,     0.88019,     0.87976,     0.87963,     0.87989,      0.8789,\n",
       "            0.87851,     0.87821,     0.87777,     0.87693,      0.8771,     0.87727,     0.87717,     0.87676,     0.87663,      0.8765,     0.87638,     0.87625,     0.87607,     0.87585,     0.87562,     0.87458,     0.87386,     0.87397,     0.87408,     0.87418,     0.87419,     0.87309,     0.87216,\n",
       "            0.87184,     0.87169,     0.87154,     0.87139,     0.87113,     0.87073,     0.87086,     0.87102,     0.87116,     0.87088,      0.8706,     0.86996,     0.86944,     0.86874,     0.86848,     0.86823,      0.8687,     0.86877,     0.86884,     0.86892,     0.86899,     0.86907,     0.86866,\n",
       "            0.86724,     0.86544,     0.86524,     0.86504,     0.86412,     0.86329,     0.86287,     0.86253,     0.86219,     0.86202,     0.86263,      0.8612,     0.86017,     0.85992,     0.85902,      0.8585,     0.85808,     0.85819,     0.85784,     0.85646,     0.85615,     0.85569,     0.85513,\n",
       "            0.85486,     0.85438,     0.85275,     0.85224,     0.85134,     0.85089,     0.84935,     0.84717,     0.84666,     0.84617,     0.84581,     0.84552,      0.8455,     0.84581,     0.84531,     0.84345,     0.84266,     0.84251,     0.84236,     0.84221,     0.84206,     0.84125,      0.8402,\n",
       "            0.83952,     0.83863,     0.83835,     0.83861,      0.8377,     0.83688,     0.83635,     0.83565,       0.835,     0.83379,      0.8321,     0.83156,     0.83091,     0.83046,      0.8299,     0.82991,     0.82927,     0.82771,     0.82581,     0.82439,     0.82289,     0.82187,     0.82048,\n",
       "            0.81807,     0.81638,     0.81625,     0.81573,     0.81472,      0.8143,     0.81395,     0.81291,     0.81226,     0.80978,     0.80903,     0.80892,     0.80723,      0.8048,     0.80428,     0.80228,     0.79907,     0.79686,      0.7951,     0.79373,      0.7932,      0.7902,     0.78839,\n",
       "            0.78777,     0.78542,     0.78394,     0.78185,     0.78035,      0.7776,     0.77682,     0.77579,      0.7736,     0.77213,     0.77098,     0.77052,     0.76993,     0.76763,     0.76409,     0.76286,     0.76187,     0.75969,      0.7571,     0.75483,     0.75049,     0.74959,     0.74811,\n",
       "            0.74446,     0.74381,     0.74187,      0.7384,     0.73747,       0.737,     0.73586,     0.73508,     0.73166,     0.72896,     0.72626,     0.72559,     0.72062,     0.71884,     0.71622,     0.71443,     0.71157,     0.70909,     0.70839,     0.70794,     0.70318,     0.70131,     0.69999,\n",
       "            0.69624,     0.69387,     0.69074,     0.68583,     0.68446,     0.68348,     0.67961,     0.67442,     0.66999,     0.66509,     0.66052,       0.652,     0.64702,     0.64034,     0.63378,     0.63167,      0.6264,     0.62381,     0.62138,     0.61743,     0.61468,     0.61212,      0.6084,\n",
       "            0.60614,     0.60052,     0.59567,     0.59227,     0.58694,     0.57966,     0.57262,     0.56405,     0.56044,     0.55757,     0.55512,     0.55198,     0.54685,     0.54138,     0.53551,     0.53053,     0.52682,       0.522,      0.5149,     0.50677,     0.50137,     0.50041,     0.49688,\n",
       "            0.49285,      0.4858,     0.47924,     0.47384,     0.46396,     0.45528,     0.44883,     0.44375,     0.43975,     0.43047,     0.42471,     0.42187,     0.41298,     0.41022,     0.40761,     0.40357,     0.39745,     0.38955,     0.38471,     0.37935,     0.37091,     0.36728,     0.36185,\n",
       "            0.34897,     0.34208,     0.33782,     0.33183,     0.32706,     0.32295,     0.31768,     0.30944,     0.30179,     0.29593,     0.29105,     0.27924,     0.26652,     0.25838,     0.24917,     0.24213,     0.23894,     0.23509,     0.22943,     0.22536,     0.22156,     0.21269,     0.20998,\n",
       "            0.20914,      0.2078,     0.20414,     0.19908,     0.19778,     0.19476,     0.18881,     0.18566,     0.18276,     0.17742,     0.17402,     0.15713,     0.15314,     0.14707,     0.14439,     0.14283,     0.13652,     0.12748,      0.1238,     0.11335,      0.1046,    0.096664,    0.085837,\n",
       "           0.079272,    0.074414,    0.067528,    0.056861,    0.051405,    0.043949,     0.03934,    0.032597,    0.025819,     0.01835,    0.015751,    0.014136,    0.011829,    0.008463,   0.0072064,   0.0061711,   0.0047139,   0.0033353,   0.0023243,           0,           0,           0,           0,\n",
       "                  0,           0,           0,           0,           0,           0,           0,           0,           0,           0,           0,           0,           0,           0,           0,           0,           0,           0,           0,           0,           0,           0,           0,\n",
       "                  0,           0,           0,           0,           0,           0,           0,           0,           0,           0,           0]]), 'Confidence', 'F1'], [array([          0,    0.001001,    0.002002,    0.003003,    0.004004,    0.005005,    0.006006,    0.007007,    0.008008,    0.009009,     0.01001,    0.011011,    0.012012,    0.013013,    0.014014,    0.015015,    0.016016,    0.017017,    0.018018,    0.019019,     0.02002,    0.021021,    0.022022,    0.023023,\n",
       "          0.024024,    0.025025,    0.026026,    0.027027,    0.028028,    0.029029,     0.03003,    0.031031,    0.032032,    0.033033,    0.034034,    0.035035,    0.036036,    0.037037,    0.038038,    0.039039,     0.04004,    0.041041,    0.042042,    0.043043,    0.044044,    0.045045,    0.046046,    0.047047,\n",
       "          0.048048,    0.049049,     0.05005,    0.051051,    0.052052,    0.053053,    0.054054,    0.055055,    0.056056,    0.057057,    0.058058,    0.059059,     0.06006,    0.061061,    0.062062,    0.063063,    0.064064,    0.065065,    0.066066,    0.067067,    0.068068,    0.069069,     0.07007,    0.071071,\n",
       "          0.072072,    0.073073,    0.074074,    0.075075,    0.076076,    0.077077,    0.078078,    0.079079,     0.08008,    0.081081,    0.082082,    0.083083,    0.084084,    0.085085,    0.086086,    0.087087,    0.088088,    0.089089,     0.09009,    0.091091,    0.092092,    0.093093,    0.094094,    0.095095,\n",
       "          0.096096,    0.097097,    0.098098,    0.099099,      0.1001,      0.1011,      0.1021,      0.1031,      0.1041,     0.10511,     0.10611,     0.10711,     0.10811,     0.10911,     0.11011,     0.11111,     0.11211,     0.11311,     0.11411,     0.11512,     0.11612,     0.11712,     0.11812,     0.11912,\n",
       "           0.12012,     0.12112,     0.12212,     0.12312,     0.12412,     0.12513,     0.12613,     0.12713,     0.12813,     0.12913,     0.13013,     0.13113,     0.13213,     0.13313,     0.13413,     0.13514,     0.13614,     0.13714,     0.13814,     0.13914,     0.14014,     0.14114,     0.14214,     0.14314,\n",
       "           0.14414,     0.14515,     0.14615,     0.14715,     0.14815,     0.14915,     0.15015,     0.15115,     0.15215,     0.15315,     0.15415,     0.15516,     0.15616,     0.15716,     0.15816,     0.15916,     0.16016,     0.16116,     0.16216,     0.16316,     0.16416,     0.16517,     0.16617,     0.16717,\n",
       "           0.16817,     0.16917,     0.17017,     0.17117,     0.17217,     0.17317,     0.17417,     0.17518,     0.17618,     0.17718,     0.17818,     0.17918,     0.18018,     0.18118,     0.18218,     0.18318,     0.18418,     0.18519,     0.18619,     0.18719,     0.18819,     0.18919,     0.19019,     0.19119,\n",
       "           0.19219,     0.19319,     0.19419,      0.1952,      0.1962,      0.1972,      0.1982,      0.1992,      0.2002,      0.2012,      0.2022,      0.2032,      0.2042,     0.20521,     0.20621,     0.20721,     0.20821,     0.20921,     0.21021,     0.21121,     0.21221,     0.21321,     0.21421,     0.21522,\n",
       "           0.21622,     0.21722,     0.21822,     0.21922,     0.22022,     0.22122,     0.22222,     0.22322,     0.22422,     0.22523,     0.22623,     0.22723,     0.22823,     0.22923,     0.23023,     0.23123,     0.23223,     0.23323,     0.23423,     0.23524,     0.23624,     0.23724,     0.23824,     0.23924,\n",
       "           0.24024,     0.24124,     0.24224,     0.24324,     0.24424,     0.24525,     0.24625,     0.24725,     0.24825,     0.24925,     0.25025,     0.25125,     0.25225,     0.25325,     0.25425,     0.25526,     0.25626,     0.25726,     0.25826,     0.25926,     0.26026,     0.26126,     0.26226,     0.26326,\n",
       "           0.26426,     0.26527,     0.26627,     0.26727,     0.26827,     0.26927,     0.27027,     0.27127,     0.27227,     0.27327,     0.27427,     0.27528,     0.27628,     0.27728,     0.27828,     0.27928,     0.28028,     0.28128,     0.28228,     0.28328,     0.28428,     0.28529,     0.28629,     0.28729,\n",
       "           0.28829,     0.28929,     0.29029,     0.29129,     0.29229,     0.29329,     0.29429,      0.2953,      0.2963,      0.2973,      0.2983,      0.2993,      0.3003,      0.3013,      0.3023,      0.3033,      0.3043,     0.30531,     0.30631,     0.30731,     0.30831,     0.30931,     0.31031,     0.31131,\n",
       "           0.31231,     0.31331,     0.31431,     0.31532,     0.31632,     0.31732,     0.31832,     0.31932,     0.32032,     0.32132,     0.32232,     0.32332,     0.32432,     0.32533,     0.32633,     0.32733,     0.32833,     0.32933,     0.33033,     0.33133,     0.33233,     0.33333,     0.33433,     0.33534,\n",
       "           0.33634,     0.33734,     0.33834,     0.33934,     0.34034,     0.34134,     0.34234,     0.34334,     0.34434,     0.34535,     0.34635,     0.34735,     0.34835,     0.34935,     0.35035,     0.35135,     0.35235,     0.35335,     0.35435,     0.35536,     0.35636,     0.35736,     0.35836,     0.35936,\n",
       "           0.36036,     0.36136,     0.36236,     0.36336,     0.36436,     0.36537,     0.36637,     0.36737,     0.36837,     0.36937,     0.37037,     0.37137,     0.37237,     0.37337,     0.37437,     0.37538,     0.37638,     0.37738,     0.37838,     0.37938,     0.38038,     0.38138,     0.38238,     0.38338,\n",
       "           0.38438,     0.38539,     0.38639,     0.38739,     0.38839,     0.38939,     0.39039,     0.39139,     0.39239,     0.39339,     0.39439,      0.3954,      0.3964,      0.3974,      0.3984,      0.3994,      0.4004,      0.4014,      0.4024,      0.4034,      0.4044,     0.40541,     0.40641,     0.40741,\n",
       "           0.40841,     0.40941,     0.41041,     0.41141,     0.41241,     0.41341,     0.41441,     0.41542,     0.41642,     0.41742,     0.41842,     0.41942,     0.42042,     0.42142,     0.42242,     0.42342,     0.42442,     0.42543,     0.42643,     0.42743,     0.42843,     0.42943,     0.43043,     0.43143,\n",
       "           0.43243,     0.43343,     0.43443,     0.43544,     0.43644,     0.43744,     0.43844,     0.43944,     0.44044,     0.44144,     0.44244,     0.44344,     0.44444,     0.44545,     0.44645,     0.44745,     0.44845,     0.44945,     0.45045,     0.45145,     0.45245,     0.45345,     0.45445,     0.45546,\n",
       "           0.45646,     0.45746,     0.45846,     0.45946,     0.46046,     0.46146,     0.46246,     0.46346,     0.46446,     0.46547,     0.46647,     0.46747,     0.46847,     0.46947,     0.47047,     0.47147,     0.47247,     0.47347,     0.47447,     0.47548,     0.47648,     0.47748,     0.47848,     0.47948,\n",
       "           0.48048,     0.48148,     0.48248,     0.48348,     0.48448,     0.48549,     0.48649,     0.48749,     0.48849,     0.48949,     0.49049,     0.49149,     0.49249,     0.49349,     0.49449,      0.4955,      0.4965,      0.4975,      0.4985,      0.4995,      0.5005,      0.5015,      0.5025,      0.5035,\n",
       "            0.5045,     0.50551,     0.50651,     0.50751,     0.50851,     0.50951,     0.51051,     0.51151,     0.51251,     0.51351,     0.51451,     0.51552,     0.51652,     0.51752,     0.51852,     0.51952,     0.52052,     0.52152,     0.52252,     0.52352,     0.52452,     0.52553,     0.52653,     0.52753,\n",
       "           0.52853,     0.52953,     0.53053,     0.53153,     0.53253,     0.53353,     0.53453,     0.53554,     0.53654,     0.53754,     0.53854,     0.53954,     0.54054,     0.54154,     0.54254,     0.54354,     0.54454,     0.54555,     0.54655,     0.54755,     0.54855,     0.54955,     0.55055,     0.55155,\n",
       "           0.55255,     0.55355,     0.55455,     0.55556,     0.55656,     0.55756,     0.55856,     0.55956,     0.56056,     0.56156,     0.56256,     0.56356,     0.56456,     0.56557,     0.56657,     0.56757,     0.56857,     0.56957,     0.57057,     0.57157,     0.57257,     0.57357,     0.57457,     0.57558,\n",
       "           0.57658,     0.57758,     0.57858,     0.57958,     0.58058,     0.58158,     0.58258,     0.58358,     0.58458,     0.58559,     0.58659,     0.58759,     0.58859,     0.58959,     0.59059,     0.59159,     0.59259,     0.59359,     0.59459,      0.5956,      0.5966,      0.5976,      0.5986,      0.5996,\n",
       "            0.6006,      0.6016,      0.6026,      0.6036,      0.6046,     0.60561,     0.60661,     0.60761,     0.60861,     0.60961,     0.61061,     0.61161,     0.61261,     0.61361,     0.61461,     0.61562,     0.61662,     0.61762,     0.61862,     0.61962,     0.62062,     0.62162,     0.62262,     0.62362,\n",
       "           0.62462,     0.62563,     0.62663,     0.62763,     0.62863,     0.62963,     0.63063,     0.63163,     0.63263,     0.63363,     0.63463,     0.63564,     0.63664,     0.63764,     0.63864,     0.63964,     0.64064,     0.64164,     0.64264,     0.64364,     0.64464,     0.64565,     0.64665,     0.64765,\n",
       "           0.64865,     0.64965,     0.65065,     0.65165,     0.65265,     0.65365,     0.65465,     0.65566,     0.65666,     0.65766,     0.65866,     0.65966,     0.66066,     0.66166,     0.66266,     0.66366,     0.66466,     0.66567,     0.66667,     0.66767,     0.66867,     0.66967,     0.67067,     0.67167,\n",
       "           0.67267,     0.67367,     0.67467,     0.67568,     0.67668,     0.67768,     0.67868,     0.67968,     0.68068,     0.68168,     0.68268,     0.68368,     0.68468,     0.68569,     0.68669,     0.68769,     0.68869,     0.68969,     0.69069,     0.69169,     0.69269,     0.69369,     0.69469,      0.6957,\n",
       "            0.6967,      0.6977,      0.6987,      0.6997,      0.7007,      0.7017,      0.7027,      0.7037,      0.7047,     0.70571,     0.70671,     0.70771,     0.70871,     0.70971,     0.71071,     0.71171,     0.71271,     0.71371,     0.71471,     0.71572,     0.71672,     0.71772,     0.71872,     0.71972,\n",
       "           0.72072,     0.72172,     0.72272,     0.72372,     0.72472,     0.72573,     0.72673,     0.72773,     0.72873,     0.72973,     0.73073,     0.73173,     0.73273,     0.73373,     0.73473,     0.73574,     0.73674,     0.73774,     0.73874,     0.73974,     0.74074,     0.74174,     0.74274,     0.74374,\n",
       "           0.74474,     0.74575,     0.74675,     0.74775,     0.74875,     0.74975,     0.75075,     0.75175,     0.75275,     0.75375,     0.75475,     0.75576,     0.75676,     0.75776,     0.75876,     0.75976,     0.76076,     0.76176,     0.76276,     0.76376,     0.76476,     0.76577,     0.76677,     0.76777,\n",
       "           0.76877,     0.76977,     0.77077,     0.77177,     0.77277,     0.77377,     0.77477,     0.77578,     0.77678,     0.77778,     0.77878,     0.77978,     0.78078,     0.78178,     0.78278,     0.78378,     0.78478,     0.78579,     0.78679,     0.78779,     0.78879,     0.78979,     0.79079,     0.79179,\n",
       "           0.79279,     0.79379,     0.79479,      0.7958,      0.7968,      0.7978,      0.7988,      0.7998,      0.8008,      0.8018,      0.8028,      0.8038,      0.8048,     0.80581,     0.80681,     0.80781,     0.80881,     0.80981,     0.81081,     0.81181,     0.81281,     0.81381,     0.81481,     0.81582,\n",
       "           0.81682,     0.81782,     0.81882,     0.81982,     0.82082,     0.82182,     0.82282,     0.82382,     0.82482,     0.82583,     0.82683,     0.82783,     0.82883,     0.82983,     0.83083,     0.83183,     0.83283,     0.83383,     0.83483,     0.83584,     0.83684,     0.83784,     0.83884,     0.83984,\n",
       "           0.84084,     0.84184,     0.84284,     0.84384,     0.84484,     0.84585,     0.84685,     0.84785,     0.84885,     0.84985,     0.85085,     0.85185,     0.85285,     0.85385,     0.85485,     0.85586,     0.85686,     0.85786,     0.85886,     0.85986,     0.86086,     0.86186,     0.86286,     0.86386,\n",
       "           0.86486,     0.86587,     0.86687,     0.86787,     0.86887,     0.86987,     0.87087,     0.87187,     0.87287,     0.87387,     0.87487,     0.87588,     0.87688,     0.87788,     0.87888,     0.87988,     0.88088,     0.88188,     0.88288,     0.88388,     0.88488,     0.88589,     0.88689,     0.88789,\n",
       "           0.88889,     0.88989,     0.89089,     0.89189,     0.89289,     0.89389,     0.89489,      0.8959,      0.8969,      0.8979,      0.8989,      0.8999,      0.9009,      0.9019,      0.9029,      0.9039,      0.9049,     0.90591,     0.90691,     0.90791,     0.90891,     0.90991,     0.91091,     0.91191,\n",
       "           0.91291,     0.91391,     0.91491,     0.91592,     0.91692,     0.91792,     0.91892,     0.91992,     0.92092,     0.92192,     0.92292,     0.92392,     0.92492,     0.92593,     0.92693,     0.92793,     0.92893,     0.92993,     0.93093,     0.93193,     0.93293,     0.93393,     0.93493,     0.93594,\n",
       "           0.93694,     0.93794,     0.93894,     0.93994,     0.94094,     0.94194,     0.94294,     0.94394,     0.94494,     0.94595,     0.94695,     0.94795,     0.94895,     0.94995,     0.95095,     0.95195,     0.95295,     0.95395,     0.95495,     0.95596,     0.95696,     0.95796,     0.95896,     0.95996,\n",
       "           0.96096,     0.96196,     0.96296,     0.96396,     0.96496,     0.96597,     0.96697,     0.96797,     0.96897,     0.96997,     0.97097,     0.97197,     0.97297,     0.97397,     0.97497,     0.97598,     0.97698,     0.97798,     0.97898,     0.97998,     0.98098,     0.98198,     0.98298,     0.98398,\n",
       "           0.98498,     0.98599,     0.98699,     0.98799,     0.98899,     0.98999,     0.99099,     0.99199,     0.99299,     0.99399,     0.99499,       0.996,       0.997,       0.998,       0.999,           1]), array([[    0.24803,     0.24807,      0.3246,     0.37462,     0.41036,     0.44171,     0.46184,     0.47881,     0.49361,     0.51216,     0.52485,     0.53495,     0.54759,     0.55624,     0.56398,     0.57293,     0.58097,      0.5904,     0.59577,      0.6049,      0.6118,     0.61817,     0.62436,\n",
       "            0.63076,     0.63667,     0.63985,     0.64319,     0.64871,     0.65319,     0.65462,     0.65989,     0.66475,     0.66711,     0.66984,     0.67523,     0.67978,      0.6827,     0.68409,     0.68604,     0.68896,      0.6923,     0.69633,     0.70057,     0.70435,     0.70965,     0.71412,\n",
       "             0.7158,     0.71747,     0.72071,      0.7232,     0.72659,      0.7288,     0.73199,     0.73405,     0.73436,     0.73533,       0.737,     0.73977,     0.74254,     0.74515,     0.74724,     0.74788,     0.74866,     0.75297,      0.7556,     0.75573,     0.75645,     0.75824,     0.76092,\n",
       "             0.7616,     0.76305,     0.76418,     0.76512,     0.76647,     0.76703,     0.76868,     0.77067,     0.77181,     0.77219,     0.77362,     0.77394,     0.77472,     0.77524,      0.7772,     0.77764,     0.78011,     0.78233,     0.78369,     0.78444,     0.78575,     0.78716,     0.78846,\n",
       "            0.78895,     0.78988,     0.79023,     0.79135,     0.79347,     0.79405,     0.79446,     0.79517,      0.7975,     0.79799,      0.7992,     0.80098,     0.80155,     0.80174,     0.80278,     0.80372,     0.80628,     0.80802,     0.80867,     0.81065,     0.81131,     0.81163,     0.81308,\n",
       "            0.81445,     0.81434,     0.81488,     0.81564,     0.81587,      0.8161,     0.81732,     0.81792,      0.8183,     0.82053,      0.8212,     0.82146,     0.82172,     0.82299,     0.82449,     0.82442,     0.82485,     0.82553,       0.826,      0.8263,     0.82665,     0.82721,     0.82802,\n",
       "             0.8286,     0.82883,     0.82907,     0.83002,     0.83044,     0.83089,     0.83137,     0.83199,     0.83305,     0.83349,     0.83392,     0.83435,      0.8348,     0.83612,     0.83715,     0.83791,     0.83835,     0.83883,     0.83936,     0.83923,     0.84109,     0.84221,     0.84241,\n",
       "            0.84261,     0.84281,     0.84313,     0.84368,     0.84401,     0.84434,     0.84509,     0.84511,     0.84669,     0.84713,      0.8479,     0.84896,     0.84922,     0.84948,     0.84975,     0.85004,     0.85033,     0.85108,       0.851,     0.85119,     0.85181,     0.85214,     0.85248,\n",
       "            0.85289,     0.85337,     0.85409,     0.85505,     0.85543,     0.85534,      0.8554,     0.85583,     0.85608,     0.85624,     0.85639,     0.85655,     0.85671,     0.85688,     0.85706,     0.85724,     0.85742,     0.85842,     0.85905,      0.8597,     0.86012,     0.86045,     0.86059,\n",
       "            0.86085,     0.86138,     0.86276,     0.86395,     0.86439,     0.86702,     0.86729,     0.86756,     0.86837,      0.8685,     0.86862,     0.86874,     0.86887,     0.86899,     0.86912,     0.86941,     0.86973,     0.87004,     0.87035,     0.87066,     0.87152,     0.87241,     0.87292,\n",
       "            0.87366,     0.87575,     0.87647,     0.87685,     0.87752,     0.87842,     0.87884,     0.87882,     0.87879,     0.87876,     0.87874,     0.87871,     0.87868,     0.87865,     0.87862,     0.87914,     0.87999,     0.88079,     0.88122,     0.88154,     0.88171,     0.88245,     0.88264,\n",
       "            0.88314,     0.88347,     0.88375,     0.88403,     0.88394,     0.88391,     0.88389,     0.88386,      0.8844,     0.88562,     0.88588,     0.88614,     0.88637,     0.88644,     0.88651,     0.88658,     0.88664,     0.88671,     0.88678,     0.88685,     0.88691,     0.88698,     0.88705,\n",
       "            0.88712,     0.88718,     0.88755,     0.88803,     0.88876,     0.88951,     0.88993,     0.89022,      0.8905,     0.89227,     0.89224,     0.89222,     0.89219,     0.89299,     0.89325,     0.89351,     0.89377,     0.89448,     0.89462,     0.89459,     0.89456,     0.89454,     0.89552,\n",
       "            0.89567,     0.89582,     0.89598,     0.89613,     0.89661,     0.89791,     0.89799,     0.89807,     0.89815,     0.89823,     0.89831,      0.8984,     0.89848,     0.89856,     0.89864,     0.89872,     0.89965,     0.89974,     0.89983,     0.89992,     0.90001,     0.90011,      0.9002,\n",
       "            0.90029,     0.90038,     0.90047,     0.90072,       0.901,     0.90127,     0.90149,     0.90168,     0.90187,     0.90206,     0.90222,     0.90216,      0.9022,     0.90236,     0.90252,     0.90268,     0.90284,       0.903,     0.90447,     0.90512,     0.90563,     0.90582,       0.906,\n",
       "            0.90619,     0.90637,     0.90658,     0.90695,     0.90732,     0.90768,     0.90803,     0.90842,     0.90892,     0.90916,     0.90912,     0.90929,     0.90998,     0.90996,     0.90995,     0.90993,     0.90992,     0.90991,     0.90998,     0.91076,      0.9107,     0.91089,      0.9111,\n",
       "             0.9113,     0.91151,     0.91241,     0.91266,      0.9129,     0.91314,     0.91364,     0.91435,     0.91469,     0.91502,     0.91504,     0.91533,     0.91576,     0.91617,     0.91656,     0.91674,     0.91667,     0.91664,     0.91661,     0.91664,     0.91734,     0.91745,     0.91734,\n",
       "            0.91744,     0.91756,     0.91767,     0.91779,     0.91791,     0.91802,     0.91814,     0.91833,     0.91956,     0.92115,     0.92214,     0.92282,     0.92303,     0.92376,     0.92414,     0.92452,     0.92545,     0.92587,     0.92621,     0.92689,     0.92759,     0.92783,     0.92806,\n",
       "             0.9283,      0.9292,     0.92957,     0.92993,      0.9302,     0.93032,     0.93044,     0.93055,     0.93067,     0.93079,      0.9309,     0.93102,     0.93129,     0.93199,     0.93193,     0.93202,      0.9322,     0.93237,     0.93254,     0.93271,     0.93295,     0.93372,     0.93477,\n",
       "             0.9355,     0.93586,     0.93613,      0.9364,     0.93668,     0.93701,     0.93734,     0.93753,      0.9377,     0.93829,     0.93906,     0.93933,     0.93928,     0.93924,     0.93931,      0.9397,     0.94009,     0.94039,     0.94067,     0.94095,     0.94111,      0.9411,     0.94108,\n",
       "            0.94107,     0.94106,     0.94104,     0.94102,       0.941,     0.94199,     0.94244,     0.94289,     0.94328,     0.94366,     0.94391,     0.94387,     0.94385,     0.94382,      0.9438,     0.94377,     0.94394,     0.94462,      0.9447,     0.94462,     0.94473,      0.9449,     0.94508,\n",
       "            0.94525,     0.94543,     0.94554,      0.9455,     0.94572,     0.94603,     0.94633,     0.94647,     0.94644,      0.9464,      0.9472,     0.94846,     0.94857,     0.94867,     0.94878,     0.94889,       0.949,     0.94911,     0.94921,     0.94932,     0.94931,      0.9493,     0.94929,\n",
       "            0.94928,     0.94926,     0.94985,     0.95025,     0.95023,     0.95021,      0.9502,     0.95018,     0.95017,     0.95015,     0.95009,     0.95056,     0.95127,     0.95158,     0.95189,     0.95204,     0.95202,     0.95201,       0.952,       0.952,     0.95199,     0.95198,     0.95198,\n",
       "            0.95197,     0.95195,     0.95194,     0.95193,     0.95189,     0.95182,     0.95177,      0.9517,     0.95167,     0.95207,     0.95264,     0.95267,     0.95265,     0.95346,     0.95432,     0.95469,     0.95467,     0.95466,     0.95465,     0.95464,     0.95462,     0.95461,      0.9556,\n",
       "            0.95561,     0.95559,     0.95553,     0.95552,      0.9555,     0.95549,     0.95548,     0.95546,     0.95545,     0.95544,     0.95543,     0.95542,      0.9554,     0.95538,     0.95537,     0.95536,     0.95535,     0.95534,     0.95636,     0.95668,       0.957,     0.95732,     0.95736,\n",
       "            0.95733,      0.9573,     0.95728,     0.95725,     0.95723,      0.9572,     0.95717,     0.95714,     0.95711,     0.95709,     0.95708,     0.95707,     0.95706,     0.95706,     0.95717,     0.95766,     0.95916,     0.95915,     0.95915,     0.95914,     0.95913,     0.95912,     0.95911,\n",
       "            0.96112,     0.96109,     0.96107,     0.96104,     0.96098,     0.96087,     0.96085,     0.96082,     0.96076,     0.96075,     0.96075,     0.96074,     0.96073,     0.96073,     0.96072,     0.96067,     0.96066,     0.96066,     0.96065,     0.96064,     0.96063,     0.96062,     0.96061,\n",
       "             0.9606,     0.96059,     0.96057,     0.96055,     0.96048,     0.96057,     0.96153,      0.9615,     0.96145,     0.96144,     0.96144,     0.96143,     0.96143,     0.96142,     0.96142,     0.96141,      0.9614,     0.96131,     0.96128,     0.96125,     0.96154,     0.96217,     0.96332,\n",
       "            0.96329,     0.96327,     0.96324,     0.96326,     0.96366,     0.96406,     0.96427,     0.96424,     0.96423,     0.96423,     0.96422,     0.96421,      0.9642,     0.96418,     0.96416,     0.96409,     0.96415,     0.96441,     0.96467,     0.96493,     0.96515,     0.96508,     0.96501,\n",
       "            0.96499,     0.96498,     0.96497,     0.96496,     0.96494,     0.96491,     0.96529,     0.96567,     0.96604,     0.96602,       0.966,     0.96596,     0.96593,     0.96588,     0.96586,     0.96585,     0.96711,     0.96729,     0.96748,     0.96766,     0.96784,     0.96803,     0.96809,\n",
       "            0.96801,     0.96789,     0.96788,     0.96787,     0.96781,     0.96776,     0.96773,     0.96771,     0.96769,     0.96806,     0.96998,     0.96989,     0.96983,     0.96982,     0.96976,     0.96973,     0.97014,     0.97086,     0.97084,     0.97076,     0.97075,     0.97072,     0.97069,\n",
       "            0.97067,     0.97064,     0.97055,     0.97052,     0.97047,     0.97044,     0.97035,     0.97022,     0.97019,     0.97016,     0.97014,     0.97012,     0.97048,     0.97132,     0.97129,     0.97119,     0.97114,     0.97113,     0.97112,     0.97111,     0.97111,     0.97106,       0.971,\n",
       "            0.97096,     0.97091,     0.97116,     0.97185,     0.97206,     0.97201,     0.97198,     0.97195,     0.97191,     0.97184,     0.97175,     0.97172,     0.97168,     0.97165,     0.97202,     0.97285,     0.97405,     0.97397,     0.97387,      0.9738,     0.97372,     0.97493,     0.97486,\n",
       "            0.97473,     0.97465,     0.97592,      0.9759,     0.97585,     0.97583,     0.97581,     0.97576,     0.97573,      0.9756,     0.97557,     0.97687,     0.97679,     0.97667,     0.97797,     0.97922,     0.97908,     0.97898,     0.97891,     0.97885,     0.98019,     0.98007,        0.98,\n",
       "            0.97997,     0.97987,     0.97981,     0.97972,     0.97966,     0.97955,     0.97951,     0.98089,      0.9808,     0.98075,     0.98214,     0.98212,      0.9821,     0.98202,     0.98188,     0.98331,     0.98328,      0.9832,     0.98311,     0.98303,     0.98287,     0.98284,     0.98585,\n",
       "            0.98574,     0.98572,     0.98566,     0.98555,     0.98552,     0.98551,     0.98706,     0.98703,     0.98694,     0.98686,     0.98841,     0.98839,     0.98827,     0.98822,     0.98816,     0.98811,     0.98874,     0.98967,     0.98965,     0.98964,     0.98953,     0.98949,     0.98946,\n",
       "            0.98937,     0.98932,     0.98924,     0.98913,      0.9891,     0.98907,     0.98898,     0.98885,     0.99211,     0.99237,     0.99229,     0.99214,     0.99205,     0.99193,     0.99384,     0.99381,     0.99373,     0.99369,     0.99366,      0.9936,     0.99356,     0.99352,     0.99346,\n",
       "            0.99343,     0.99334,     0.99326,     0.99321,     0.99312,       0.993,     0.99288,     0.99273,     0.99267,     0.99261,     0.99257,     0.99251,     0.99241,     0.99231,      0.9922,      0.9921,     0.99202,     0.99192,     0.99177,      0.9916,     0.99148,     0.99428,     0.99423,\n",
       "            0.99416,     0.99405,     0.99395,     0.99692,     0.99683,     0.99675,     0.99669,     0.99664,      0.9966,     0.99651,     0.99645,     0.99642,     0.99632,     0.99629,     0.99626,     0.99861,           1,           1,           1,           1,           1,           1,           1,\n",
       "                  1,           1,           1,           1,           1,           1,           1,           1,           1,           1,           1,           1,           1,           1,           1,           1,           1,           1,           1,           1,           1,           1,           1,\n",
       "                  1,           1,           1,           1,           1,           1,           1,           1,           1,           1,           1,           1,           1,           1,           1,           1,           1,           1,           1,           1,           1,           1,           1,\n",
       "                  1,           1,           1,           1,           1,           1,           1,           1,           1,           1,           1,           1,           1,           1,           1,           1,           1,           1,           1,           1,           1,           1,           1,\n",
       "                  1,           1,           1,           1,           1,           1,           1,           1,           1,           1,           1,           1,           1,           1,           1,           1,           1,           1,           1,           1,           1,           1,           1,\n",
       "                  1,           1,           1,           1,           1,           1,           1,           1,           1,           1,           1]]), 'Confidence', 'Precision'], [array([          0,    0.001001,    0.002002,    0.003003,    0.004004,    0.005005,    0.006006,    0.007007,    0.008008,    0.009009,     0.01001,    0.011011,    0.012012,    0.013013,    0.014014,    0.015015,    0.016016,    0.017017,    0.018018,    0.019019,     0.02002,    0.021021,    0.022022,    0.023023,\n",
       "          0.024024,    0.025025,    0.026026,    0.027027,    0.028028,    0.029029,     0.03003,    0.031031,    0.032032,    0.033033,    0.034034,    0.035035,    0.036036,    0.037037,    0.038038,    0.039039,     0.04004,    0.041041,    0.042042,    0.043043,    0.044044,    0.045045,    0.046046,    0.047047,\n",
       "          0.048048,    0.049049,     0.05005,    0.051051,    0.052052,    0.053053,    0.054054,    0.055055,    0.056056,    0.057057,    0.058058,    0.059059,     0.06006,    0.061061,    0.062062,    0.063063,    0.064064,    0.065065,    0.066066,    0.067067,    0.068068,    0.069069,     0.07007,    0.071071,\n",
       "          0.072072,    0.073073,    0.074074,    0.075075,    0.076076,    0.077077,    0.078078,    0.079079,     0.08008,    0.081081,    0.082082,    0.083083,    0.084084,    0.085085,    0.086086,    0.087087,    0.088088,    0.089089,     0.09009,    0.091091,    0.092092,    0.093093,    0.094094,    0.095095,\n",
       "          0.096096,    0.097097,    0.098098,    0.099099,      0.1001,      0.1011,      0.1021,      0.1031,      0.1041,     0.10511,     0.10611,     0.10711,     0.10811,     0.10911,     0.11011,     0.11111,     0.11211,     0.11311,     0.11411,     0.11512,     0.11612,     0.11712,     0.11812,     0.11912,\n",
       "           0.12012,     0.12112,     0.12212,     0.12312,     0.12412,     0.12513,     0.12613,     0.12713,     0.12813,     0.12913,     0.13013,     0.13113,     0.13213,     0.13313,     0.13413,     0.13514,     0.13614,     0.13714,     0.13814,     0.13914,     0.14014,     0.14114,     0.14214,     0.14314,\n",
       "           0.14414,     0.14515,     0.14615,     0.14715,     0.14815,     0.14915,     0.15015,     0.15115,     0.15215,     0.15315,     0.15415,     0.15516,     0.15616,     0.15716,     0.15816,     0.15916,     0.16016,     0.16116,     0.16216,     0.16316,     0.16416,     0.16517,     0.16617,     0.16717,\n",
       "           0.16817,     0.16917,     0.17017,     0.17117,     0.17217,     0.17317,     0.17417,     0.17518,     0.17618,     0.17718,     0.17818,     0.17918,     0.18018,     0.18118,     0.18218,     0.18318,     0.18418,     0.18519,     0.18619,     0.18719,     0.18819,     0.18919,     0.19019,     0.19119,\n",
       "           0.19219,     0.19319,     0.19419,      0.1952,      0.1962,      0.1972,      0.1982,      0.1992,      0.2002,      0.2012,      0.2022,      0.2032,      0.2042,     0.20521,     0.20621,     0.20721,     0.20821,     0.20921,     0.21021,     0.21121,     0.21221,     0.21321,     0.21421,     0.21522,\n",
       "           0.21622,     0.21722,     0.21822,     0.21922,     0.22022,     0.22122,     0.22222,     0.22322,     0.22422,     0.22523,     0.22623,     0.22723,     0.22823,     0.22923,     0.23023,     0.23123,     0.23223,     0.23323,     0.23423,     0.23524,     0.23624,     0.23724,     0.23824,     0.23924,\n",
       "           0.24024,     0.24124,     0.24224,     0.24324,     0.24424,     0.24525,     0.24625,     0.24725,     0.24825,     0.24925,     0.25025,     0.25125,     0.25225,     0.25325,     0.25425,     0.25526,     0.25626,     0.25726,     0.25826,     0.25926,     0.26026,     0.26126,     0.26226,     0.26326,\n",
       "           0.26426,     0.26527,     0.26627,     0.26727,     0.26827,     0.26927,     0.27027,     0.27127,     0.27227,     0.27327,     0.27427,     0.27528,     0.27628,     0.27728,     0.27828,     0.27928,     0.28028,     0.28128,     0.28228,     0.28328,     0.28428,     0.28529,     0.28629,     0.28729,\n",
       "           0.28829,     0.28929,     0.29029,     0.29129,     0.29229,     0.29329,     0.29429,      0.2953,      0.2963,      0.2973,      0.2983,      0.2993,      0.3003,      0.3013,      0.3023,      0.3033,      0.3043,     0.30531,     0.30631,     0.30731,     0.30831,     0.30931,     0.31031,     0.31131,\n",
       "           0.31231,     0.31331,     0.31431,     0.31532,     0.31632,     0.31732,     0.31832,     0.31932,     0.32032,     0.32132,     0.32232,     0.32332,     0.32432,     0.32533,     0.32633,     0.32733,     0.32833,     0.32933,     0.33033,     0.33133,     0.33233,     0.33333,     0.33433,     0.33534,\n",
       "           0.33634,     0.33734,     0.33834,     0.33934,     0.34034,     0.34134,     0.34234,     0.34334,     0.34434,     0.34535,     0.34635,     0.34735,     0.34835,     0.34935,     0.35035,     0.35135,     0.35235,     0.35335,     0.35435,     0.35536,     0.35636,     0.35736,     0.35836,     0.35936,\n",
       "           0.36036,     0.36136,     0.36236,     0.36336,     0.36436,     0.36537,     0.36637,     0.36737,     0.36837,     0.36937,     0.37037,     0.37137,     0.37237,     0.37337,     0.37437,     0.37538,     0.37638,     0.37738,     0.37838,     0.37938,     0.38038,     0.38138,     0.38238,     0.38338,\n",
       "           0.38438,     0.38539,     0.38639,     0.38739,     0.38839,     0.38939,     0.39039,     0.39139,     0.39239,     0.39339,     0.39439,      0.3954,      0.3964,      0.3974,      0.3984,      0.3994,      0.4004,      0.4014,      0.4024,      0.4034,      0.4044,     0.40541,     0.40641,     0.40741,\n",
       "           0.40841,     0.40941,     0.41041,     0.41141,     0.41241,     0.41341,     0.41441,     0.41542,     0.41642,     0.41742,     0.41842,     0.41942,     0.42042,     0.42142,     0.42242,     0.42342,     0.42442,     0.42543,     0.42643,     0.42743,     0.42843,     0.42943,     0.43043,     0.43143,\n",
       "           0.43243,     0.43343,     0.43443,     0.43544,     0.43644,     0.43744,     0.43844,     0.43944,     0.44044,     0.44144,     0.44244,     0.44344,     0.44444,     0.44545,     0.44645,     0.44745,     0.44845,     0.44945,     0.45045,     0.45145,     0.45245,     0.45345,     0.45445,     0.45546,\n",
       "           0.45646,     0.45746,     0.45846,     0.45946,     0.46046,     0.46146,     0.46246,     0.46346,     0.46446,     0.46547,     0.46647,     0.46747,     0.46847,     0.46947,     0.47047,     0.47147,     0.47247,     0.47347,     0.47447,     0.47548,     0.47648,     0.47748,     0.47848,     0.47948,\n",
       "           0.48048,     0.48148,     0.48248,     0.48348,     0.48448,     0.48549,     0.48649,     0.48749,     0.48849,     0.48949,     0.49049,     0.49149,     0.49249,     0.49349,     0.49449,      0.4955,      0.4965,      0.4975,      0.4985,      0.4995,      0.5005,      0.5015,      0.5025,      0.5035,\n",
       "            0.5045,     0.50551,     0.50651,     0.50751,     0.50851,     0.50951,     0.51051,     0.51151,     0.51251,     0.51351,     0.51451,     0.51552,     0.51652,     0.51752,     0.51852,     0.51952,     0.52052,     0.52152,     0.52252,     0.52352,     0.52452,     0.52553,     0.52653,     0.52753,\n",
       "           0.52853,     0.52953,     0.53053,     0.53153,     0.53253,     0.53353,     0.53453,     0.53554,     0.53654,     0.53754,     0.53854,     0.53954,     0.54054,     0.54154,     0.54254,     0.54354,     0.54454,     0.54555,     0.54655,     0.54755,     0.54855,     0.54955,     0.55055,     0.55155,\n",
       "           0.55255,     0.55355,     0.55455,     0.55556,     0.55656,     0.55756,     0.55856,     0.55956,     0.56056,     0.56156,     0.56256,     0.56356,     0.56456,     0.56557,     0.56657,     0.56757,     0.56857,     0.56957,     0.57057,     0.57157,     0.57257,     0.57357,     0.57457,     0.57558,\n",
       "           0.57658,     0.57758,     0.57858,     0.57958,     0.58058,     0.58158,     0.58258,     0.58358,     0.58458,     0.58559,     0.58659,     0.58759,     0.58859,     0.58959,     0.59059,     0.59159,     0.59259,     0.59359,     0.59459,      0.5956,      0.5966,      0.5976,      0.5986,      0.5996,\n",
       "            0.6006,      0.6016,      0.6026,      0.6036,      0.6046,     0.60561,     0.60661,     0.60761,     0.60861,     0.60961,     0.61061,     0.61161,     0.61261,     0.61361,     0.61461,     0.61562,     0.61662,     0.61762,     0.61862,     0.61962,     0.62062,     0.62162,     0.62262,     0.62362,\n",
       "           0.62462,     0.62563,     0.62663,     0.62763,     0.62863,     0.62963,     0.63063,     0.63163,     0.63263,     0.63363,     0.63463,     0.63564,     0.63664,     0.63764,     0.63864,     0.63964,     0.64064,     0.64164,     0.64264,     0.64364,     0.64464,     0.64565,     0.64665,     0.64765,\n",
       "           0.64865,     0.64965,     0.65065,     0.65165,     0.65265,     0.65365,     0.65465,     0.65566,     0.65666,     0.65766,     0.65866,     0.65966,     0.66066,     0.66166,     0.66266,     0.66366,     0.66466,     0.66567,     0.66667,     0.66767,     0.66867,     0.66967,     0.67067,     0.67167,\n",
       "           0.67267,     0.67367,     0.67467,     0.67568,     0.67668,     0.67768,     0.67868,     0.67968,     0.68068,     0.68168,     0.68268,     0.68368,     0.68468,     0.68569,     0.68669,     0.68769,     0.68869,     0.68969,     0.69069,     0.69169,     0.69269,     0.69369,     0.69469,      0.6957,\n",
       "            0.6967,      0.6977,      0.6987,      0.6997,      0.7007,      0.7017,      0.7027,      0.7037,      0.7047,     0.70571,     0.70671,     0.70771,     0.70871,     0.70971,     0.71071,     0.71171,     0.71271,     0.71371,     0.71471,     0.71572,     0.71672,     0.71772,     0.71872,     0.71972,\n",
       "           0.72072,     0.72172,     0.72272,     0.72372,     0.72472,     0.72573,     0.72673,     0.72773,     0.72873,     0.72973,     0.73073,     0.73173,     0.73273,     0.73373,     0.73473,     0.73574,     0.73674,     0.73774,     0.73874,     0.73974,     0.74074,     0.74174,     0.74274,     0.74374,\n",
       "           0.74474,     0.74575,     0.74675,     0.74775,     0.74875,     0.74975,     0.75075,     0.75175,     0.75275,     0.75375,     0.75475,     0.75576,     0.75676,     0.75776,     0.75876,     0.75976,     0.76076,     0.76176,     0.76276,     0.76376,     0.76476,     0.76577,     0.76677,     0.76777,\n",
       "           0.76877,     0.76977,     0.77077,     0.77177,     0.77277,     0.77377,     0.77477,     0.77578,     0.77678,     0.77778,     0.77878,     0.77978,     0.78078,     0.78178,     0.78278,     0.78378,     0.78478,     0.78579,     0.78679,     0.78779,     0.78879,     0.78979,     0.79079,     0.79179,\n",
       "           0.79279,     0.79379,     0.79479,      0.7958,      0.7968,      0.7978,      0.7988,      0.7998,      0.8008,      0.8018,      0.8028,      0.8038,      0.8048,     0.80581,     0.80681,     0.80781,     0.80881,     0.80981,     0.81081,     0.81181,     0.81281,     0.81381,     0.81481,     0.81582,\n",
       "           0.81682,     0.81782,     0.81882,     0.81982,     0.82082,     0.82182,     0.82282,     0.82382,     0.82482,     0.82583,     0.82683,     0.82783,     0.82883,     0.82983,     0.83083,     0.83183,     0.83283,     0.83383,     0.83483,     0.83584,     0.83684,     0.83784,     0.83884,     0.83984,\n",
       "           0.84084,     0.84184,     0.84284,     0.84384,     0.84484,     0.84585,     0.84685,     0.84785,     0.84885,     0.84985,     0.85085,     0.85185,     0.85285,     0.85385,     0.85485,     0.85586,     0.85686,     0.85786,     0.85886,     0.85986,     0.86086,     0.86186,     0.86286,     0.86386,\n",
       "           0.86486,     0.86587,     0.86687,     0.86787,     0.86887,     0.86987,     0.87087,     0.87187,     0.87287,     0.87387,     0.87487,     0.87588,     0.87688,     0.87788,     0.87888,     0.87988,     0.88088,     0.88188,     0.88288,     0.88388,     0.88488,     0.88589,     0.88689,     0.88789,\n",
       "           0.88889,     0.88989,     0.89089,     0.89189,     0.89289,     0.89389,     0.89489,      0.8959,      0.8969,      0.8979,      0.8989,      0.8999,      0.9009,      0.9019,      0.9029,      0.9039,      0.9049,     0.90591,     0.90691,     0.90791,     0.90891,     0.90991,     0.91091,     0.91191,\n",
       "           0.91291,     0.91391,     0.91491,     0.91592,     0.91692,     0.91792,     0.91892,     0.91992,     0.92092,     0.92192,     0.92292,     0.92392,     0.92492,     0.92593,     0.92693,     0.92793,     0.92893,     0.92993,     0.93093,     0.93193,     0.93293,     0.93393,     0.93493,     0.93594,\n",
       "           0.93694,     0.93794,     0.93894,     0.93994,     0.94094,     0.94194,     0.94294,     0.94394,     0.94494,     0.94595,     0.94695,     0.94795,     0.94895,     0.94995,     0.95095,     0.95195,     0.95295,     0.95395,     0.95495,     0.95596,     0.95696,     0.95796,     0.95896,     0.95996,\n",
       "           0.96096,     0.96196,     0.96296,     0.96396,     0.96496,     0.96597,     0.96697,     0.96797,     0.96897,     0.96997,     0.97097,     0.97197,     0.97297,     0.97397,     0.97497,     0.97598,     0.97698,     0.97798,     0.97898,     0.97998,     0.98098,     0.98198,     0.98298,     0.98398,\n",
       "           0.98498,     0.98599,     0.98699,     0.98799,     0.98899,     0.98999,     0.99099,     0.99199,     0.99299,     0.99399,     0.99499,       0.996,       0.997,       0.998,       0.999,           1]), array([[    0.96731,     0.96731,     0.96154,     0.95962,     0.95865,     0.95769,     0.95673,     0.95577,     0.95577,     0.95192,        0.95,     0.94904,     0.94904,     0.94615,     0.94615,     0.94615,     0.94519,     0.94519,     0.94423,     0.94327,     0.94231,     0.94135,     0.94135,\n",
       "            0.94135,     0.94135,     0.94135,     0.94135,     0.94135,     0.94135,      0.9404,     0.94038,     0.94038,     0.94038,     0.94038,     0.94038,     0.94038,      0.9375,      0.9375,      0.9375,      0.9375,      0.9375,      0.9375,      0.9375,      0.9375,      0.9375,      0.9375,\n",
       "            0.93654,     0.93558,     0.93558,     0.93558,     0.93558,     0.93558,     0.93365,     0.93365,     0.93365,     0.93365,     0.93365,     0.93365,     0.93365,     0.93269,     0.93269,     0.93173,     0.93085,     0.93077,     0.93045,     0.92981,     0.92981,     0.92981,     0.92981,\n",
       "            0.92981,     0.92981,     0.92788,     0.92788,     0.92692,     0.92596,     0.92596,     0.92596,     0.92596,     0.92596,     0.92596,     0.92596,     0.92588,       0.925,       0.925,       0.925,     0.92404,     0.92404,     0.92404,     0.92404,     0.92404,     0.92404,     0.92404,\n",
       "            0.92404,     0.92404,     0.92404,     0.92404,     0.92404,     0.92308,     0.92308,     0.92308,     0.92308,     0.92308,     0.92212,     0.92212,     0.92212,     0.92156,     0.92115,     0.92019,     0.92019,     0.92019,     0.92019,     0.92019,     0.92019,     0.92019,     0.92019,\n",
       "            0.92019,     0.91938,     0.91848,     0.91827,     0.91827,     0.91827,     0.91827,     0.91827,     0.91827,     0.91827,     0.91827,     0.91827,     0.91827,     0.91731,     0.91697,      0.9165,     0.91635,     0.91635,     0.91635,     0.91635,     0.91635,     0.91635,     0.91538,\n",
       "            0.91538,     0.91538,     0.91538,     0.91538,     0.91538,     0.91538,     0.91538,     0.91538,     0.91538,     0.91538,     0.91538,     0.91538,     0.91538,     0.91538,     0.91538,     0.91442,     0.91442,     0.91442,      0.9144,     0.91351,     0.91346,     0.91346,     0.91346,\n",
       "            0.91346,     0.91346,     0.91346,     0.91346,     0.91346,     0.91346,     0.91346,     0.91289,      0.9125,      0.9125,      0.9125,      0.9125,      0.9125,      0.9125,      0.9125,      0.9125,      0.9125,      0.9122,     0.91165,     0.91058,     0.91058,     0.91058,     0.91058,\n",
       "            0.91058,     0.91058,     0.91058,     0.91058,     0.91034,     0.90964,     0.90865,     0.90865,     0.90865,     0.90865,     0.90865,     0.90865,     0.90865,     0.90865,     0.90865,     0.90865,     0.90865,     0.90865,     0.90865,     0.90865,     0.90865,     0.90865,     0.90812,\n",
       "            0.90769,     0.90769,     0.90769,     0.90769,     0.90769,     0.90769,     0.90769,     0.90769,     0.90673,     0.90673,     0.90673,     0.90673,     0.90673,     0.90673,     0.90673,     0.90673,     0.90673,     0.90673,     0.90673,     0.90673,     0.90673,     0.90673,     0.90673,\n",
       "            0.90673,     0.90673,     0.90673,     0.90673,     0.90673,     0.90673,     0.90672,     0.90649,     0.90626,     0.90603,      0.9058,     0.90556,     0.90532,     0.90508,     0.90484,     0.90385,     0.90385,     0.90385,     0.90385,     0.90385,     0.90307,     0.90228,     0.90192,\n",
       "            0.90192,     0.90192,     0.90192,     0.90192,     0.90079,     0.90055,      0.9003,     0.90005,         0.9,         0.9,         0.9,         0.9,         0.9,         0.9,         0.9,         0.9,         0.9,         0.9,         0.9,         0.9,         0.9,         0.9,         0.9,\n",
       "                0.9,         0.9,         0.9,         0.9,         0.9,         0.9,         0.9,         0.9,         0.9,     0.89994,     0.89968,     0.89943,     0.89917,     0.89808,     0.89808,     0.89808,     0.89808,     0.89808,     0.89789,     0.89764,      0.8974,     0.89716,     0.89712,\n",
       "            0.89712,     0.89712,     0.89712,     0.89712,     0.89712,     0.89615,     0.89615,     0.89615,     0.89615,     0.89615,     0.89615,     0.89615,     0.89615,     0.89615,     0.89615,     0.89615,     0.89615,     0.89615,     0.89615,     0.89615,     0.89615,     0.89615,     0.89615,\n",
       "            0.89615,     0.89615,     0.89615,     0.89615,     0.89615,     0.89615,     0.89615,     0.89615,     0.89615,     0.89615,     0.89607,     0.89552,     0.89519,     0.89519,     0.89519,     0.89519,     0.89519,     0.89519,     0.89519,     0.89519,     0.89519,     0.89519,     0.89519,\n",
       "            0.89519,     0.89519,     0.89519,     0.89519,     0.89519,     0.89519,     0.89519,     0.89519,     0.89519,     0.89499,     0.89457,     0.89423,     0.89419,     0.89403,     0.89388,     0.89372,     0.89357,     0.89341,     0.89327,     0.89305,     0.89233,     0.89231,     0.89231,\n",
       "            0.89231,     0.89231,     0.89135,     0.89135,     0.89135,     0.89135,     0.89135,     0.89135,     0.89135,     0.89135,     0.89064,     0.89038,     0.89038,     0.89038,     0.89038,     0.88928,     0.88856,     0.88816,     0.88782,      0.8875,      0.8875,     0.88692,     0.88563,\n",
       "            0.88558,     0.88558,     0.88558,     0.88558,     0.88558,     0.88558,     0.88558,     0.88558,     0.88558,     0.88558,     0.88558,     0.88526,     0.88462,     0.88462,     0.88462,     0.88462,     0.88462,     0.88462,     0.88462,     0.88462,     0.88462,     0.88462,     0.88462,\n",
       "            0.88462,     0.88365,     0.88365,     0.88365,     0.88365,     0.88365,     0.88365,     0.88365,     0.88365,     0.88365,     0.88365,     0.88365,     0.88365,     0.88365,       0.882,     0.88173,     0.88173,     0.88173,     0.88173,     0.88173,     0.88173,     0.88173,     0.88077,\n",
       "            0.88077,     0.88077,     0.88077,     0.88077,     0.88077,     0.88077,     0.88077,      0.8803,     0.87885,     0.87885,     0.87885,     0.87834,     0.87762,     0.87699,     0.87596,     0.87596,     0.87596,     0.87596,     0.87596,     0.87596,     0.87587,     0.87566,     0.87544,\n",
       "            0.87523,     0.87501,     0.87473,     0.87444,     0.87415,     0.87404,     0.87404,     0.87404,     0.87404,     0.87404,     0.87384,     0.87316,     0.87273,     0.87233,     0.87192,     0.87147,     0.87115,     0.87115,     0.87051,      0.8693,     0.86827,     0.86827,     0.86827,\n",
       "            0.86827,     0.86827,     0.86809,     0.86748,     0.86731,     0.86731,     0.86731,     0.86706,     0.86658,     0.86584,     0.86538,     0.86538,     0.86538,     0.86538,     0.86538,     0.86538,     0.86538,     0.86538,     0.86538,     0.86538,     0.86441,     0.86418,     0.86396,\n",
       "            0.86374,     0.86352,     0.86346,     0.86326,     0.86283,     0.86244,     0.86221,     0.86197,     0.86174,     0.86132,      0.8602,     0.85962,     0.85962,     0.85962,     0.85962,     0.85893,     0.85854,      0.8584,     0.85827,     0.85813,     0.85799,     0.85786,     0.85772,\n",
       "            0.85752,     0.85729,     0.85707,     0.85684,      0.8562,     0.85476,     0.85391,     0.85252,     0.85206,     0.85192,     0.85192,     0.85156,     0.85117,     0.85096,     0.85096,     0.85084,      0.8506,     0.85035,     0.85011,     0.84984,     0.84956,     0.84928,     0.84904,\n",
       "            0.84869,     0.84833,     0.84709,      0.8468,     0.84652,     0.84623,       0.846,     0.84579,     0.84558,     0.84537,     0.84515,     0.84483,     0.84451,      0.8442,     0.84397,     0.84374,     0.84351,     0.84328,     0.84231,     0.84231,     0.84231,     0.84231,     0.84191,\n",
       "            0.84141,     0.84081,     0.84023,     0.83971,     0.83921,     0.83873,     0.83811,     0.83738,     0.83682,     0.83645,     0.83627,     0.83608,      0.8359,     0.83571,     0.83558,     0.83558,     0.83556,     0.83541,     0.83525,     0.83509,     0.83493,     0.83477,     0.83459,\n",
       "            0.83182,     0.83124,     0.83073,     0.83017,     0.82889,      0.8265,       0.826,     0.82532,     0.82399,     0.82385,      0.8237,     0.82356,     0.82341,     0.82327,     0.82312,     0.82205,     0.82189,     0.82172,     0.82155,     0.82138,     0.82122,     0.82101,     0.82077,\n",
       "            0.82054,     0.82031,     0.81994,     0.81945,     0.81799,     0.81731,     0.81717,     0.81647,     0.81531,      0.8152,     0.81509,     0.81498,     0.81486,     0.81475,     0.81464,     0.81453,     0.81422,     0.81219,     0.81171,     0.81101,     0.81058,     0.81058,     0.80808,\n",
       "            0.80744,     0.80695,     0.80623,     0.80481,     0.80481,     0.80481,     0.80449,     0.80383,     0.80362,     0.80341,      0.8032,       0.803,     0.80271,     0.80234,     0.80197,     0.80027,     0.79904,     0.79904,     0.79904,     0.79904,      0.7989,     0.79711,      0.7956,\n",
       "            0.79509,     0.79485,      0.7946,     0.79436,     0.79394,     0.79329,     0.79327,     0.79327,     0.79325,     0.79279,     0.79234,     0.79131,     0.79048,     0.78935,     0.78894,     0.78854,     0.78846,     0.78846,     0.78846,     0.78846,     0.78846,     0.78846,     0.78774,\n",
       "            0.78547,     0.78261,     0.78229,     0.78197,     0.78049,     0.77918,     0.77851,     0.77797,     0.77743,     0.77692,     0.77667,     0.77442,     0.77278,     0.77239,     0.77098,     0.77016,     0.76923,     0.76895,     0.76841,     0.76624,     0.76576,     0.76503,     0.76416,\n",
       "            0.76375,     0.76299,     0.76045,     0.75966,     0.75827,     0.75757,     0.75518,     0.75182,     0.75103,     0.75028,     0.74973,     0.74929,     0.74904,     0.74903,     0.74825,      0.7454,      0.7442,     0.74397,     0.74374,     0.74351,     0.74328,     0.74206,     0.74045,\n",
       "            0.73943,     0.73807,      0.7375,      0.7375,     0.73597,     0.73474,     0.73393,     0.73288,     0.73191,     0.73008,     0.72755,     0.72675,     0.72577,      0.7251,     0.72404,      0.7236,     0.72196,     0.71964,     0.71683,     0.71473,     0.71252,     0.71035,     0.70831,\n",
       "            0.70479,     0.70233,     0.70149,     0.70072,     0.69926,     0.69865,     0.69814,     0.69664,     0.69571,     0.69214,     0.69106,     0.69025,     0.68783,     0.68437,     0.68299,      0.6795,     0.67498,     0.67187,     0.66941,      0.6675,     0.66613,     0.66195,     0.65945,\n",
       "             0.6586,     0.65536,     0.65334,     0.65048,     0.64842,     0.64469,     0.64363,     0.64163,     0.63867,      0.6367,     0.63456,     0.63393,     0.63314,     0.63008,     0.62537,     0.62316,     0.62184,     0.61898,     0.61558,     0.61262,     0.60698,     0.60581,     0.60275,\n",
       "            0.59806,     0.59724,     0.59476,     0.59035,     0.58917,     0.58858,     0.58658,      0.5856,      0.5813,     0.57793,     0.57401,     0.57318,     0.56705,     0.56486,     0.56166,     0.55947,     0.55577,     0.55246,     0.55162,     0.55107,     0.54537,     0.54313,     0.54155,\n",
       "             0.5371,     0.53431,     0.53062,     0.52488,     0.52329,     0.52216,     0.51767,     0.51171,     0.50577,     0.50014,     0.49501,     0.48554,     0.48006,     0.47276,     0.46523,     0.46297,     0.45734,     0.45459,     0.45203,     0.44787,     0.44499,     0.44231,     0.43845,\n",
       "            0.43612,     0.43034,     0.42539,     0.42194,     0.41656,     0.40929,     0.40233,     0.39394,     0.39044,     0.38767,     0.38531,      0.3823,      0.3774,     0.37223,     0.36671,     0.36207,     0.35863,      0.3542,     0.34771,     0.34035,     0.33552,     0.33434,      0.3312,\n",
       "            0.32764,     0.32145,     0.31574,     0.31078,     0.30234,     0.29502,     0.28963,     0.28541,     0.28212,     0.27453,     0.26987,     0.26758,     0.26047,     0.25828,     0.25622,     0.25288,     0.24801,     0.24189,     0.23817,     0.23407,     0.22768,     0.22495,     0.22089,\n",
       "            0.21137,     0.20633,     0.20324,     0.19892,      0.1955,     0.19257,     0.18883,     0.18304,     0.17771,     0.17366,     0.17031,     0.16228,     0.15375,     0.14835,     0.14232,     0.13774,     0.13568,      0.1332,     0.12958,     0.12699,     0.12458,       0.119,     0.11731,\n",
       "            0.11678,     0.11594,     0.11367,     0.11054,     0.10974,     0.10788,     0.10425,     0.10233,     0.10057,    0.097345,    0.095302,    0.085262,    0.082918,    0.079372,    0.077815,    0.076908,    0.073263,    0.068077,    0.065985,    0.060081,    0.055186,    0.050786,    0.044843,\n",
       "           0.041272,    0.038645,    0.034944,    0.029262,    0.026381,    0.022468,    0.020065,    0.016568,    0.013078,   0.0092598,   0.0079382,   0.0071184,   0.0059495,   0.0042495,   0.0036162,   0.0030951,   0.0023625,   0.0016705,   0.0011635,           0,           0,           0,           0,\n",
       "                  0,           0,           0,           0,           0,           0,           0,           0,           0,           0,           0,           0,           0,           0,           0,           0,           0,           0,           0,           0,           0,           0,           0,\n",
       "                  0,           0,           0,           0,           0,           0,           0,           0,           0,           0,           0]]), 'Confidence', 'Recall']]\n",
       "fitness: np.float64(0.6895271810819402)\n",
       "keys: ['metrics/precision(B)', 'metrics/recall(B)', 'metrics/mAP50(B)', 'metrics/mAP50-95(B)']\n",
       "maps: array([     0.6621])\n",
       "names: {0: 'animal'}\n",
       "plot: True\n",
       "results_dict: {'metrics/precision(B)': np.float64(0.9410964877694569), 'metrics/recall(B)': np.float64(0.8756581301539595), 'metrics/mAP50(B)': np.float64(0.9363921688107619), 'metrics/mAP50-95(B)': np.float64(0.66209773800096), 'fitness': np.float64(0.6895271810819402)}\n",
       "save_dir: PosixPath('runs/detect/train5')\n",
       "speed: {'preprocess': 0.46207033509233164, 'inference': 2.716876365043021, 'loss': 0.0004289293121086865, 'postprocess': 0.5398303725604585}\n",
       "task: 'detect'"
      ]
     },
     "execution_count": 3,
     "metadata": {},
     "output_type": "execute_result"
    }
   ],
   "source": [
    "from ultralytics import YOLO\n",
    "\n",
    "# Load yolo11 medium model \n",
    "model = YOLO(\"yolo11m.pt\")\n",
    "\n",
    "'''\n",
    "Start training, args explained:\n",
    "imgsz set to 640 to match training data\n",
    "batch set to 8\n",
    "epochs set to 100 like default\n",
    "workers set to 0 to avoid freezing error\n",
    "device set to 0 to use cuda and train on gpu\n",
    "amp set to false to improve stability in performance especially since it performed worse when on\n",
    "plots generates and saves plots of training and validation metrics\n",
    "'''\n",
    "model.train(data = \"/home/jupyter-nareg/PEARC/wild_animal1-1/data.yaml\", imgsz = 640, batch = 8, epochs = 100, workers = 0, device = 0, amp = False, plots = True)"
   ]
  },
  {
   "cell_type": "code",
   "execution_count": 2,
   "id": "60c5cfef-5894-4629-8a6c-093ba017c962",
   "metadata": {},
   "outputs": [
    {
     "name": "stdout",
     "output_type": "stream",
     "text": [
      "Defaulting to user installation because normal site-packages is not writeable\n",
      "Requirement already satisfied: roboflow in /home/jupyter-nareg/.local/lib/python3.12/site-packages (1.1.51)\n",
      "Requirement already satisfied: certifi in /opt/tljh/user/lib/python3.12/site-packages (from roboflow) (2024.8.30)\n",
      "Requirement already satisfied: idna==3.7 in /home/jupyter-nareg/.local/lib/python3.12/site-packages (from roboflow) (3.7)\n",
      "Requirement already satisfied: cycler in /home/jupyter-nareg/.local/lib/python3.12/site-packages (from roboflow) (0.12.1)\n",
      "Requirement already satisfied: kiwisolver>=1.3.1 in /home/jupyter-nareg/.local/lib/python3.12/site-packages (from roboflow) (1.4.8)\n",
      "Requirement already satisfied: matplotlib in /home/jupyter-nareg/.local/lib/python3.12/site-packages (from roboflow) (3.10.0)\n",
      "Requirement already satisfied: numpy>=1.18.5 in /home/jupyter-nareg/.local/lib/python3.12/site-packages (from roboflow) (2.2.1)\n",
      "Requirement already satisfied: opencv-python-headless==4.10.0.84 in /home/jupyter-nareg/.local/lib/python3.12/site-packages (from roboflow) (4.10.0.84)\n",
      "Requirement already satisfied: Pillow>=7.1.2 in /home/jupyter-nareg/.local/lib/python3.12/site-packages (from roboflow) (11.1.0)\n",
      "Requirement already satisfied: python-dateutil in /opt/tljh/user/lib/python3.12/site-packages (from roboflow) (2.9.0.post0)\n",
      "Requirement already satisfied: python-dotenv in /home/jupyter-nareg/.local/lib/python3.12/site-packages (from roboflow) (1.0.1)\n",
      "Requirement already satisfied: requests in /opt/tljh/user/lib/python3.12/site-packages (from roboflow) (2.32.3)\n",
      "Requirement already satisfied: six in /opt/tljh/user/lib/python3.12/site-packages (from roboflow) (1.17.0)\n",
      "Requirement already satisfied: urllib3>=1.26.6 in /opt/tljh/user/lib/python3.12/site-packages (from roboflow) (2.2.3)\n",
      "Requirement already satisfied: tqdm>=4.41.0 in /opt/tljh/user/lib/python3.12/site-packages (from roboflow) (4.66.5)\n",
      "Requirement already satisfied: PyYAML>=5.3.1 in /opt/tljh/user/lib/python3.12/site-packages (from roboflow) (6.0.2)\n",
      "Requirement already satisfied: requests-toolbelt in /home/jupyter-nareg/.local/lib/python3.12/site-packages (from roboflow) (1.0.0)\n",
      "Requirement already satisfied: filetype in /home/jupyter-nareg/.local/lib/python3.12/site-packages (from roboflow) (1.2.0)\n",
      "Requirement already satisfied: contourpy>=1.0.1 in /home/jupyter-nareg/.local/lib/python3.12/site-packages (from matplotlib->roboflow) (1.3.1)\n",
      "Requirement already satisfied: fonttools>=4.22.0 in /home/jupyter-nareg/.local/lib/python3.12/site-packages (from matplotlib->roboflow) (4.55.3)\n",
      "Requirement already satisfied: packaging>=20.0 in /opt/tljh/user/lib/python3.12/site-packages (from matplotlib->roboflow) (24.1)\n",
      "Requirement already satisfied: pyparsing>=2.3.1 in /home/jupyter-nareg/.local/lib/python3.12/site-packages (from matplotlib->roboflow) (3.2.1)\n",
      "Requirement already satisfied: charset-normalizer<4,>=2 in /opt/tljh/user/lib/python3.12/site-packages (from requests->roboflow) (3.3.2)\n",
      "loading Roboflow workspace...\n",
      "loading Roboflow project...\n"
     ]
    },
    {
     "name": "stderr",
     "output_type": "stream",
     "text": [
      "Downloading Dataset Version Zip in wild_animal1-1 to yolov11:: 100%|██████████| 718230/718230 [00:07<00:00, 101442.63it/s]"
     ]
    },
    {
     "name": "stdout",
     "output_type": "stream",
     "text": [
      "\n"
     ]
    },
    {
     "name": "stderr",
     "output_type": "stream",
     "text": [
      "\n",
      "Extracting Dataset Version Zip to wild_animal1-1 in yolov11:: 100%|██████████| 19868/19868 [00:02<00:00, 7519.95it/s] \n"
     ]
    }
   ],
   "source": [
    "!pip install roboflow\n",
    "\n",
    "from roboflow import Roboflow\n",
    "rf = Roboflow(api_key=\"S7XOGrMmYFGywUDNaH19\")\n",
    "project = rf.workspace(\"cs320nvm\").project(\"wild_animal1-tkyj2\")\n",
    "version = project.version(1)\n",
    "dataset = version.download(\"yolov11\")\n",
    "                "
   ]
  }
 ],
 "metadata": {
  "kernelspec": {
   "display_name": "Python 3 (ipykernel)",
   "language": "python",
   "name": "python3"
  },
  "language_info": {
   "codemirror_mode": {
    "name": "ipython",
    "version": 3
   },
   "file_extension": ".py",
   "mimetype": "text/x-python",
   "name": "python",
   "nbconvert_exporter": "python",
   "pygments_lexer": "ipython3",
   "version": "3.12.6"
  }
 },
 "nbformat": 4,
 "nbformat_minor": 5
}
